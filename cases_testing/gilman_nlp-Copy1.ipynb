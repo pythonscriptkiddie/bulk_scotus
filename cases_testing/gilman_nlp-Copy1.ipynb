{
 "cells": [
  {
   "cell_type": "markdown",
   "metadata": {},
   "source": [
    "United States v. Gilman\n",
    "\n",
    "By Thomas Sullivan\n",
    "\n",
    "I chose this case at random. On Monday, 20 July 2020 I was practicing Python witb Blackstone, a new natural language processing (NLP) library for legal texts. It was developed by the Independent Council for Law Reporting of England and Wales. It therefore works for both English and American legal texts. I am using this tool to see what laws, entities, and topics are mentioned in each case.\n",
    "\n",
    "In testing out my code on this case, I found it is timely. The question here is: Can the government collect damages from an employee who has been held liable in a lawsuit, if the government has already paid out a settlemnt under the Federal Tort Claims Act. The Supreme Court said no, that most government employees cannot afford potentially serious legal liability so the government's remedy is to fire them.\n",
    "\n",
    "The Court notes that when Congress waived Sovereign Immunity under the Federal Tort Claims Act, they specified that a judgment against the United States bars any action against that employee. This does not extend to cases where the United States itself attempts to collect from an employee after losing a case. \n",
    "\n",
    "The Supreme Court did not have a direct precedent for this case, so they decided it based on equity and deference to Congress. "
   ]
  },
  {
   "cell_type": "code",
   "execution_count": 356,
   "metadata": {},
   "outputs": [],
   "source": [
    "#test using BlackstoneNLP\n",
    "\n",
    "#import standard library modules\n",
    "import sys\n",
    "from typing import List\n",
    "\n",
    "#modules from the community\n",
    "import spacy\n",
    "from dataclasses import dataclass #backported this module from 3.7\n",
    "#import lxml\n",
    "\n",
    "from spacy import displacy\n",
    "from blackstone.displacy_palette import ner_displacy_options\n",
    "\n",
    "#blackstone improved citations\n",
    "#from blackstone.pipeline.sentence_segmenter import SentenceSegmenter\n",
    "#from blackstone.rules import CITATION_PATTERNS\n",
    "\n",
    "#BeautifulSoup modules"
   ]
  },
  {
   "cell_type": "code",
   "execution_count": 357,
   "metadata": {},
   "outputs": [],
   "source": [
    "nlp = spacy.load('en_blackstone_proto') #the blackstone model\n",
    "\n",
    "#load sentence segmenter\n",
    "sentence_segmenter = SentenceSegmenter(nlp.vocab, CITATION_PATTERNS)\n",
    "nlp.add_pipe(sentence_segmenter, before=\"parser\")\n",
    "\n",
    "#nlp=spacy.load('en_core_web_sm') #the default spacy model"
   ]
  },
  {
   "cell_type": "code",
   "execution_count": 358,
   "metadata": {},
   "outputs": [],
   "source": [
    "#nlp=spacy.load('en_core_web_sm')"
   ]
  },
  {
   "cell_type": "code",
   "execution_count": 359,
   "metadata": {},
   "outputs": [],
   "source": [
    "with open('gilman.txt', 'r') as in_file:\n",
    "    gilman_data = in_file.read()\n",
    "\n",
    "#with open('us_v_gilman.json', 'r') as in_file:\n",
    "#    gilman = json.load(in_file)\n",
    "\n"
   ]
  },
  {
   "cell_type": "code",
   "execution_count": 360,
   "metadata": {},
   "outputs": [],
   "source": [
    "doc = nlp(gilman_data)"
   ]
  },
  {
   "cell_type": "code",
   "execution_count": 361,
   "metadata": {},
   "outputs": [
    {
     "name": "stdout",
     "output_type": "stream",
     "text": [
      "347 U.S. 507 CITATION\n",
      "695\n",
      " CITATION\n",
      "Federal Tort Claims Act,1 60 INSTRUMENT\n",
      "§ 1346 PROVISION\n",
      "§ 1346 PROVISION\n",
      "Tort Claims Act INSTRUMENT\n",
      "District Court COURT\n",
      "Darnell's JUDGE\n",
      "Court of Appeals COURT\n",
      "206 F.2d 846 CITATION\n",
      "346 U.S. 914 CITATION\n",
      "Tort Claims Act INSTRUMENT\n",
      "Tort Claims Act INSTRUMENT\n",
      "340 U.S. 543 CITATION\n",
      "Tort Claims Act INSTRUMENT\n",
      "Tort Claims Act INSTRUMENT\n",
      "28 U.S.C. § 2676 CASENAME\n",
      "28 U.S.C.A. § 2676 CASENAME\n",
      "§ 2672 PROVISION\n",
      "Tort Claims Act INSTRUMENT\n",
      "Tort Claims Act INSTRUMENT\n",
      "United States v. Standard Oil Co. CASENAME\n",
      "332 U.S. 301 CITATION\n",
      "10\n",
      " CITATION\n",
      "The Act INSTRUMENT\n",
      "chapter 171 PROVISION\n",
      "District Court COURT\n",
      "United States District Court COURT\n",
      "District Court COURT\n",
      "* * *' JUDGE\n",
      "section 1346(b) PROVISION\n",
      "Tort Claims Act INSTRUMENT\n",
      "Dalehite v. United States, CASENAME\n",
      "346 U.S. 15 CITATION\n",
      "28 U.S.C. § 2672 CASENAME\n",
      "28 U.S.C.A. § 2672 CASENAME\n",
      "§ 2672 PROVISION\n",
      "§ 2676 PROVISION\n",
      "Shea's JUDGE\n",
      "H.R. 6463 PROVISION\n",
      "S.Rep. CASENAME\n"
     ]
    }
   ],
   "source": [
    "#gil2 = bx(gilman['html'])\n",
    "for ent in doc.ents:\n",
    "    print(ent.text, ent.label_)\n",
    "    \n"
   ]
  },
  {
   "cell_type": "code",
   "execution_count": 362,
   "metadata": {},
   "outputs": [
    {
     "data": {
      "text/html": [
       "<div class=\"entities\" style=\"line-height: 2.5; direction: ltr\">\n",
       "<mark class=\"entity\" style=\"background: #67328b; padding: 0.45em 0.6em; margin: 0 0.25em; line-height: 1; border-radius: 0.35em; box-decoration-break: clone; -webkit-box-decoration-break: clone\">\n",
       "    347 U.S. 507\n",
       "    <span style=\"font-size: 0.8em; font-weight: bold; line-height: 1; border-radius: 0.35em; text-transform: uppercase; vertical-align: middle; margin-left: 0.5rem\">CITATION</span>\n",
       "</mark>\n",
       "</br>74 S.Ct. \n",
       "<mark class=\"entity\" style=\"background: #67328b; padding: 0.45em 0.6em; margin: 0 0.25em; line-height: 1; border-radius: 0.35em; box-decoration-break: clone; -webkit-box-decoration-break: clone\">\n",
       "    695\n",
       "\n",
       "    <span style=\"font-size: 0.8em; font-weight: bold; line-height: 1; border-radius: 0.35em; text-transform: uppercase; vertical-align: middle; margin-left: 0.5rem\">CITATION</span>\n",
       "</mark>\n",
       "98 L.Ed. 898</br>UNITED STATESv.GILMAN.</br>No. 449.</br>Argued March 10, 11, 1954.</br>Decided May 17, 1954.</br></br>Mr.</br>Paul A. Sweeney, Washington, D.C., for petitioner.</br>Mr. William C. Wetherbee, Los Angeles, Cal., for respondent.</br>Mr. Justice DOUGLAS delivered the opinion of the Court.</br></br></br>1</br>The single question in the case is whether the United States may recover indemnity from one of its employees after it has been held liable under the \n",
       "<mark class=\"entity\" style=\"background: #6c63a5; padding: 0.45em 0.6em; margin: 0 0.25em; line-height: 1; border-radius: 0.35em; box-decoration-break: clone; -webkit-box-decoration-break: clone\">\n",
       "    Federal Tort Claims Act,1 60\n",
       "    <span style=\"font-size: 0.8em; font-weight: bold; line-height: 1; border-radius: 0.35em; text-transform: uppercase; vertical-align: middle; margin-left: 0.5rem\">INSTRUMENT</span>\n",
       "</mark>\n",
       " Stat. 842, 28 U.S.C. §\n",
       "<mark class=\"entity\" style=\"background: #007bac; padding: 0.45em 0.6em; margin: 0 0.25em; line-height: 1; border-radius: 0.35em; box-decoration-break: clone; -webkit-box-decoration-break: clone\">\n",
       "    § 1346\n",
       "    <span style=\"font-size: 0.8em; font-weight: bold; line-height: 1; border-radius: 0.35em; text-transform: uppercase; vertical-align: middle; margin-left: 0.5rem\">PROVISION</span>\n",
       "</mark>\n",
       ", 2671 et seq., 28 U.S.C.A. §\n",
       "<mark class=\"entity\" style=\"background: #007bac; padding: 0.45em 0.6em; margin: 0 0.25em; line-height: 1; border-radius: 0.35em; box-decoration-break: clone; -webkit-box-decoration-break: clone\">\n",
       "    § 1346\n",
       "    <span style=\"font-size: 0.8em; font-weight: bold; line-height: 1; border-radius: 0.35em; text-transform: uppercase; vertical-align: middle; margin-left: 0.5rem\">PROVISION</span>\n",
       "</mark>\n",
       ", 2671 et seq., for the negligence of the employee.</br></br></br>2</br>Respondent, an employee of the United States, had a collision with the car of one Darnell, while respondent was driving a government automobile. Darnell sued the United States under the \n",
       "<mark class=\"entity\" style=\"background: #6c63a5; padding: 0.45em 0.6em; margin: 0 0.25em; line-height: 1; border-radius: 0.35em; box-decoration-break: clone; -webkit-box-decoration-break: clone\">\n",
       "    Tort Claims Act\n",
       "    <span style=\"font-size: 0.8em; font-weight: bold; line-height: 1; border-radius: 0.35em; text-transform: uppercase; vertical-align: middle; margin-left: 0.5rem\">INSTRUMENT</span>\n",
       "</mark>\n",
       ". The United States filed a third-party complaint against respondent, asking that if it should be held liable to Darnell, it have indemnity from respondent. The \n",
       "<mark class=\"entity\" style=\"background: #fcd548; padding: 0.45em 0.6em; margin: 0 0.25em; line-height: 1; border-radius: 0.35em; box-decoration-break: clone; -webkit-box-decoration-break: clone\">\n",
       "    District Court\n",
       "    <span style=\"font-size: 0.8em; font-weight: bold; line-height: 1; border-radius: 0.35em; text-transform: uppercase; vertical-align: middle; margin-left: 0.5rem\">COURT</span>\n",
       "</mark>\n",
       " found that \n",
       "<mark class=\"entity\" style=\"background: #00a594; padding: 0.45em 0.6em; margin: 0 0.25em; line-height: 1; border-radius: 0.35em; box-decoration-break: clone; -webkit-box-decoration-break: clone\">\n",
       "    Darnell's\n",
       "    <span style=\"font-size: 0.8em; font-weight: bold; line-height: 1; border-radius: 0.35em; text-transform: uppercase; vertical-align: middle; margin-left: 0.5rem\">JUDGE</span>\n",
       "</mark>\n",
       " injuries were caused solely by the negligence of respondent, acting within the scope of his employment. It entered judgment against the United States for $5,500 and judgment over for the United States in the same amount. The \n",
       "<mark class=\"entity\" style=\"background: #fcd548; padding: 0.45em 0.6em; margin: 0 0.25em; line-height: 1; border-radius: 0.35em; box-decoration-break: clone; -webkit-box-decoration-break: clone\">\n",
       "    Court of Appeals\n",
       "    <span style=\"font-size: 0.8em; font-weight: bold; line-height: 1; border-radius: 0.35em; text-transform: uppercase; vertical-align: middle; margin-left: 0.5rem\">COURT</span>\n",
       "</mark>\n",
       " reversed the judgment against respondent by a divided vote. \n",
       "<mark class=\"entity\" style=\"background: #67328b; padding: 0.45em 0.6em; margin: 0 0.25em; line-height: 1; border-radius: 0.35em; box-decoration-break: clone; -webkit-box-decoration-break: clone\">\n",
       "    206 F.2d 846\n",
       "    <span style=\"font-size: 0.8em; font-weight: bold; line-height: 1; border-radius: 0.35em; text-transform: uppercase; vertical-align: middle; margin-left: 0.5rem\">CITATION</span>\n",
       "</mark>\n",
       ". The case is here on writ of certiorari. \n",
       "<mark class=\"entity\" style=\"background: #67328b; padding: 0.45em 0.6em; margin: 0 0.25em; line-height: 1; border-radius: 0.35em; box-decoration-break: clone; -webkit-box-decoration-break: clone\">\n",
       "    346 U.S. 914\n",
       "    <span style=\"font-size: 0.8em; font-weight: bold; line-height: 1; border-radius: 0.35em; text-transform: uppercase; vertical-align: middle; margin-left: 0.5rem\">CITATION</span>\n",
       "</mark>\n",
       ", 74 S.Ct. 275.</br></br></br>3</br>Petitioner's argument is that the right of indemnity, though not expressly granted by the \n",
       "<mark class=\"entity\" style=\"background: #6c63a5; padding: 0.45em 0.6em; margin: 0 0.25em; line-height: 1; border-radius: 0.35em; box-decoration-break: clone; -webkit-box-decoration-break: clone\">\n",
       "    Tort Claims Act\n",
       "    <span style=\"font-size: 0.8em; font-weight: bold; line-height: 1; border-radius: 0.35em; text-transform: uppercase; vertical-align: middle; margin-left: 0.5rem\">INSTRUMENT</span>\n",
       "</mark>\n",
       ", is to be implied. A private employer, it is said, has a common-law right of indemnity against an employee whose negligence has made the employer liable. The \n",
       "<mark class=\"entity\" style=\"background: #6c63a5; padding: 0.45em 0.6em; margin: 0 0.25em; line-height: 1; border-radius: 0.35em; box-decoration-break: clone; -webkit-box-decoration-break: clone\">\n",
       "    Tort Claims Act\n",
       "    <span style=\"font-size: 0.8em; font-weight: bold; line-height: 1; border-radius: 0.35em; text-transform: uppercase; vertical-align: middle; margin-left: 0.5rem\">INSTRUMENT</span>\n",
       "</mark>\n",
       ", by imposing liability on the United States for the negligent acts of its employees, has placed it in the general position of a private employer. Therefore, it should have the comparable right of indemnity against the negligent employee which private employers have. United States v. Yellow Cab Co., \n",
       "<mark class=\"entity\" style=\"background: #67328b; padding: 0.45em 0.6em; margin: 0 0.25em; line-height: 1; border-radius: 0.35em; box-decoration-break: clone; -webkit-box-decoration-break: clone\">\n",
       "    340 U.S. 543\n",
       "    <span style=\"font-size: 0.8em; font-weight: bold; line-height: 1; border-radius: 0.35em; text-transform: uppercase; vertical-align: middle; margin-left: 0.5rem\">CITATION</span>\n",
       "</mark>\n",
       ", 71 S.Ct. 399, 95 L.Ed. 523, is said to show the way. For there we held that the United States could be sued as a third-party defendant for contributions claimed by a joint tort-feasor, though no specific provision of the \n",
       "<mark class=\"entity\" style=\"background: #6c63a5; padding: 0.45em 0.6em; margin: 0 0.25em; line-height: 1; border-radius: 0.35em; box-decoration-break: clone; -webkit-box-decoration-break: clone\">\n",
       "    Tort Claims Act\n",
       "    <span style=\"font-size: 0.8em; font-weight: bold; line-height: 1; border-radius: 0.35em; text-transform: uppercase; vertical-align: middle; margin-left: 0.5rem\">INSTRUMENT</span>\n",
       "</mark>\n",
       " provided for such suits.</br></br></br>4</br>In that case, however, we were dealing with an established type of liability, which was within the broad sweep of the claims for which the United States had agreed to stand liable. Since the claim was within the class covered by the waiver of sovereign immunity, the Court refused to restrict its enforcement to separate actions for contribution.</br></br></br>5</br>The present case is quite different. We deal not with the liability of the United States, but with the liability of its employees. The \n",
       "<mark class=\"entity\" style=\"background: #6c63a5; padding: 0.45em 0.6em; margin: 0 0.25em; line-height: 1; border-radius: 0.35em; box-decoration-break: clone; -webkit-box-decoration-break: clone\">\n",
       "    Tort Claims Act\n",
       "    <span style=\"font-size: 0.8em; font-weight: bold; line-height: 1; border-radius: 0.35em; text-transform: uppercase; vertical-align: middle; margin-left: 0.5rem\">INSTRUMENT</span>\n",
       "</mark>\n",
       " does not touch the liability of the employees except in one respect: by \n",
       "<mark class=\"entity\" style=\"background: #da3650; padding: 0.45em 0.6em; margin: 0 0.25em; line-height: 1; border-radius: 0.35em; box-decoration-break: clone; -webkit-box-decoration-break: clone\">\n",
       "    28 U.S.C. § 2676\n",
       "    <span style=\"font-size: 0.8em; font-weight: bold; line-height: 1; border-radius: 0.35em; text-transform: uppercase; vertical-align: middle; margin-left: 0.5rem\">CASENAME</span>\n",
       "</mark>\n",
       ", \n",
       "<mark class=\"entity\" style=\"background: #da3650; padding: 0.45em 0.6em; margin: 0 0.25em; line-height: 1; border-radius: 0.35em; box-decoration-break: clone; -webkit-box-decoration-break: clone\">\n",
       "    28 U.S.C.A. § 2676\n",
       "    <span style=\"font-size: 0.8em; font-weight: bold; line-height: 1; border-radius: 0.35em; text-transform: uppercase; vertical-align: middle; margin-left: 0.5rem\">CASENAME</span>\n",
       "</mark>\n",
       ", it makes the judgment against the United States 'a complete bar' to any action by the claimant against the employee. And see \n",
       "<mark class=\"entity\" style=\"background: #007bac; padding: 0.45em 0.6em; margin: 0 0.25em; line-height: 1; border-radius: 0.35em; box-decoration-break: clone; -webkit-box-decoration-break: clone\">\n",
       "    § 2672\n",
       "    <span style=\"font-size: 0.8em; font-weight: bold; line-height: 1; border-radius: 0.35em; text-transform: uppercase; vertical-align: middle; margin-left: 0.5rem\">PROVISION</span>\n",
       "</mark>\n",
       ".</br></br></br>6</br>The relations between the United States and its employees have presented a myriad of problems with which the Congress over the years has dealt. Tenure, retirement, discharge, veterans' preferences, the responsibility of the United States to some employees for negligent acts of other employees—these are a few of the aspects of the problem on which Congress has legislative. Government employment gives rise to policy questions of great import, both to the employees and to the Executive and Legislative Branches. On the employee side are questions of considerable import. Discipline of the employee, the exactions which may be made of him, the merits or demerits he may suffer, the rate of his promotion are of great consequence to those who make government service their career. The right of the employer to sue the employee is a form of discipline. Perhaps the suits which would be instituted under the rule which petitioner asks would mostly be brought only when the employee carried insurance. But the decision we could fashion could have no such limitations, since we deal only with a rule of indemnity which is utterly independent of any underwriting of the liability. Moreover, the suits that would be brought would haul the employee to court and require him to find a lawyer, to face his employer's charge, and to submit to the ordeal of a trial. The time out for the trial and its preparation, plus the out-of-pocket expenses, might well impose on the employee a heavier financial burden than the loss of his seniority or a demotion in rank. When the United States sues an employee and takes him to court, it lays the heavy hand of discipline on him, as onerous to the employee perhaps as any measure the employer might take, except discharge itself.</br></br></br>7</br>On the government side are questions of employee morale and fiscal policy. We have no way of knowing what the impact of the rule of indemnity we are asked to create might be. But we do know the question has serious aspects—considerations that pertain to the financial ability of employees, to their efficiency, to their morale. These are all important to the Executive Branch. The financial burden placed on the United States by the \n",
       "<mark class=\"entity\" style=\"background: #6c63a5; padding: 0.45em 0.6em; margin: 0 0.25em; line-height: 1; border-radius: 0.35em; box-decoration-break: clone; -webkit-box-decoration-break: clone\">\n",
       "    Tort Claims Act\n",
       "    <span style=\"font-size: 0.8em; font-weight: bold; line-height: 1; border-radius: 0.35em; text-transform: uppercase; vertical-align: middle; margin-left: 0.5rem\">INSTRUMENT</span>\n",
       "</mark>\n",
       " also raises important questions of fiscal policy. A part of that fiscal problem is the question of reimbursement of the United States for the losses it suffers as a result of the waiver of its sovereign immunity. Perhaps the losses suffered are so great that government employees should be required to carry part of the burden. Perhaps the cost in the morale and efficiency of employees would be too high a price to pay for the rule of indemnity the petitioner now asks us to write into the \n",
       "<mark class=\"entity\" style=\"background: #6c63a5; padding: 0.45em 0.6em; margin: 0 0.25em; line-height: 1; border-radius: 0.35em; box-decoration-break: clone; -webkit-box-decoration-break: clone\">\n",
       "    Tort Claims Act\n",
       "    <span style=\"font-size: 0.8em; font-weight: bold; line-height: 1; border-radius: 0.35em; text-transform: uppercase; vertical-align: middle; margin-left: 0.5rem\">INSTRUMENT</span>\n",
       "</mark>\n",
       ".</br></br></br>8</br>We had an analogous problem before us in \n",
       "<mark class=\"entity\" style=\"background: #da3650; padding: 0.45em 0.6em; margin: 0 0.25em; line-height: 1; border-radius: 0.35em; box-decoration-break: clone; -webkit-box-decoration-break: clone\">\n",
       "    United States v. Standard Oil Co.\n",
       "    <span style=\"font-size: 0.8em; font-weight: bold; line-height: 1; border-radius: 0.35em; text-transform: uppercase; vertical-align: middle; margin-left: 0.5rem\">CASENAME</span>\n",
       "</mark>\n",
       ", \n",
       "<mark class=\"entity\" style=\"background: #67328b; padding: 0.45em 0.6em; margin: 0 0.25em; line-height: 1; border-radius: 0.35em; box-decoration-break: clone; -webkit-box-decoration-break: clone\">\n",
       "    332 U.S. 301\n",
       "    <span style=\"font-size: 0.8em; font-weight: bold; line-height: 1; border-radius: 0.35em; text-transform: uppercase; vertical-align: middle; margin-left: 0.5rem\">CITATION</span>\n",
       "</mark>\n",
       ", 67 S.Ct. 1604, 91 L.Ed. 2067, where the United States sued the owner and driver of a truck for the negligent injury of a soldier in the Army of the United States, claiming damages for loss of the soldier's service during the period of his disability. We were asked to extend the common-law action of per quod servitium amisit to the government-soldier relation. We declined stating that the problem involved federal fiscal affairs over which Congress, not the Court, should formulate the policy.</br></br></br>9</br>The reasons for following that course in the present case are even more compelling. Here a complex of relations between federal agencies and their staffs is involved. Moreover, the claim now asserted, though the product of a law Congress passed, is a matter on which Congress has not taken a position. It presents questions of policy on which Congress has not spoken.2 The selection of that policy which is most advantageous to the whole involves a host of considerations that must be weighed and appraised. That function is more appropriately for those who write the laws, rather than for those who interpret them.</br></br></br>\n",
       "<mark class=\"entity\" style=\"background: #67328b; padding: 0.45em 0.6em; margin: 0 0.25em; line-height: 1; border-radius: 0.35em; box-decoration-break: clone; -webkit-box-decoration-break: clone\">\n",
       "    10\n",
       "\n",
       "    <span style=\"font-size: 0.8em; font-weight: bold; line-height: 1; border-radius: 0.35em; text-transform: uppercase; vertical-align: middle; margin-left: 0.5rem\">CITATION</span>\n",
       "</mark>\n",
       "Affirmed.</br></br></br></br>1</br> \n",
       "<mark class=\"entity\" style=\"background: #6c63a5; padding: 0.45em 0.6em; margin: 0 0.25em; line-height: 1; border-radius: 0.35em; box-decoration-break: clone; -webkit-box-decoration-break: clone\">\n",
       "    The Act\n",
       "    <span style=\"font-size: 0.8em; font-weight: bold; line-height: 1; border-radius: 0.35em; text-transform: uppercase; vertical-align: middle; margin-left: 0.5rem\">INSTRUMENT</span>\n",
       "</mark>\n",
       " provides in pertinent part as follows:</br>Sec. 1346. (b) 'Subject to the provisions of \n",
       "<mark class=\"entity\" style=\"background: #007bac; padding: 0.45em 0.6em; margin: 0 0.25em; line-height: 1; border-radius: 0.35em; box-decoration-break: clone; -webkit-box-decoration-break: clone\">\n",
       "    chapter 171\n",
       "    <span style=\"font-size: 0.8em; font-weight: bold; line-height: 1; border-radius: 0.35em; text-transform: uppercase; vertical-align: middle; margin-left: 0.5rem\">PROVISION</span>\n",
       "</mark>\n",
       " of this title, the district courts, together with the \n",
       "<mark class=\"entity\" style=\"background: #fcd548; padding: 0.45em 0.6em; margin: 0 0.25em; line-height: 1; border-radius: 0.35em; box-decoration-break: clone; -webkit-box-decoration-break: clone\">\n",
       "    District Court\n",
       "    <span style=\"font-size: 0.8em; font-weight: bold; line-height: 1; border-radius: 0.35em; text-transform: uppercase; vertical-align: middle; margin-left: 0.5rem\">COURT</span>\n",
       "</mark>\n",
       " for the Territory of Alaska, the \n",
       "<mark class=\"entity\" style=\"background: #fcd548; padding: 0.45em 0.6em; margin: 0 0.25em; line-height: 1; border-radius: 0.35em; box-decoration-break: clone; -webkit-box-decoration-break: clone\">\n",
       "    United States District Court\n",
       "    <span style=\"font-size: 0.8em; font-weight: bold; line-height: 1; border-radius: 0.35em; text-transform: uppercase; vertical-align: middle; margin-left: 0.5rem\">COURT</span>\n",
       "</mark>\n",
       " for the District of the Canal Zone and the \n",
       "<mark class=\"entity\" style=\"background: #fcd548; padding: 0.45em 0.6em; margin: 0 0.25em; line-height: 1; border-radius: 0.35em; box-decoration-break: clone; -webkit-box-decoration-break: clone\">\n",
       "    District Court\n",
       "    <span style=\"font-size: 0.8em; font-weight: bold; line-height: 1; border-radius: 0.35em; text-transform: uppercase; vertical-align: middle; margin-left: 0.5rem\">COURT</span>\n",
       "</mark>\n",
       " of the Virgin Islands, shall have exclusive jurisdiction of civil actions on claims against the United States, for money damages, accruing on and after January 1, 1945, for injury or loss of property, or personal injury or death caused by the negligent or wrongful act or omission of any employee of the Government while acting within the scope of his office or employment, under circumstances where the United States, if a private person, would be liable to the claimant in accordance with the law of the place where the act or omission occurred.'</br>Sec. 2674. 'The United States shall be liable, respecting the provisions of this title relating to tort claims, in the same manner and to the same extent as a private individual under like circumstances, but shall not be liable for interest prior to judgment or for punitive damages. \n",
       "<mark class=\"entity\" style=\"background: #00a594; padding: 0.45em 0.6em; margin: 0 0.25em; line-height: 1; border-radius: 0.35em; box-decoration-break: clone; -webkit-box-decoration-break: clone\">\n",
       "    * * *'\n",
       "    <span style=\"font-size: 0.8em; font-weight: bold; line-height: 1; border-radius: 0.35em; text-transform: uppercase; vertical-align: middle; margin-left: 0.5rem\">JUDGE</span>\n",
       "</mark>\n",
       "</br>Sec. 2676. 'The judgment in an action under \n",
       "<mark class=\"entity\" style=\"background: #007bac; padding: 0.45em 0.6em; margin: 0 0.25em; line-height: 1; border-radius: 0.35em; box-decoration-break: clone; -webkit-box-decoration-break: clone\">\n",
       "    section 1346(b)\n",
       "    <span style=\"font-size: 0.8em; font-weight: bold; line-height: 1; border-radius: 0.35em; text-transform: uppercase; vertical-align: middle; margin-left: 0.5rem\">PROVISION</span>\n",
       "</mark>\n",
       " of this title shall constitute a complete bar to any action by the claimant, by reason of the same subject matter, against the employee of the government whose act or omission gave rise to the claim.'</br></br></br>2</br> Though the legislative history of the Act is not too helpful on this issue, such indications as there are point toward the result we reach. The Court recently made an extensive review of the history of the \n",
       "<mark class=\"entity\" style=\"background: #6c63a5; padding: 0.45em 0.6em; margin: 0 0.25em; line-height: 1; border-radius: 0.35em; box-decoration-break: clone; -webkit-box-decoration-break: clone\">\n",
       "    Tort Claims Act\n",
       "    <span style=\"font-size: 0.8em; font-weight: bold; line-height: 1; border-radius: 0.35em; text-transform: uppercase; vertical-align: middle; margin-left: 0.5rem\">INSTRUMENT</span>\n",
       "</mark>\n",
       " in \n",
       "<mark class=\"entity\" style=\"background: #da3650; padding: 0.45em 0.6em; margin: 0 0.25em; line-height: 1; border-radius: 0.35em; box-decoration-break: clone; -webkit-box-decoration-break: clone\">\n",
       "    Dalehite v. United States,\n",
       "    <span style=\"font-size: 0.8em; font-weight: bold; line-height: 1; border-radius: 0.35em; text-transform: uppercase; vertical-align: middle; margin-left: 0.5rem\">CASENAME</span>\n",
       "</mark>\n",
       " \n",
       "<mark class=\"entity\" style=\"background: #67328b; padding: 0.45em 0.6em; margin: 0 0.25em; line-height: 1; border-radius: 0.35em; box-decoration-break: clone; -webkit-box-decoration-break: clone\">\n",
       "    346 U.S. 15\n",
       "    <span style=\"font-size: 0.8em; font-weight: bold; line-height: 1; border-radius: 0.35em; text-transform: uppercase; vertical-align: middle; margin-left: 0.5rem\">CITATION</span>\n",
       "</mark>\n",
       ", 24—30, 73 S.Ct. 956, 962, 965, 97 L.Ed. 1427. As there explained, much of its relevant history appears in the Seventy-seventh Congress, rather than in the Seventy-ninth Congress, which enacted it. In the Seventy-seventh Congress the bill took substantially the form in which it was finally enacted by the Seventh-ninth Congress.</br>At the hearings before the House Judiciary Committee of the Seventy-seventh Congress, the question of the liability of government employees arose. Mr. Francis M. Shea, then Assistant Attorney General, explained the Government's position. In discussing the provision for administrative settlement of small claims (which is now \n",
       "<mark class=\"entity\" style=\"background: #da3650; padding: 0.45em 0.6em; margin: 0 0.25em; line-height: 1; border-radius: 0.35em; box-decoration-break: clone; -webkit-box-decoration-break: clone\">\n",
       "    28 U.S.C. § 2672\n",
       "    <span style=\"font-size: 0.8em; font-weight: bold; line-height: 1; border-radius: 0.35em; text-transform: uppercase; vertical-align: middle; margin-left: 0.5rem\">CASENAME</span>\n",
       "</mark>\n",
       ", \n",
       "<mark class=\"entity\" style=\"background: #da3650; padding: 0.45em 0.6em; margin: 0 0.25em; line-height: 1; border-radius: 0.35em; box-decoration-break: clone; -webkit-box-decoration-break: clone\">\n",
       "    28 U.S.C.A. § 2672\n",
       "    <span style=\"font-size: 0.8em; font-weight: bold; line-height: 1; border-radius: 0.35em; text-transform: uppercase; vertical-align: middle; margin-left: 0.5rem\">CASENAME</span>\n",
       "</mark>\n",
       "), Mr. Shea was questioned concerning the clause under which acceptance of an award by the claimant constitutes a release of all claims against the employee, as well as against the United States. The present \n",
       "<mark class=\"entity\" style=\"background: #007bac; padding: 0.45em 0.6em; margin: 0 0.25em; line-height: 1; border-radius: 0.35em; box-decoration-break: clone; -webkit-box-decoration-break: clone\">\n",
       "    § 2672\n",
       "    <span style=\"font-size: 0.8em; font-weight: bold; line-height: 1; border-radius: 0.35em; text-transform: uppercase; vertical-align: middle; margin-left: 0.5rem\">PROVISION</span>\n",
       "</mark>\n",
       " has much the same effect as \n",
       "<mark class=\"entity\" style=\"background: #007bac; padding: 0.45em 0.6em; margin: 0 0.25em; line-height: 1; border-radius: 0.35em; box-decoration-break: clone; -webkit-box-decoration-break: clone\">\n",
       "    § 2676\n",
       "    <span style=\"font-size: 0.8em; font-weight: bold; line-height: 1; border-radius: 0.35em; text-transform: uppercase; vertical-align: middle; margin-left: 0.5rem\">PROVISION</span>\n",
       "</mark>\n",
       ", which makes a judgment against the United States a bar to action against the employee. See note 1, supra. Mr. \n",
       "<mark class=\"entity\" style=\"background: #00a594; padding: 0.45em 0.6em; margin: 0 0.25em; line-height: 1; border-radius: 0.35em; box-decoration-break: clone; -webkit-box-decoration-break: clone\">\n",
       "    Shea's\n",
       "    <span style=\"font-size: 0.8em; font-weight: bold; line-height: 1; border-radius: 0.35em; text-transform: uppercase; vertical-align: middle; margin-left: 0.5rem\">JUDGE</span>\n",
       "</mark>\n",
       " statements concerning the administrative settlement provision therefore have some relevance to the issue in the present case.</br>'Mr. Springer. I would like to direct your attention, Mr. Shea, to line 19. Why do you provide this acceptance of the award as constituting a bar to the claim against the employee? Is that the intention of the provision, and what is the ultimate purpose of it?</br>'Mr. Shea. * * * It has been found that the Government, through the Department of Justice, is constantly being called on by the heads of the various agencies to go in and defend, we will say, a person who is driving a mail truck when suit is brought against him for damages or injuries caused while he was operating the truck within the scope of his duties. Allegations of negligence are usually made. It has been found, over long years of experience, that unless the Government is willing to go in and defend such persons the consequence is a very real attack upon the morale of the services. Most of these persons are not in a position to stand or defend large damage suits, and they are of course not generally in a position to secure the kind of insurance which one would if one were driving for himself.</br>'If the Government has satisfied a claim which is made on account of a collision between a truck carrying mail and a private car, that should, in our judgment, be the end of it. After the claimant has obtained satisfaction of his claim from the Government, either by a judgment or by an administrative award, he should not be able to turn around and sue the driver of the truck. If he could sue the driver of the truck, we would have to go in and defend the driver in the suit brought against him, and there will thus be continued a very substantial burden which the Government has had to bear in conducting the defense of post-office drivers and other Government employees.</br>'Mr. McLaughlin. Have you considered the practice followed by large corporations and railway companies with respect to defense of employees who are joined as defendants in negligence actions?</br>'Mr. Shea. I should think that what ordinarily happens in the case of an accident caused by a driver for a big corporation is that suit is brought jointly against the two, and usually it is satisfied by the corporation, and then ordinarily the corporation's remedy against the driver is to fire him if he is negligent too often. Ordinarily the corporations cover such risks by insurance, which is paid for by the employer, I think.</br>'The Chairman. Mr. Shea, you are discussing and directing your remarks to the matter where, if a person is injured and files a claim against the Government and the Government satisfies that claim, that is the end of the claim against anybody?</br>'Mr. Shea. That is right.</br>'The Chairman. What is the arrangement when the Government has an employee who is guilty of gross negligence and injury results? Is there any requirement that that employee should in any way respond to the Government if it has to pay for the injury, in the event of gross negligence?</br>'Mr. Shea. Not if he is a Government employee. Under those circumstances, the remedy is to fire the employee.</br>'Mr. McLaughlin. No right of subrogation is set up?</br>'Mr. Shea. Not against the employee.'</br>See Hearings before the House Committee on the Judiciary on H.R. 5373 and \n",
       "<mark class=\"entity\" style=\"background: #007bac; padding: 0.45em 0.6em; margin: 0 0.25em; line-height: 1; border-radius: 0.35em; box-decoration-break: clone; -webkit-box-decoration-break: clone\">\n",
       "    H.R. 6463\n",
       "    <span style=\"font-size: 0.8em; font-weight: bold; line-height: 1; border-radius: 0.35em; text-transform: uppercase; vertical-align: middle; margin-left: 0.5rem\">PROVISION</span>\n",
       "</mark>\n",
       ", 77th Cong., 2d Sess., pp. 9—10. See also \n",
       "<mark class=\"entity\" style=\"background: #da3650; padding: 0.45em 0.6em; margin: 0 0.25em; line-height: 1; border-radius: 0.35em; box-decoration-break: clone; -webkit-box-decoration-break: clone\">\n",
       "    S.Rep.\n",
       "    <span style=\"font-size: 0.8em; font-weight: bold; line-height: 1; border-radius: 0.35em; text-transform: uppercase; vertical-align: middle; margin-left: 0.5rem\">CASENAME</span>\n",
       "</mark>\n",
       " No. 1196, 77th Cong., 2d Sess., p. 5.\n",
       "\n",
       "\n",
       "\n",
       "</div>"
      ],
      "text/plain": [
       "<IPython.core.display.HTML object>"
      ]
     },
     "metadata": {},
     "output_type": "display_data"
    }
   ],
   "source": [
    "displacy.render(doc, style=\"ent\", options=ner_displacy_options)"
   ]
  },
  {
   "cell_type": "markdown",
   "metadata": {},
   "source": [
    "<b>In the section above we can see the law's text displayed using displaCy. We have highlighted the cases, provisions, laws, etc in the text.</b>\n"
   ]
  },
  {
   "cell_type": "code",
   "execution_count": 363,
   "metadata": {},
   "outputs": [],
   "source": [
    "from collections import Counter\n",
    "a = Counter([i.text for i in bx_doc.ents])"
   ]
  },
  {
   "cell_type": "code",
   "execution_count": 364,
   "metadata": {},
   "outputs": [
    {
     "data": {
      "text/plain": [
       "Counter({'347 U.S. 507': 1,\n",
       "         '695\\n98': 1,\n",
       "         'Federal Tort Claims Act,1 60': 1,\n",
       "         '§ 1346': 2,\n",
       "         'Tort Claims Act': 8,\n",
       "         'District Court': 3,\n",
       "         \"Darnell's\": 1,\n",
       "         'Court of Appeals': 1,\n",
       "         '206 F.2d 846': 1,\n",
       "         '346 U.S. 914': 1,\n",
       "         '340 U.S. 543': 1,\n",
       "         '28 U.S.C. § 2676': 1,\n",
       "         '28 U.S.C.A. § 2676': 1,\n",
       "         '§ 2672': 2,\n",
       "         'United States v. Standard Oil Co.': 1,\n",
       "         '332 U.S. 301': 1,\n",
       "         '10\\nAffirmed.': 1,\n",
       "         'The Act': 1,\n",
       "         'chapter 171': 1,\n",
       "         'United States District Court': 1,\n",
       "         \"* * *'\": 1,\n",
       "         'section 1346(b)': 1,\n",
       "         'Dalehite v. United States,': 1,\n",
       "         '346 U.S. 15': 1,\n",
       "         '28 U.S.C. § 2672': 1,\n",
       "         '28 U.S.C.A. § 2672': 1,\n",
       "         '§ 2676': 1,\n",
       "         \"Shea's\": 1,\n",
       "         'H.R. 6463': 1,\n",
       "         'S.Rep.': 1})"
      ]
     },
     "execution_count": 364,
     "metadata": {},
     "output_type": "execute_result"
    }
   ],
   "source": [
    "a"
   ]
  },
  {
   "cell_type": "raw",
   "metadata": {},
   "source": [
    "#let's get the cases from the document\n",
    "def display_casename_citations(doc):\n",
    "    '''Takes a spacy doc object and returns the list of cases using the blackstone nlp model'''\n",
    "    cases = (i for i in doc.ents if i.label_ == 'CASENAME')\n",
    "    for i in cases:\n",
    "        print(i)\n",
    "    #return cases\n",
    "#cases = [i for i in bx_doc.ents]"
   ]
  },
  {
   "cell_type": "raw",
   "metadata": {},
   "source": [
    "def display_casename_citations_filtered(doc):\n",
    "    '''Takes a spacy doc object and returns the list of cases using the blackstone nlp model'''\n",
    "    cases = (i for i in doc.ents if i.label_ == 'CASENAME')\n",
    "    actual_cases=[]\n",
    "    for i in cases:\n",
    "        case_doc = i.as_doc()\n",
    "        print(case_doc)\n",
    "        tokens = [(i, i.dep_, 'ANCESTORS:', [j for j in i.ancestors], 'CHILDREN:', [j for j in i.children]) for i in case_doc]\n",
    "        print(tokens)\n",
    "\n",
    "#print(display_casename_citations_filtered(doc))\n",
    "#for ent in get_casename_citations(doc):\n",
    "#    print(ent, f'Label: {ent.label_}', [(i, i.pos_) for i in ent.as_doc()])"
   ]
  },
  {
   "cell_type": "code",
   "execution_count": 365,
   "metadata": {},
   "outputs": [],
   "source": [
    "#display_casename_citations_filtered(doc)\n",
    "def get_casename_citations_filtered(doc):\n",
    "    '''Takes a spacy doc object and returns a dictionary of cases using the blackstone nlp model\n",
    "    args:\n",
    "        doc: the spacy doc object\n",
    "    returns:\n",
    "        \n",
    "    '''\n",
    "    cases = (i for i in doc.ents if i.label_ == 'CASENAME')\n",
    "    actual_cases=[]\n",
    "    results = {case:[item for item in case] for case in cases}\n",
    "    return results\n",
    "        \n",
    "        #for item in case:\n",
    "         #   print(item, type(item))\n",
    "    #return case_doc\n",
    "        #deps = [token.dep_ for token in case]\n",
    "        #case_types = [type(j) for j in cases]\n",
    "        #print(case_doc)\n",
    "        #print(deps)\n",
    "        #case_types\n",
    "        \n",
    "        #print([i for i in case_doc])\n",
    "        #print('Case doc', case_doc)\n",
    "        #for i in case_doc:\n",
    "            #if i.dep_ == 'pron':\n",
    "             #   print(i)\n",
    "            #print(tokens)\n",
    "    #print(actual_cases)"
   ]
  },
  {
   "cell_type": "code",
   "execution_count": 366,
   "metadata": {},
   "outputs": [
    {
     "name": "stdout",
     "output_type": "stream",
     "text": [
      "{28 U.S.C. § 2676: [28, U.S.C., §, 2676], 28 U.S.C.A. § 2676: [28, U.S.C.A., §, 2676], United States v. Standard Oil Co.: [United, States, v., Standard, Oil, Co.], Dalehite v. United States,: [Dalehite, v., United, States, ,], 28 U.S.C. § 2672: [28, U.S.C., §, 2672], 28 U.S.C.A. § 2672: [28, U.S.C.A., §, 2672], S.Rep.: [S.Rep, .]}\n"
     ]
    }
   ],
   "source": [
    "result = get_casename_citations_filtered(doc)\n",
    "\n",
    "print(result)"
   ]
  },
  {
   "cell_type": "code",
   "execution_count": 367,
   "metadata": {},
   "outputs": [],
   "source": [
    "result2 = result.copy()"
   ]
  },
  {
   "cell_type": "raw",
   "metadata": {},
   "source": [
    "actual_cases = []\n",
    "\n",
    "for k, v in result2.items():\n",
    "    for i in v:\n",
    "        if i.pos_ == 'ADP' and i.dep_ == 'prep':\n",
    "            actual_cases.append(k)\n",
    "    #print(k, [(i.text, i.pos_, i.dep_) for i in v if i.pos_ == 'ADP' and i.dep_ == 'prep'])\n",
    "    #if v\n",
    "print(actual_cases)"
   ]
  },
  {
   "cell_type": "code",
   "execution_count": 370,
   "metadata": {},
   "outputs": [],
   "source": [
    "def get_actual_cases(case_list: dict) -> List:\n",
    "    actual_cases = []\n",
    "    for k, v in case_list.items():\n",
    "        for i in v:\n",
    "            if i.pos_ == 'ADP' and i.dep_ == 'prep':\n",
    "                actual_cases.append(k)\n",
    "    return actual_cases"
   ]
  },
  {
   "cell_type": "code",
   "execution_count": 371,
   "metadata": {},
   "outputs": [
    {
     "data": {
      "text/plain": [
       "[United States v. Standard Oil Co., Dalehite v. United States,]"
      ]
     },
     "execution_count": 371,
     "metadata": {},
     "output_type": "execute_result"
    }
   ],
   "source": [
    "#how to get the cases\n",
    "get_actual_cases(get_casename_citations_filtered(doc))"
   ]
  },
  {
   "cell_type": "code",
   "execution_count": 372,
   "metadata": {},
   "outputs": [],
   "source": [
    "def get_cases_from_doc(doc):\n",
    "    return get_actual_cases(get_casename_citations_filtered(doc))"
   ]
  },
  {
   "cell_type": "code",
   "execution_count": 376,
   "metadata": {},
   "outputs": [
    {
     "name": "stdout",
     "output_type": "stream",
     "text": [
      "Cases found:  [(United States v. Standard Oil Co., 'CASENAME'), (Dalehite v. United States,, 'CASENAME')]\n"
     ]
    }
   ],
   "source": [
    "cases_found = get_cases_from_doc(doc)\n",
    "print('Cases found: ', [(i, i.label_) for i in cases_found])"
   ]
  },
  {
   "cell_type": "code",
   "execution_count": 374,
   "metadata": {},
   "outputs": [
    {
     "name": "stdout",
     "output_type": "stream",
     "text": [
      "['_', '__bytes__', '__class__', '__delattr__', '__dir__', '__doc__', '__eq__', '__format__', '__ge__', '__getattribute__', '__gt__', '__hash__', '__init__', '__init_subclass__', '__le__', '__len__', '__lt__', '__ne__', '__new__', '__pyx_vtable__', '__reduce__', '__reduce_ex__', '__repr__', '__setattr__', '__sizeof__', '__str__', '__subclasshook__', '__unicode__', 'ancestors', 'check_flag', 'children', 'cluster', 'conjuncts', 'dep', 'dep_', 'doc', 'ent_id', 'ent_id_', 'ent_iob', 'ent_iob_', 'ent_kb_id', 'ent_kb_id_', 'ent_type', 'ent_type_', 'get_extension', 'has_extension', 'has_vector', 'head', 'i', 'idx', 'is_alpha', 'is_ancestor', 'is_ascii', 'is_bracket', 'is_currency', 'is_digit', 'is_left_punct', 'is_lower', 'is_oov', 'is_punct', 'is_quote', 'is_right_punct', 'is_sent_start', 'is_space', 'is_stop', 'is_title', 'is_upper', 'lang', 'lang_', 'left_edge', 'lefts', 'lemma', 'lemma_', 'lex_id', 'like_email', 'like_num', 'like_url', 'lower', 'lower_', 'n_lefts', 'n_rights', 'nbor', 'norm', 'norm_', 'orth', 'orth_', 'pos', 'pos_', 'prefix', 'prefix_', 'prob', 'rank', 'remove_extension', 'right_edge', 'rights', 'sent', 'sent_start', 'sentiment', 'set_extension', 'shape', 'shape_', 'similarity', 'string', 'subtree', 'suffix', 'suffix_', 'tag', 'tag_', 'tensor', 'text', 'text_with_ws', 'vector', 'vector_norm', 'vocab', 'whitespace_']\n",
      "United PROPN compound [] []\n",
      "States PROPN pobj [United] [v.]\n",
      "v. ADP prep [] [Co.]\n",
      "Standard PROPN compound [] []\n",
      "Oil PROPN compound [] []\n",
      "Co. PROPN pobj [Standard, Oil] [,]\n",
      "Dalehite PROPN pobj [] [v.]\n",
      "v. ADP prep [] [States]\n",
      "United PROPN compound [] []\n",
      "States PROPN pobj [United] []\n",
      ", PUNCT punct [] []\n"
     ]
    }
   ],
   "source": [
    "print(dir(spacy.tokens.Token))\n",
    "for i in cases_found:\n",
    "    for token in i:\n",
    "        print(token.text, token.pos_, token.dep_, [i for i in token.lefts], [i for i in token.rights])"
   ]
  },
  {
   "cell_type": "code",
   "execution_count": 385,
   "metadata": {},
   "outputs": [],
   "source": [
    "@dataclass\n",
    "class CaseWithNLP:\n",
    "    case_name: str\n",
    "    name_token: spacy.tokens.Token\n",
    "    plaintiff: spacy.tokens.Token\n",
    "    respondant: spacy.tokens.Token\n",
    "    "
   ]
  },
  {
   "cell_type": "code",
   "execution_count": 388,
   "metadata": {},
   "outputs": [],
   "source": [
    "def get_case_list(doc):\n",
    "    result = get_cases_from_doc(doc)\n",
    "    return result"
   ]
  },
  {
   "cell_type": "code",
   "execution_count": 390,
   "metadata": {},
   "outputs": [
    {
     "name": "stdout",
     "output_type": "stream",
     "text": [
      "[United States v. Standard Oil Co., Dalehite v. United States,]\n"
     ]
    }
   ],
   "source": [
    "res = make_case_with_nlp(doc)\n",
    "print(res)"
   ]
  },
  {
   "cell_type": "code",
   "execution_count": null,
   "metadata": {},
   "outputs": [],
   "source": [
    "def "
   ]
  }
 ],
 "metadata": {
  "kernelspec": {
   "display_name": "Python 3",
   "language": "python",
   "name": "python3"
  },
  "language_info": {
   "codemirror_mode": {
    "name": "ipython",
    "version": 3
   },
   "file_extension": ".py",
   "mimetype": "text/x-python",
   "name": "python",
   "nbconvert_exporter": "python",
   "pygments_lexer": "ipython3",
   "version": "3.6.10"
  }
 },
 "nbformat": 4,
 "nbformat_minor": 4
}
