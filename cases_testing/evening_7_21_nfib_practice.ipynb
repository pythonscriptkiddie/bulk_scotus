{
 "cells": [
  {
   "cell_type": "code",
   "execution_count": 23,
   "metadata": {},
   "outputs": [],
   "source": [
    "#test using BlackstoneNLP\n",
    "\n",
    "#import standard library modules\n",
    "import sys\n",
    "import json\n",
    "import re\n",
    "from typing import List, Any\n",
    "\n",
    "#modules from the community\n",
    "import spacy\n",
    "from dataclasses import dataclass #backported this module from 3.7\n",
    "#import lxml\n",
    "\n",
    "from spacy import displacy\n",
    "from blackstone.displacy_palette import ner_displacy_options\n",
    "\n",
    "#blackstone improved citations\n",
    "from blackstone.pipeline.sentence_segmenter import SentenceSegmenter\n",
    "from blackstone.rules import CITATION_PATTERNS\n",
    "\n",
    "import en_core_web_sm\n",
    "\n"
   ]
  },
  {
   "cell_type": "code",
   "execution_count": 24,
   "metadata": {},
   "outputs": [],
   "source": [
    "nlp = spacy.load('en_blackstone_proto') #the blackstone model\n",
    "nlp2 = en_core_web_sm.load()\n",
    "#load sentence segmenter\n",
    "sentence_segmenter = SentenceSegmenter(nlp.vocab, CITATION_PATTERNS)\n",
    "nlp.add_pipe(sentence_segmenter, before=\"parser\")\n",
    "\n",
    "#nlp=spacy.load('en_core_web_sm') #the default spacy model"
   ]
  },
  {
   "cell_type": "code",
   "execution_count": 25,
   "metadata": {},
   "outputs": [],
   "source": [
    "with open('nfib_v_sebelius.txt', 'r') as in_file:\n",
    "    nfib_data = in_file.read()\n",
    "\n",
    "#with open('us_v_gilman.json', 'r') as in_file:\n",
    "#    gilman = json.load(in_file)\n",
    "\n"
   ]
  },
  {
   "cell_type": "code",
   "execution_count": 17,
   "metadata": {},
   "outputs": [],
   "source": [
    "bx = nlp(nfib_data)\n",
    "doc = nlp2(nfib_data)"
   ]
  },
  {
   "cell_type": "code",
   "execution_count": 18,
   "metadata": {},
   "outputs": [],
   "source": [
    "#for ent in bx.ents:\n",
    "#    print(ent)\n",
    "#display entities for both documents\n",
    "\n",
    "#when we have x and y, we create a new example of something to train the model\n",
    "#and we feed it into the model"
   ]
  },
  {
   "cell_type": "markdown",
   "metadata": {},
   "source": [
    "<b>In the section above we can see the law's text displayed using displaCy. We have highlighted the cases, provisions, laws, etc in the text.</b>"
   ]
  },
  {
   "cell_type": "code",
   "execution_count": 20,
   "metadata": {},
   "outputs": [],
   "source": [
    "#display_casename_citations_filtered(doc)\n",
    "def get_casename_citations_filtered(doc):\n",
    "    '''Takes a spacy doc object and returns a dictionary of cases using the blackstone nlp model\n",
    "    args:\n",
    "        doc: the spacy doc object\n",
    "    returns:\n",
    "        \n",
    "    '''\n",
    "    cases = (i for i in doc.ents if i.label_ == 'CASENAME')\n",
    "    actual_cases=[]\n",
    "    results = {case:[item for item in case] for case in cases}\n",
    "    return results\n",
    "\n",
    "def get_actual_cases(case_list: dict) -> List:\n",
    "    actual_cases = []\n",
    "    for k, v in case_list.items():\n",
    "        for i in v:\n",
    "            print(i.text, i.pos_, i.dep_)\n",
    "            if i.pos_ == 'ADP' and i.dep_ == 'prep':\n",
    "                actual_cases.append(k)\n",
    "    return actual_cases\n",
    "\n",
    "def get_cases_from_doc(doc):\n",
    "    return get_actual_cases(get_casename_citations_filtered(doc))"
   ]
  },
  {
   "cell_type": "code",
   "execution_count": 21,
   "metadata": {},
   "outputs": [],
   "source": [
    "result = get_cases_from_doc(bx)"
   ]
  },
  {
   "cell_type": "code",
   "execution_count": 22,
   "metadata": {},
   "outputs": [
    {
     "data": {
      "text/plain": [
       "[United States v. Detroit Timber & Lumber Co.,\n",
       " United States v. Lopez,\n",
       " Hooper v. California,\n",
       " Crowell v. Benson,\n",
       " Bailey v. Drexel\n",
       "     Furniture Co.,\n",
       " New York v. United States,,\n",
       " New York v. United States,,\n",
       " Ayotte v. Planned Parenthood of Northern New Eng,\n",
       " Ayotte v. Planned Parenthood of Northern New Eng,\n",
       " Gibbons v. Ogden,\n",
       " United States v.,\n",
       " New York v. United,\n",
       " Wickard v. Filburn,\n",
       " Perez v.,\n",
       " College Savings Bank v. Florida Prepaid Postsecond-,\n",
       " South Dakota v. Dole,\n",
       " United States v. Harris,\n",
       " Marbury v. Madison,\n",
       " Thomas More Law Center v.,\n",
       " Enochs v. Williams Packing & Nav.,\n",
       " Russello v.,\n",
       " Bailey v. Drexel Furniture Co.,\n",
       " Department of Revenue of Mont. v.,\n",
       " Department of Revenue of Mont. v.,\n",
       " Bailey v. George,\n",
       " Brief for America’s,\n",
       " Brief for United States,\n",
       " NLRB v.,\n",
       " Wickard v. Filburn,\n",
       " Center for Applied Ethics, Voluntary Health,\n",
       " Brief for United States,\n",
       " Heart of Atlanta Motel, Inc. v. United,\n",
       " Heart of Atlanta Motel, Inc. v. United,\n",
       " Katzenbach v. McClung,\n",
       " Kinsella v.,\n",
       " Printz v. United,\n",
       " Sabri v. United States,,\n",
       " Crowell v. Benson,\n",
       " Hooper v. California,\n",
       " Nelson v. Sears, Roebuck & Co.,\n",
       " United States v. Reorganized CF&I Fabricators of Utah,\n",
       " United States v. Reorganized CF&I Fabricators of Utah,\n",
       " United States v. Sanchez,\n",
       " Sonzinsky v. United States,,\n",
       " New York v. United States,\n",
       " New York v. United States\n",
       " ,\n",
       " Hylton v. United States,\n",
       " Eisner v. Macom-,\n",
       " Oklahoma Tax Comm’n v.,\n",
       " Barnes v. Gorman,\n",
       " Hospital v. Halderman,\n",
       " Steward Machine Co. v. Davis,\n",
       " Massachusetts v. Mellon,\n",
       " South Dakota v. Dole,\n",
       " South Dakota v. Dole,\n",
       " Brief for,\n",
       " FERC v. Mississippi,\n",
       " United States v. Booker,\n",
       " Ayotte v. Planned,\n",
       " Hammer v. Dagenhart,\n",
       " NLRB v. Jones & Laughlin,\n",
       " Helvering v. Davis,\n",
       " Brief for Health Care for,\n",
       " Brief for Health Care for,\n",
       " Brief for,\n",
       " Brief for Governor of Washington Christine,\n",
       " Brief for Governor of Washington Christine,\n",
       " Brief for Commonwealth of,\n",
       " EEOC v. Wyoming,\n",
       " Wickard v. Filburn,\n",
       " United States v. Lopez,\n",
       " American Power & Light Co. v. SEC,,\n",
       " Hodel v. Virginia,\n",
       " Katzenbach v. McClung,\n",
       " Heart of Atlanta Motel, Inc. v. United States,\n",
       " Heart of Atlanta Motel, Inc. v. United States,\n",
       " Brief for State of Maryland,\n",
       " Brief for State of Maryland,\n",
       " Perez v. United,\n",
       " United States v. Wrightwood,\n",
       " Cherokee Nation v. Southern Kansas R. Co.,\n",
       " Troxel v. Granville,\n",
       " McDonald v. Chicago,\n",
       " Albright v. Oliver,\n",
       " Hoke v. United States,,\n",
       " Perez v. United States, O. T.,\n",
       " Katzenbach v. McClung,\n",
       " Brief for Appellee,\n",
       " Wickard v. Filburn,\n",
       " Printz v. United States,,\n",
       " New York v. United States,,\n",
       " Sabri v. United States,\n",
       " Nortz v. United States,,\n",
       " Schweiker v. Gray Panthers,\n",
       " Financial Outlook for Medicaid,\n",
       " FERC v. Mississippi,\n",
       " Brief for Petitioners\n",
       " ,\n",
       " Schweiker v. Gray Panthers,\n",
       " Frew v. Hawkins,\n",
       " Bennett v. Kentucky Dept.,\n",
       " South Dakota v. Dole,\n",
       " Helvering v. Davis,\n",
       " Bennett v. Kentucky Dept.,\n",
       " Bennett v. Kentucky Dept.,\n",
       " Bowen v. Public Agencies Opposed to,\n",
       " Bowen v. Public Agencies Opposed to,\n",
       " Brief for National Health Law Program et al.,\n",
       " Brief for David Satcher et,\n",
       " Wickard v. Filburn,\n",
       " United States v. Butler,\n",
       " Gibbons v. Ogden,\n",
       " NLRB v. Jones & Laughlin Steel,\n",
       " Printz v. United States,,\n",
       " United States v.,\n",
       " Andrus v. Allard,\n",
       " Wickard v. Filburn,\n",
       " Perez v. United States,,\n",
       " Crowell v. Benson,\n",
       " Commodity Futures Trading Comm’n v. Schor,\n",
       " Aptheker v. Secretary of State,,\n",
       " Scales v. United,\n",
       " New York v. United States,,\n",
       " New York v. United States,\n",
       " Lipke v. Lederer,\n",
       " Staples v. United States,,\n",
       " Parsons v.,\n",
       " Steward Machine Co. v. Davis,\n",
       " Helvering v. Davis,\n",
       " Pennhurst State School and Hospital v. Halderman,\n",
       " South Dakota v. Dole,\n",
       " Fullilove v. Klutznick,\n",
       " Office of Management and Budget, Historical Tables, Budget of,\n",
       " Office of Management and Budget, Historical Tables, Budget of,\n",
       " College Savings Bank v. Florida Prepaid,\n",
       " Davis v. Monroe County Bd.,\n",
       " Massachusetts v. United States,,\n",
       " Metropolitan Washington Airports Authority v. Citizens for,\n",
       " Metropolitan Washington Airports Authority v. Citizens for,\n",
       " Barnes v. Gorman,\n",
       " South Dakota v. Dole,\n",
       " South Dakota v. Dole,\n",
       " Inc. v. Thornton,\n",
       " Office of Management,\n",
       " Table 12.3—Total Outlays for Grants to State and Local Gov-,\n",
       " Table 12.3—Total Outlays for Grants to State and Local Gov-,\n",
       " Temporary Assistance for Needy Families (TANF),\n",
       " South Dakota v. Dole,\n",
       " United States v. Booker,\n",
       " Ayotte v. Planned Parenthood of,\n",
       " Ayotte v. Planned Parenthood of,\n",
       " Reimbursements to Hospitals and\n",
       "       Other Reductions,\n",
       " Support of Government’s Motion,\n",
       " United States v. Lopez]"
      ]
     },
     "execution_count": 22,
     "metadata": {},
     "output_type": "execute_result"
    }
   ],
   "source": [
    "result"
   ]
  },
  {
   "cell_type": "raw",
   "metadata": {},
   "source": [
    "actual_cases = []\n",
    "\n",
    "for k, v in result2.items():\n",
    "    for i in v:\n",
    "        if i.pos_ == 'ADP' and i.dep_ == 'prep':\n",
    "            actual_cases.append(k)\n",
    "    #print(k, [(i.text, i.pos_, i.dep_) for i in v if i.pos_ == 'ADP' and i.dep_ == 'prep'])\n",
    "    #if v\n",
    "print(actual_cases)"
   ]
  },
  {
   "cell_type": "code",
   "execution_count": 18,
   "metadata": {},
   "outputs": [],
   "source": []
  },
  {
   "cell_type": "code",
   "execution_count": 30,
   "metadata": {},
   "outputs": [],
   "source": [
    "#how to get the cases\n",
    "#get_actual_cases(get_casename_citations_filtered(doc))"
   ]
  },
  {
   "cell_type": "code",
   "execution_count": 372,
   "metadata": {},
   "outputs": [],
   "source": []
  },
  {
   "cell_type": "code",
   "execution_count": 1,
   "metadata": {},
   "outputs": [
    {
     "ename": "NameError",
     "evalue": "name 'get_cases_from_doc' is not defined",
     "output_type": "error",
     "traceback": [
      "\u001b[0;31m---------------------------------------------------------------------------\u001b[0m",
      "\u001b[0;31mNameError\u001b[0m                                 Traceback (most recent call last)",
      "\u001b[0;32m<ipython-input-1-f3c2bc01a8c4>\u001b[0m in \u001b[0;36m<module>\u001b[0;34m\u001b[0m\n\u001b[0;32m----> 1\u001b[0;31m \u001b[0mcases_found\u001b[0m \u001b[0;34m=\u001b[0m \u001b[0mget_cases_from_doc\u001b[0m\u001b[0;34m(\u001b[0m\u001b[0mdoc\u001b[0m\u001b[0;34m)\u001b[0m\u001b[0;34m\u001b[0m\u001b[0;34m\u001b[0m\u001b[0m\n\u001b[0m\u001b[1;32m      2\u001b[0m \u001b[0mprint\u001b[0m\u001b[0;34m(\u001b[0m\u001b[0;34m'Cases found: '\u001b[0m\u001b[0;34m,\u001b[0m \u001b[0;34m[\u001b[0m\u001b[0;34m(\u001b[0m\u001b[0mi\u001b[0m\u001b[0;34m,\u001b[0m \u001b[0mi\u001b[0m\u001b[0;34m.\u001b[0m\u001b[0mlabel_\u001b[0m\u001b[0;34m)\u001b[0m \u001b[0;32mfor\u001b[0m \u001b[0mi\u001b[0m \u001b[0;32min\u001b[0m \u001b[0mcases_found\u001b[0m\u001b[0;34m]\u001b[0m\u001b[0;34m)\u001b[0m\u001b[0;34m\u001b[0m\u001b[0;34m\u001b[0m\u001b[0m\n",
      "\u001b[0;31mNameError\u001b[0m: name 'get_cases_from_doc' is not defined"
     ]
    }
   ],
   "source": [
    "cases_found = get_cases_from_doc(doc)\n",
    "print('Cases found: ', [(i, i.label_) for i in cases_found])"
   ]
  },
  {
   "cell_type": "code",
   "execution_count": 21,
   "metadata": {},
   "outputs": [],
   "source": [
    "#print(dir(spacy.tokens.Token))\n",
    "#for i in cases_found:\n",
    "#    for token in i:\n",
    "#        print(token.text, token.pos_, token.dep_, [i for i in token.lefts], [i for i in token.rights])"
   ]
  },
  {
   "cell_type": "code",
   "execution_count": 385,
   "metadata": {},
   "outputs": [],
   "source": [
    "@dataclass\n",
    "class CaseWithNLP:\n",
    "    case_name: str\n",
    "    name_token: spacy.tokens.Token\n",
    "    plaintiff: spacy.tokens.Token\n",
    "    respondant: spacy.tokens.Token\n",
    "    "
   ]
  },
  {
   "cell_type": "code",
   "execution_count": 388,
   "metadata": {},
   "outputs": [],
   "source": [
    "def get_case_list(doc):\n",
    "    result = get_cases_from_doc(doc)\n",
    "    return result"
   ]
  },
  {
   "cell_type": "code",
   "execution_count": 390,
   "metadata": {},
   "outputs": [
    {
     "name": "stdout",
     "output_type": "stream",
     "text": [
      "[United States v. Standard Oil Co., Dalehite v. United States,]\n"
     ]
    }
   ],
   "source": [
    "res = make_case_with_nlp(doc)\n",
    "print(res)"
   ]
  },
  {
   "cell_type": "code",
   "execution_count": null,
   "metadata": {},
   "outputs": [],
   "source": [
    "def "
   ]
  }
 ],
 "metadata": {
  "kernelspec": {
   "display_name": "Python 3",
   "language": "python",
   "name": "python3"
  },
  "language_info": {
   "codemirror_mode": {
    "name": "ipython",
    "version": 3
   },
   "file_extension": ".py",
   "mimetype": "text/x-python",
   "name": "python",
   "nbconvert_exporter": "python",
   "pygments_lexer": "ipython3",
   "version": "3.6.10"
  }
 },
 "nbformat": 4,
 "nbformat_minor": 4
}
