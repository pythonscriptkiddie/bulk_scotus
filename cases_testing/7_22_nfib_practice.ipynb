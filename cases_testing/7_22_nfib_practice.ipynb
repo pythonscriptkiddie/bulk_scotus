{
 "cells": [
  {
   "cell_type": "code",
   "execution_count": 1,
   "metadata": {},
   "outputs": [],
   "source": [
    "#test using BlackstoneNLP\n",
    "\n",
    "#import standard library modules\n",
    "import sys\n",
    "from collections import Counter\n",
    "from typing import List, Any\n",
    "\n",
    "#modules from the community\n",
    "import spacy\n",
    "from dataclasses import dataclass #backported this module from 3.7\n",
    "\n",
    "#import lxml\n",
    "\n",
    "from spacy import displacy\n",
    "from blackstone.displacy_palette import ner_displacy_options\n",
    "\n",
    "#blackstone improved citations\n",
    "from blackstone.pipeline.sentence_segmenter import SentenceSegmenter\n",
    "from blackstone.rules import CITATION_PATTERNS\n",
    "\n",
    "import en_core_web_sm\n",
    "\n",
    "\n",
    "#BeautifulSoup modules"
   ]
  },
  {
   "cell_type": "code",
   "execution_count": 2,
   "metadata": {},
   "outputs": [],
   "source": [
    "nlp = spacy.load('en_blackstone_proto') #the blackstone model\n",
    "nlp2 = en_core_web_sm.load()\n",
    "#load sentence segmenter\n",
    "sentence_segmenter = SentenceSegmenter(nlp.vocab, CITATION_PATTERNS)\n",
    "nlp.add_pipe(sentence_segmenter, before=\"parser\")\n",
    "\n",
    "#nlp=spacy.load('en_core_web_sm') #the default spacy model"
   ]
  },
  {
   "cell_type": "code",
   "execution_count": 3,
   "metadata": {},
   "outputs": [],
   "source": [
    "with open('nfib_v_sebelius.txt', 'r') as in_file:\n",
    "    nfib_data = in_file.read()\n",
    "\n",
    "#with open('us_v_gilman.json', 'r') as in_file:\n",
    "#    gilman = json.load(in_file)\n",
    "\n"
   ]
  },
  {
   "cell_type": "code",
   "execution_count": 4,
   "metadata": {},
   "outputs": [],
   "source": [
    "bx = nlp(nfib_data)\n",
    "lay_doc = nlp2(nfib_data)"
   ]
  },
  {
   "cell_type": "code",
   "execution_count": 5,
   "metadata": {},
   "outputs": [],
   "source": [
    "#for ent in bx.ents:\n",
    "#    print(ent)\n",
    "#display entities for both documents\n",
    "\n",
    "#when we have x and y, we create a new example of something to train the model\n",
    "#and we feed it into the model"
   ]
  },
  {
   "cell_type": "markdown",
   "metadata": {},
   "source": [
    "<b>In the section above we can see the law's text displayed using displaCy. We have highlighted the cases, provisions, laws, etc in the text.</b>\n"
   ]
  },
  {
   "cell_type": "code",
   "execution_count": 6,
   "metadata": {},
   "outputs": [],
   "source": [
    "#display_casename_citations_filtered(doc)\n",
    "def get_casename_citations_filtered(doc):\n",
    "    #one\n",
    "    '''Takes a spacy doc object and returns a dictionary of cases using the blackstone nlp model\n",
    "    args:\n",
    "        doc: the spacy doc object\n",
    "    returns:\n",
    "        \n",
    "    '''\n",
    "    cases = (i for i in doc.ents if i.label_ == 'CASENAME')\n",
    "    actual_cases=[]\n",
    "    results = {case.text:[item for item in case] for case in cases}\n",
    "    return results\n",
    "\n",
    "def get_actual_cases(case_list: dict) -> List:\n",
    "    '''Takes the cases and removes some of the ones that are not cases\n",
    "    like the ones without a v in them'''\n",
    "    actual_cases = []\n",
    "    for k, v in case_list.items():\n",
    "        for i in v:\n",
    "            if i.pos_ == 'ADP' and i.dep_ == 'prep':\n",
    "                actual_cases.append(k)\n",
    "    return actual_cases\n",
    "\n",
    "def get_cases_from_doc(doc):\n",
    "    return get_actual_cases(get_casename_citations_filtered(doc))"
   ]
  },
  {
   "cell_type": "code",
   "execution_count": 7,
   "metadata": {},
   "outputs": [
    {
     "name": "stdout",
     "output_type": "stream",
     "text": [
      "Counter({'Office of Management and Budget, Historical Tables, Budget of\\n': 12, 'Heart of Atlanta Motel, Inc. v. United\\n': 9, 'American Power & Light Co. v. SEC,\\n': 9, 'Heart of Atlanta Motel, Inc. v. United States': 9, 'Table 12.3—Total Outlays for Grants to State and Local Gov-': 9, 'United States v. Detroit Timber & Lumber Co.': 8, 'Ayotte v. Planned Parenthood of Northern New Eng': 8, 'College Savings Bank v. Florida Prepaid Postsecond-\\n': 8, 'Center for Applied Ethics, Voluntary Health\\n': 8, 'United States v. Reorganized CF&I Fabricators of Utah': 8, 'Brief for National Health Law Program et al.': 8, 'Metropolitan Washington Airports Authority v. Citizens for\\n': 8, 'Temporary Assistance for Needy Families (TANF)': 8, 'Enochs v. Williams Packing & Nav.': 7, 'Department of Revenue of Mont. v.\\n': 7, 'Nelson v. Sears, Roebuck & Co.': 7, 'Cherokee Nation v. Southern Kansas R. Co.': 7, 'Perez v. United States, O. T.': 7, 'Bowen v. Public Agencies Opposed to\\n': 7, 'NLRB v. Jones & Laughlin Steel\\n': 7, 'Aptheker v. Secretary of State,\\n': 7, 'Pennhurst State School and Hospital v. Halderman': 7, 'College Savings Bank v. Florida Prepaid\\n': 7, 'Reimbursements to Hospitals and\\n      Other Reductions': 7, 'Bailey v. Drexel\\n    Furniture Co.': 6, 'New York v. United States,': 6, 'Thomas More Law Center v.\\n': 6, 'New York v. United States\\n\\n': 6, 'NLRB v. Jones & Laughlin\\n': 6, 'Brief for Governor of Washington Christine\\n': 6, 'Commodity Futures Trading Comm’n v. Schor': 6, 'Davis v. Monroe County Bd.': 6, 'Ayotte v. Planned Parenthood of\\n': 6, 'Support of Government’s Motion\\n': 6, 'New York v. United\\n': 5, 'Bailey v. Drexel Furniture Co.': 5, 'Sabri v. United States,': 5, 'Sonzinsky v. United States,': 5, 'New York v. United States': 5, 'Oklahoma Tax Comm’n v.\\n': 5, 'Steward Machine Co. v. Davis': 5, 'Brief for Health Care for\\n': 5, 'United States v. Wrightwood\\n': 5, 'Hoke v. United States,': 5, 'Printz v. United States,': 5, 'Nortz v. United States,': 5, 'Bennett v. Kentucky Dept.': 5, 'Perez v. United States,': 5, 'Staples v. United States,': 5, 'Massachusetts v. United States,': 5, 'United States v. Lopez': 4, 'United States v.\\n': 4, 'South Dakota v. Dole': 4, 'United States v. Harris': 4, 'Brief for America’s\\n': 4, 'Printz v. United\\n': 4, 'United States v. Sanchez': 4, 'Hylton v. United States': 4, 'United States v. Butler': 4, 'United States v. Booker': 4, 'Ayotte v. Planned\\n': 4, 'Brief for Commonwealth of\\n': 4, 'Hodel v. Virginia\\n': 4, 'Brief for State of Maryland': 4, 'Perez v. United\\n': 4, 'Sabri v. United States': 4, 'Schweiker v. Gray Panthers': 4, 'Financial Outlook for Medicaid': 4, 'Brief for David Satcher et': 4, 'Scales v. United\\n': 4, 'Hooper v. California': 3, 'Crowell v. Benson': 3, 'Gibbons v. Ogden': 3, 'Wickard v. Filburn': 3, 'Perez v.\\n': 3, 'Russello v.\\n': 3, 'Bailey v. George': 3, 'Brief for United States': 3, 'NLRB v.\\n': 3, 'Katzenbach v. McClung': 3, 'Kinsella v.\\n': 3, 'Eisner v. Macom-': 3, 'Barnes v. Gorman': 3, 'Hospital v. Halderman': 3, 'Massachusetts v. Mellon': 3, 'FERC v. Mississippi': 3, 'Hammer v. Dagenhart': 3, 'Helvering v. Davis': 3, 'EEOC v. Wyoming': 3, 'Troxel v. Granville': 3, 'McDonald v. Chicago': 3, 'Albright v. Oliver': 3, 'Brief for Petitioners\\n\\n': 3, 'Frew v. Hawkins': 3, 'Andrus v. Allard': 3, 'Lipke v. Lederer': 3, 'Parsons v.\\n': 3, 'Fullilove v. Klutznick': 3, 'Inc. v. Thornton': 3, 'Office of Management': 3, 'Brief for\\n': 2, 'Brief for Appellee': 2})\n",
      "['Reimbursements to Hospitals and\\n      Other Reductions', 'Brief for\\n', 'Temporary Assistance for Needy Families (TANF)', 'United States v. Booker', 'Metropolitan Washington Airports Authority v. Citizens for\\n', 'Crowell v. Benson', 'Printz v. United\\n', 'Katzenbach v. McClung', 'McDonald v. Chicago', 'New York v. United States,', 'Sonzinsky v. United States,', 'New York v. United\\n', 'Helvering v. Davis', 'Fullilove v. Klutznick', 'Frew v. Hawkins', 'Gibbons v. Ogden', 'Perez v.\\n', 'College Savings Bank v. Florida Prepaid Postsecond-\\n', 'Troxel v. Granville', 'Eisner v. Macom-', 'Brief for United States', 'Brief for Petitioners\\n\\n', 'Hylton v. United States', 'Albright v. Oliver', 'South Dakota v. Dole', 'Bailey v. George', 'Ayotte v. Planned Parenthood of Northern New Eng', 'Center for Applied Ethics, Voluntary Health\\n', 'United States v. Sanchez', 'Brief for David Satcher et', 'Nelson v. Sears, Roebuck & Co.', 'New York v. United States', 'FERC v. Mississippi', 'Commodity Futures Trading Comm’n v. Schor', 'Office of Management and Budget, Historical Tables, Budget of\\n', 'College Savings Bank v. Florida Prepaid\\n', 'Parsons v.\\n', 'Thomas More Law Center v.\\n', 'Andrus v. Allard', 'New York v. United States\\n\\n', 'Wickard v. Filburn', 'Financial Outlook for Medicaid', 'Russello v.\\n', 'United States v. Wrightwood\\n', 'Table 12.3—Total Outlays for Grants to State and Local Gov-', 'Kinsella v.\\n', 'Steward Machine Co. v. Davis', 'Sabri v. United States,', 'Inc. v. Thornton', 'Hoke v. United States,', 'Perez v. United States, O. T.', 'Sabri v. United States', 'Bailey v. Drexel Furniture Co.', 'Barnes v. Gorman', 'Brief for Commonwealth of\\n', 'Massachusetts v. United States,', 'Ayotte v. Planned Parenthood of\\n', 'Support of Government’s Motion\\n', 'NLRB v. Jones & Laughlin Steel\\n', 'Oklahoma Tax Comm’n v.\\n', 'American Power & Light Co. v. SEC,\\n', 'EEOC v. Wyoming', 'Enochs v. Williams Packing & Nav.', 'United States v. Harris', 'Brief for State of Maryland', 'Brief for Health Care for\\n', 'Davis v. Monroe County Bd.', 'Pennhurst State School and Hospital v. Halderman', 'Cherokee Nation v. Southern Kansas R. Co.', 'Aptheker v. Secretary of State,\\n', 'Massachusetts v. Mellon', 'Department of Revenue of Mont. v.\\n', 'Brief for Governor of Washington Christine\\n', 'United States v. Lopez', 'Hammer v. Dagenhart', 'Brief for Appellee', 'United States v. Detroit Timber & Lumber Co.', 'Scales v. United\\n', 'Staples v. United States,', 'Office of Management', 'Hospital v. Halderman', 'Schweiker v. Gray Panthers', 'Heart of Atlanta Motel, Inc. v. United States', 'Printz v. United States,', 'Bennett v. Kentucky Dept.', 'United States v. Butler', 'Heart of Atlanta Motel, Inc. v. United\\n', 'Hodel v. Virginia\\n', 'Brief for America’s\\n', 'Perez v. United States,', 'United States v. Reorganized CF&I Fabricators of Utah', 'Perez v. United\\n', 'Bailey v. Drexel\\n    Furniture Co.', 'Nortz v. United States,', 'Lipke v. Lederer', 'NLRB v. Jones & Laughlin\\n', 'Bowen v. Public Agencies Opposed to\\n', 'United States v.\\n', 'Brief for National Health Law Program et al.', 'Hooper v. California', 'NLRB v.\\n', 'Ayotte v. Planned\\n']\n"
     ]
    }
   ],
   "source": [
    "result_one = get_cases_from_doc(bx)\n",
    "result_one\n",
    "\n",
    "#make a dictionary with the text, and a retokenized version of the result\n",
    "result_two = {i: [j for j in nlp2(i)] for i in result_one}\n",
    "\n",
    "barred_words = {'brief', 'financial outlook'}\n",
    "barred_pos = {'NUM'}\n",
    "\n",
    "clean_cases = []\n",
    "for i, j in result_two.items():\n",
    "   #print(i)\n",
    "    #print(i, [(token.text, token.pos_, token.dep_) for token in j])\n",
    "    for token in j:\n",
    "        #eliminate the ones with numbers\n",
    "        if token.pos_ not in barred_pos:\n",
    "            if token.text.lower() not in barred_words:\n",
    "                clean_cases.append(i)\n",
    "            elif token.text.lower() in barred_words:\n",
    "                if token.dep_ != 'ROOT':\n",
    "                    clean_cases.append(i)\n",
    "\n",
    "case_counter = Counter(clean_cases)\n",
    "#The number of times each case is cited\n",
    "print(case_counter)\n",
    "#print(clean_cases)\n",
    "clean_cases = list(set([str(i) for i in clean_cases]))\n",
    "print(clean_cases)"
   ]
  },
  {
   "cell_type": "code",
   "execution_count": 8,
   "metadata": {},
   "outputs": [
    {
     "name": "stdout",
     "output_type": "stream",
     "text": [
      "{'United States v. Detroit Timber & Lumber Co.': [United, States, v., Detroit, Timber, &, Lumber, Co.], 'United States v. Lopez': [United, States, v., Lopez], 'Hooper v. California': [Hooper, v., California], 'Crowell v. Benson': [Crowell, v., Benson], 'Bailey v. Drexel\\n    Furniture Co.': [Bailey, v., Drexel, \n",
      "    , Furniture, Co.], 'New York v. United States,': [New, York, v., United, States, ,], 'Ayotte v. Planned Parenthood of Northern New Eng': [Ayotte, v., Planned, Parenthood, of, Northern, New, Eng], 'Gibbons v. Ogden': [Gibbons, v., Ogden], 'United States v.\\n': [United, States, v., \n",
      "], 'New York v. United\\n': [New, York, v., United, \n",
      "], 'Wickard v. Filburn': [Wickard, v., Filburn], 'Perez v.\\n': [Perez, v., \n",
      "], 'College Savings Bank v. Florida Prepaid Postsecond-\\n': [College, Savings, Bank, v., Florida, Prepaid, Postsecond-, \n",
      "], 'South Dakota v. Dole': [South, Dakota, v., Dole], 'United States v. Harris': [United, States, v., Harris], 'Thomas More Law Center v.\\n': [Thomas, More, Law, Center, v., \n",
      "], 'Enochs v. Williams Packing & Nav.': [Enochs, v., Williams, Packing, &, Nav, .], 'Russello v.\\n': [Russello, v., \n",
      "], 'Bailey v. Drexel Furniture Co.': [Bailey, v., Drexel, Furniture, Co.], 'Department of Revenue of Mont. v.\\n': [Department, of, Revenue, of, Mont., v., \n",
      "], 'Bailey v. George': [Bailey, v., George], 'Brief for America’s\\n': [Brief, for, America, ’s, \n",
      "], 'Brief for United States': [Brief, for, United, States], 'NLRB v.\\n': [NLRB, v., \n",
      "], 'Center for Applied Ethics, Voluntary Health\\n': [Center, for, Applied, Ethics, ,, Voluntary, Health, \n",
      "], 'Heart of Atlanta Motel, Inc. v. United\\n': [Heart, of, Atlanta, Motel, ,, Inc., v., United, \n",
      "], 'Katzenbach v. McClung': [Katzenbach, v., McClung], 'Kinsella v.\\n': [Kinsella, v., \n",
      "], 'Printz v. United\\n': [Printz, v., United, \n",
      "], 'Sabri v. United States,': [Sabri, v., United, States, ,], 'Nelson v. Sears, Roebuck & Co.': [Nelson, v., Sears, ,, Roebuck, &, Co.], 'United States v. Reorganized CF&I Fabricators of Utah': [United, States, v., Reorganized, CF&I, Fabricators, of, Utah], 'United States v. Sanchez': [United, States, v., Sanchez], 'Sonzinsky v. United States,': [Sonzinsky, v., United, States, ,], 'New York v. United States': [New, York, v., United, States], 'New York v. United States\\n\\n': [New, York, v., United, States, \n",
      "\n",
      "], 'Hylton v. United States': [Hylton, v., United, States], 'Eisner v. Macom-': [Eisner, v., Macom-], 'United States v. Butler': [United, States, v., Butler], 'Oklahoma Tax Comm’n v.\\n': [Oklahoma, Tax, Comm’n, v., \n",
      "], 'Barnes v. Gorman': [Barnes, v., Gorman], 'Hospital v. Halderman': [Hospital, v., Halderman], 'Steward Machine Co. v. Davis': [Steward, Machine, Co., v., Davis], 'Massachusetts v. Mellon': [Massachusetts, v., Mellon], 'Brief for\\n': [Brief, for, \n",
      "], 'FERC v. Mississippi': [FERC, v., Mississippi], 'United States v. Booker': [United, States, v., Booker], 'Ayotte v. Planned\\n': [Ayotte, v., Planned, \n",
      "], 'Hammer v. Dagenhart': [Hammer, v., Dagenhart], 'NLRB v. Jones & Laughlin\\n': [NLRB, v., Jones, &, Laughlin, \n",
      "], 'Helvering v. Davis': [Helvering, v., Davis], 'Brief for Health Care for\\n': [Brief, for, Health, Care, for, \n",
      "], 'Brief for Governor of Washington Christine\\n': [Brief, for, Governor, of, Washington, Christine, \n",
      "], 'Brief for Commonwealth of\\n': [Brief, for, Commonwealth, of, \n",
      "], 'EEOC v. Wyoming': [EEOC, v., Wyoming], 'American Power & Light Co. v. SEC,\\n': [American, Power, &, Light, Co., v., SEC, ,, \n",
      "], 'Hodel v. Virginia\\n': [Hodel, v., Virginia, \n",
      "], 'Heart of Atlanta Motel, Inc. v. United States': [Heart, of, Atlanta, Motel, ,, Inc., v., United, States], 'Brief for State of Maryland': [Brief, for, State, of, Maryland], 'Perez v. United\\n': [Perez, v., United, \n",
      "], 'United States v. Wrightwood\\n': [United, States, v., Wrightwood, \n",
      "], 'Cherokee Nation v. Southern Kansas R. Co.': [Cherokee, Nation, v., Southern, Kansas, R., Co.], 'Troxel v. Granville': [Troxel, v., Granville], 'McDonald v. Chicago': [McDonald, v., Chicago], 'Albright v. Oliver': [Albright, v., Oliver], 'Hoke v. United States,': [Hoke, v., United, States, ,], 'Perez v. United States, O. T.': [Perez, v., United, States, ,, O., T.], 'Brief for Appellee': [Brief, for, Appellee], 'Printz v. United States,': [Printz, v., United, States, ,], 'Sabri v. United States': [Sabri, v., United, States], 'Nortz v. United States,': [Nortz, v., United, States, ,], 'Schweiker v. Gray Panthers': [Schweiker, v., Gray, Panthers], 'Financial Outlook for Medicaid': [Financial, Outlook, for, Medicaid], 'Brief for Petitioners\\n\\n': [Brief, for, Petitioners, \n",
      "\n",
      "], 'Frew v. Hawkins': [Frew, v., Hawkins], 'Bennett v. Kentucky Dept.': [Bennett, v., Kentucky, Dept, .], 'Bowen v. Public Agencies Opposed to\\n': [Bowen, v., Public, Agencies, Opposed, to, \n",
      "], 'Brief for National Health Law Program et al.': [Brief, for, National, Health, Law, Program, et, al, .], 'Brief for David Satcher et': [Brief, for, David, Satcher, et], 'NLRB v. Jones & Laughlin Steel\\n': [NLRB, v., Jones, &, Laughlin, Steel, \n",
      "], 'Andrus v. Allard': [Andrus, v., Allard], 'Perez v. United States,': [Perez, v., United, States, ,], 'Commodity Futures Trading Comm’n v. Schor': [Commodity, Futures, Trading, Comm’n, v., Schor], 'Aptheker v. Secretary of State,\\n': [Aptheker, v., Secretary, of, State, ,, \n",
      "], 'Scales v. United\\n': [Scales, v., United, \n",
      "], 'Lipke v. Lederer': [Lipke, v., Lederer], 'Staples v. United States,': [Staples, v., United, States, ,], 'Parsons v.\\n': [Parsons, v., \n",
      "], 'Pennhurst State School and Hospital v. Halderman': [Pennhurst, State, School, and, Hospital, v., Halderman], 'Fullilove v. Klutznick': [Fullilove, v., Klutznick], 'Office of Management and Budget, Historical Tables, Budget of\\n': [Office, of, Management, and, Budget, ,, Historical, Tables, ,, Budget, of, \n",
      "], 'College Savings Bank v. Florida Prepaid\\n': [College, Savings, Bank, v., Florida, Prepaid, \n",
      "], 'Davis v. Monroe County Bd.': [Davis, v., Monroe, County, Bd, .], 'Massachusetts v. United States,': [Massachusetts, v., United, States, ,], 'Metropolitan Washington Airports Authority v. Citizens for\\n': [Metropolitan, Washington, Airports, Authority, v., Citizens, for, \n",
      "], 'Inc. v. Thornton': [Inc., v., Thornton], 'Office of Management': [Office, of, Management], 'Table 12.3—Total Outlays for Grants to State and Local Gov-': [Table, 12.3—Total, Outlays, for, Grants, to, State, and, Local, Gov-], 'Temporary Assistance for Needy Families (TANF)': [Temporary, Assistance, for, Needy, Families, (, TANF, )], 'Ayotte v. Planned Parenthood of\\n': [Ayotte, v., Planned, Parenthood, of, \n",
      "], 'Reimbursements to Hospitals and\\n      Other Reductions': [Reimbursements, to, Hospitals, and, \n",
      "      , Other, Reductions], 'Support of Government’s Motion\\n': [Support, of, Government, ’s, Motion, \n",
      "]}\n"
     ]
    }
   ],
   "source": [
    "#def remove_statues_from_cases(case_list: List, law_doc: Any, lay_doc: Any):\n",
    "#    '''Takes a list of cases and removes the ones that are actually statutes'''\n",
    "#    case_dict = {case: []}\n",
    "#    pass\n",
    "print(result_two)"
   ]
  },
  {
   "cell_type": "code",
   "execution_count": null,
   "metadata": {},
   "outputs": [],
   "source": []
  },
  {
   "cell_type": "code",
   "execution_count": 68,
   "metadata": {},
   "outputs": [
    {
     "ename": "NameError",
     "evalue": "name 'get_judges' is not defined",
     "output_type": "error",
     "traceback": [
      "\u001b[0;31m---------------------------------------------------------------------------\u001b[0m",
      "\u001b[0;31mNameError\u001b[0m                                 Traceback (most recent call last)",
      "\u001b[0;32m<ipython-input-68-f5ea66c0b0a8>\u001b[0m in \u001b[0;36m<module>\u001b[0;34m\u001b[0m\n\u001b[0;32m----> 1\u001b[0;31m \u001b[0mjudges\u001b[0m \u001b[0;34m=\u001b[0m \u001b[0;34m[\u001b[0m\u001b[0mi\u001b[0m \u001b[0;32mfor\u001b[0m \u001b[0mi\u001b[0m \u001b[0;32min\u001b[0m \u001b[0mget_judges\u001b[0m\u001b[0;34m(\u001b[0m\u001b[0mbx\u001b[0m\u001b[0;34m,\u001b[0m \u001b[0mdoc\u001b[0m\u001b[0;34m)\u001b[0m\u001b[0;34m]\u001b[0m\u001b[0;34m\u001b[0m\u001b[0;34m\u001b[0m\u001b[0m\n\u001b[0m\u001b[1;32m      2\u001b[0m \u001b[0;32mfor\u001b[0m \u001b[0mi\u001b[0m \u001b[0;32min\u001b[0m \u001b[0mjudges\u001b[0m\u001b[0;34m:\u001b[0m\u001b[0;34m\u001b[0m\u001b[0;34m\u001b[0m\u001b[0m\n\u001b[1;32m      3\u001b[0m     \u001b[0;32mfor\u001b[0m \u001b[0mj\u001b[0m \u001b[0;32min\u001b[0m \u001b[0mi\u001b[0m\u001b[0;34m:\u001b[0m\u001b[0;34m\u001b[0m\u001b[0;34m\u001b[0m\u001b[0m\n\u001b[1;32m      4\u001b[0m         \u001b[0mprint\u001b[0m\u001b[0;34m(\u001b[0m\u001b[0mi\u001b[0m\u001b[0;34m.\u001b[0m\u001b[0mtext\u001b[0m\u001b[0;34m,\u001b[0m \u001b[0;34m[\u001b[0m\u001b[0mj\u001b[0m\u001b[0;34m.\u001b[0m\u001b[0mtext\u001b[0m \u001b[0;32mfor\u001b[0m \u001b[0mj\u001b[0m \u001b[0;32min\u001b[0m \u001b[0mi\u001b[0m\u001b[0;34m]\u001b[0m\u001b[0;34m,\u001b[0m \u001b[0mend\u001b[0m\u001b[0;34m=\u001b[0m\u001b[0;34m'\\t'\u001b[0m\u001b[0;34m)\u001b[0m\u001b[0;34m\u001b[0m\u001b[0;34m\u001b[0m\u001b[0m\n",
      "\u001b[0;31mNameError\u001b[0m: name 'get_judges' is not defined"
     ]
    }
   ],
   "source": [
    "judges = [i for i in get_judges(bx, doc)]\n",
    "for i in judges:\n",
    "    for j in i:\n",
    "        print(i.text, [j.text for j in i], end='\\t')"
   ]
  },
  {
   "cell_type": "code",
   "execution_count": null,
   "metadata": {},
   "outputs": [],
   "source": [
    "def remove_statutes(case_list: List):\n",
    "    '''removes statutes, each of which have a numeric elemnt'''"
   ]
  },
  {
   "cell_type": "code",
   "execution_count": null,
   "metadata": {},
   "outputs": [],
   "source": [
    "#how to get the cases\n",
    "#get_actual_cases(get_casename_citations_filtered(doc))"
   ]
  },
  {
   "cell_type": "code",
   "execution_count": null,
   "metadata": {},
   "outputs": [],
   "source": []
  },
  {
   "cell_type": "code",
   "execution_count": null,
   "metadata": {},
   "outputs": [],
   "source": [
    "cases_found = get_cases_from_doc(doc)\n",
    "print('Cases found: ', [(i, i.label_) for i in cases_found])"
   ]
  },
  {
   "cell_type": "code",
   "execution_count": 21,
   "metadata": {},
   "outputs": [],
   "source": [
    "#print(dir(spacy.tokens.Token))\n",
    "#for i in cases_found:\n",
    "#    for token in i:\n",
    "#        print(token.text, token.pos_, token.dep_, [i for i in token.lefts], [i for i in token.rights])"
   ]
  },
  {
   "cell_type": "code",
   "execution_count": 385,
   "metadata": {},
   "outputs": [],
   "source": [
    "@dataclass\n",
    "class CaseWithNLP:\n",
    "    case_name: str\n",
    "    name_token: spacy.tokens.Token\n",
    "    plaintiff: spacy.tokens.Token\n",
    "    respondant: spacy.tokens.Token\n",
    "    "
   ]
  },
  {
   "cell_type": "code",
   "execution_count": 388,
   "metadata": {},
   "outputs": [],
   "source": [
    "def get_case_list(doc):\n",
    "    result = get_cases_from_doc(doc)\n",
    "    return result"
   ]
  },
  {
   "cell_type": "code",
   "execution_count": 390,
   "metadata": {},
   "outputs": [
    {
     "name": "stdout",
     "output_type": "stream",
     "text": [
      "[United States v. Standard Oil Co., Dalehite v. United States,]\n"
     ]
    }
   ],
   "source": [
    "res = make_case_with_nlp(doc)\n",
    "print(res)"
   ]
  },
  {
   "cell_type": "code",
   "execution_count": null,
   "metadata": {},
   "outputs": [],
   "source": [
    "def "
   ]
  }
 ],
 "metadata": {
  "kernelspec": {
   "display_name": "Python 3",
   "language": "python",
   "name": "python3"
  },
  "language_info": {
   "codemirror_mode": {
    "name": "ipython",
    "version": 3
   },
   "file_extension": ".py",
   "mimetype": "text/x-python",
   "name": "python",
   "nbconvert_exporter": "python",
   "pygments_lexer": "ipython3",
   "version": "3.6.10"
  }
 },
 "nbformat": 4,
 "nbformat_minor": 4
}
