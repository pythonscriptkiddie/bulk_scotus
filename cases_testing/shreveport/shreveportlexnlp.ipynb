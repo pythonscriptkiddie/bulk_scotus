{
 "cells": [
  {
   "cell_type": "code",
   "execution_count": 9,
   "metadata": {},
   "outputs": [],
   "source": [
    "from lexnlp.extract.en.entities import nltk_maxent, nltk_re, nltk_tokenizer, stanford_ner"
   ]
  },
  {
   "cell_type": "code",
   "execution_count": 7,
   "metadata": {},
   "outputs": [],
   "source": [
    "with open('cleaned_shreveport.txt') as in_file:\n",
    "    text = in_file.read()"
   ]
  },
  {
   "cell_type": "code",
   "execution_count": 10,
   "metadata": {},
   "outputs": [
    {
     "ename": "NameError",
     "evalue": "name 'lexnlp' is not defined",
     "output_type": "error",
     "traceback": [
      "\u001b[0;31m---------------------------------------------------------------------------\u001b[0m",
      "\u001b[0;31mNameError\u001b[0m                                 Traceback (most recent call last)",
      "\u001b[0;32m<ipython-input-10-e3a327ac7f13>\u001b[0m in \u001b[0;36m<module>\u001b[0;34m\u001b[0m\n\u001b[0;32m----> 1\u001b[0;31m \u001b[0mlexnlp\u001b[0m\u001b[0;34m\u001b[0m\u001b[0;34m\u001b[0m\u001b[0m\n\u001b[0m",
      "\u001b[0;31mNameError\u001b[0m: name 'lexnlp' is not defined"
     ]
    }
   ],
   "source": [
    "lexnlp"
   ]
  },
  {
   "cell_type": "code",
   "execution_count": 57,
   "metadata": {},
   "outputs": [
    {
     "name": "stdout",
     "output_type": "stream",
     "text": [
      "Help on package lexnlp.extract.en.entities in lexnlp.extract.en:\n",
      "\n",
      "NAME\n",
      "    lexnlp.extract.en.entities\n",
      "\n",
      "PACKAGE CONTENTS\n",
      "    nltk_maxent\n",
      "    nltk_re\n",
      "    nltk_tokenizer\n",
      "    stanford_ner\n",
      "\n",
      "DATA\n",
      "    __copyright__ = 'Copyright 2015-2020, ContraxSuite, LLC'\n",
      "    __email__ = 'support@contraxsuite.com'\n",
      "    __license__ = 'https://github.com/LexPredict/lexpredict-lexnlp/blob/ma...\n",
      "    __maintainer__ = 'LexPredict, LLC'\n",
      "\n",
      "VERSION\n",
      "    1.6.0\n",
      "\n",
      "AUTHOR\n",
      "    ContraxSuite, LLC; LexPredict, LLC\n",
      "\n",
      "FILE\n",
      "    /Users/thomassullivan/data_science/anaconda3/envs/LexicalKnowledge/lib/python3.6/site-packages/lexnlp/extract/en/entities/__init__.py\n",
      "\n",
      "\n"
     ]
    }
   ],
   "source": [
    "#import os\n",
    "help(lexnlp.extract.en.entities)"
   ]
  },
  {
   "cell_type": "code",
   "execution_count": 40,
   "metadata": {},
   "outputs": [
    {
     "name": "stderr",
     "output_type": "stream",
     "text": [
      "[nltk_data] Downloading package averaged_perceptron_tagger to\n",
      "[nltk_data]     /Users/thomassullivan/nltk_data...\n",
      "[nltk_data]   Package averaged_perceptron_tagger is already up-to-\n",
      "[nltk_data]       date!\n"
     ]
    },
    {
     "data": {
      "text/plain": [
       "True"
      ]
     },
     "execution_count": 40,
     "metadata": {},
     "output_type": "execute_result"
    }
   ],
   "source": [
    "import nltk\n",
    "nltk.download('averaged_perceptron_tagger')"
   ]
  },
  {
   "cell_type": "code",
   "execution_count": 41,
   "metadata": {
    "collapsed": true,
    "jupyter": {
     "outputs_hidden": true
    }
   },
   "outputs": [
    {
     "name": "stdout",
     "output_type": "stream",
     "text": [
      "Help on package lexnlp.extract.en in lexnlp.extract:\n",
      "\n",
      "NAME\n",
      "    lexnlp.extract.en\n",
      "\n",
      "PACKAGE CONTENTS\n",
      "    acts\n",
      "    addresses (package)\n",
      "    amounts\n",
      "    citations\n",
      "    conditions\n",
      "    constraints\n",
      "    contracts (package)\n",
      "    copyright\n",
      "    courts\n",
      "    cusip\n",
      "    date_model\n",
      "    dates\n",
      "    definition_parsing_methods\n",
      "    definitions\n",
      "    dict_entities\n",
      "    distances\n",
      "    durations\n",
      "    en_language_tokens\n",
      "    entities (package)\n",
      "    geoentities\n",
      "    introductory_words_detector\n",
      "    money\n",
      "    percents\n",
      "    pii\n",
      "    preprocessing (package)\n",
      "    ratios\n",
      "    regulations\n",
      "    trademarks\n",
      "    urls\n",
      "    utils\n",
      "\n",
      "DATA\n",
      "    __copyright__ = 'Copyright 2015-2020, ContraxSuite, LLC'\n",
      "    __email__ = 'support@contraxsuite.com'\n",
      "    __license__ = 'https://github.com/LexPredict/lexpredict-lexnlp/blob/ma...\n",
      "    __maintainer__ = 'LexPredict, LLC'\n",
      "\n",
      "VERSION\n",
      "    1.6.0\n",
      "\n",
      "AUTHOR\n",
      "    ContraxSuite, LLC; LexPredict, LLC\n",
      "\n",
      "FILE\n",
      "    /Users/thomassullivan/data_science/anaconda3/envs/LexicalKnowledge/lib/python3.6/site-packages/lexnlp/extract/en/__init__.py\n",
      "\n",
      "\n"
     ]
    }
   ],
   "source": [
    "help(lexnlp.extract.en)"
   ]
  },
  {
   "cell_type": "code",
   "execution_count": null,
   "metadata": {},
   "outputs": [],
   "source": []
  }
 ],
 "metadata": {
  "kernelspec": {
   "display_name": "Python 3",
   "language": "python",
   "name": "python3"
  },
  "language_info": {
   "codemirror_mode": {
    "name": "ipython",
    "version": 3
   },
   "file_extension": ".py",
   "mimetype": "text/x-python",
   "name": "python",
   "nbconvert_exporter": "python",
   "pygments_lexer": "ipython3",
   "version": "3.6.10"
  }
 },
 "nbformat": 4,
 "nbformat_minor": 4
}
