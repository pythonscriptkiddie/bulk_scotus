{
 "cells": [
  {
   "cell_type": "code",
   "execution_count": 1,
   "metadata": {},
   "outputs": [
    {
     "name": "stderr",
     "output_type": "stream",
     "text": [
      "/Users/thomassullivan/data_science/anaconda3/envs/LexicalKnowledge/lib/python3.6/site-packages/sklearn/externals/joblib/__init__.py:15: DeprecationWarning: sklearn.externals.joblib is deprecated in 0.21 and will be removed in 0.23. Please import this functionality directly from joblib, which can be installed with: pip install joblib. If this warning is raised when loading pickled models, you may need to re-serialize those models with scikit-learn 0.21+.\n",
      "  warnings.warn(msg, category=DeprecationWarning)\n"
     ]
    }
   ],
   "source": [
    "from lexnlp.extract.en.entities import nltk_maxent, nltk_re, nltk_tokenizer, stanford_ner"
   ]
  },
  {
   "cell_type": "code",
   "execution_count": 11,
   "metadata": {},
   "outputs": [
    {
     "name": "stdout",
     "output_type": "stream",
     "text": [
      "234 U.S. 342 34 S.Ct. 833 58 L.Ed. 1341 HOUSTON, EAST &amp; WEST TEXAS RAILWAY COMPANY and Houston  &amp; Shreveport Railroad Company et al., Appts.,v.UNITED STATES, the Interstate Commerce Commission et al. No. 567.  TEXAS &amp; RACIFIC RAILWAY COMPANY et al., Appts., v. UNITED STATES, the Interstate Commerce Commission et al. No. 568. Nos. 567 and 568. Argued October 28 and 29, 1913. Decided June 8, 1914. [Syllabus from pages 342-344 intentionally omitted] Messrs. Hiram M. Garwood, James G. Wilson, and Maxwell Evarts for appellants in No. 567. Messrs. Thomas J. Freeman, George Thompson, and W. L. Hall for appellants in No. 568. Assistant Attorney General Denison and Mr. Thurlow M. Gordon for the United States. Mr. P. J. Farrell for the Interstate Commerce Commission. Messrs. R. G. Pleasant, Luther M. Walter, John S. Burchmore, M. W. Borders, and W. M. Barrow for intervener, the Railroad Commission of Louisiana, in No. 567. Mr. Justice Hughes delivered the opinion of the court:   1 These suits were brought in the commerce court by the Houston, East &amp; West Texas Railway Company and the Houston &amp; Shreveport Railroad Company, and by the Texas &amp; Pacific Railway Company, respectively, to set aside an order of the Interstate Commerce Commission, dated March 11, 1912, upon the ground that it exceeded the Commission's authority. Other railroad companies1 intervened in support of the petitions, and the Interstate Commerce Commission and the Railroad Commission of Louisiana intervened in opposition. The petitions were dismissed. 205 Fed. 380, 391.   2 The order of the Interstate Commerce Commission was made in a proceeding initiated in March, 1911, by the Railroad Commission of Louisiana. The complaint was that the appellants, and other interstate carriers, maintained unreasonable rates from Shreveport, Louisiana, to various points in Texas, and, further, that these carriers, in the adjustment of rates over their respective lines, unjustly discriminated in favor of traffic within the state of Texas, and against similar traffic between Louisiana and Texas. The carriers filed answers; numerous pleas of intervention by shippers and commercial bodies were allowed; testimony was taken and arguments were heard.   3 The gravamen of the complaint, said the Interstate Commerce Commission, was that the carriers made rates out of Dallas and other Texas points into eastern Texas which were much lower than those which they extended into Texas from Shreveport. The situation may be briefly described: Shreveport, Louisiana, is about 40 miles from the Texas state line, and 231 miles from Houston, Texas, on the line of the Houston, East &amp; West Texas and Houston &amp; Shreveport Companies (which are affiliated in interest); it is 189 miles from Dallas, Texas, on the line of the Texas &amp; Pacific. Shreveport competes with both cities for the trade of the intervening territory. The rates on these lines from Dallas and Houston, respectively, eastward to intermediate points in Texas, were much less, according to distance, than from Shreveport westward to the same points. It is undisputed that the difference was substantial, and injuriously affected the commerce of Shreveport. It appeared, for example, that a rate of 60 cents carried first-class traffic a distance of 160 miles to the eastward from Dallas, while the same rate would carry the same class of traffic only 55 miles into Texas from Shreveport. The first-class rate from Houston to Lufkin, Texas, 118.2 miles, was 50 cents per 100 pounds, while the rate from Shreveport to the same point, 112.5 miles, was 69 cents. The rate on wagons from Dallas to Marshall, Texas, 147.7 miles was 36.8 cents, and from Shreveport to Marshall, 42 miles, 56 cents. The rate on furniture from Dallas to Longview, Texas, 124 miles, was 24.8 cents, and that from Shreveport to Longview, 65.7 miles was 35 cents. These instances of differences in rates are merely illustrative; they serve to indicate the character of the rate adjustment.   4 The Interstate Commerce Commission found that the interstate class rates out of Shreveport to named Texas points were unreasonable, and it established maximum class rates for this traffic. These rates, we understand, were substantially the same as the class rates fixed by the Railroad Commission of Texas, and charged by the carriers, for transportation for similar distances in that state. The Interstate Commerce Commission also found that the carriers maintained 'higher rates from Shreveport to points in Texas' than were in force 'from cities in Texas to such points under substantially similar conditions and circumstances,' and that thereby 'an unlawful and undue preference and advantage' was given to the Texas cities, and a 'discrimination' that was 'undue and unlawful' was effected against Shreveport. In order to correct this discrimination, the carriers were directed to desist from charging higher rates for the transportation of any commodity from Shreveport to Dallas and Houston, respectively, and intermediate than were contemporaneously charged for the carriage of such commodity from Dallas and Houston toward Shreveport for equal distances, as the Commission found that relation of rates to be reasonable. 23 Inters. Com. Rep. 31, 46-48.   5 The order in question is set forth in the margin.2 The report states that under this order it will be the duty of the companies 'to duly and justly equalize the terms and conditions' upon which they will extend 'transportation to traffic of a similar character, moving into Texas from Shreveport, with that moving wholly within Texas,' but that, in effecting such equalization, the class scale rates as prescribed shall not be exceeded.   6 In their petition in the commerce court, the appellants assailed the order in its entirety, but subsequently they withdrew their opposition to the fixing of maximum class rates, and these rates were put in force by the carriers in May, 1912. The attack was continued upon that portion of the order which prohibited the charge of higher rates for carrying articles from Shreveport into Texas than those charged for eastward traffic from Dallas and Houston, respectively, for equal distances. There are, it appears, commodity rates fixed by the Railroad Commission of Texas for intrastate hauls, which are substantially less than the class, or standard, rates prescribed by that Commission; and thus the commodity rates charged by the carriers from Dallas and Houston eastward to Texas points are less than the rates which they demand for the transportation of the same articles for like distances from Shreveport into Texas. The present controversy relates to these commodity rates.   7 The point of the objection to the order is that, as the discrimination found by the Commission to be unjust arises out of the relation of intrastate rates, maintained under state authority, to interstate rates that have been upheld as reasonable, its correction was beyond the Commission's power. Manifestly the order might be complied with, and the discrimination avoided, either by reducing the interstate rates from Shreveport to the level of the competing intrastate rates, or by raising these intrastate rates to the level of the interstate rates, or by such reduction in the one case and increase in the other as would result in equality. But it is urged that, so far as the interstate rates were sustained by the Commission as reasonable, the Commission was without authority to compel their reduction in order to equalize them with the lower intrastate rates. The holding of the commerce court was that the order relieved the appellants from further obligation to observe the intrastate rates, and that they were at liberty to comply with the Commission's requirements by increasing these rates sufficiently to remove the forbidden discrimination. The invalidity of the order in this aspect is challenged upon two grounds:   8 (1) That Congress is impotent to control the intrastate charges of an interstate carrier even to the extent necessary to prevent injurious discrimination against interstate traffic; and   9 (2) That, if it be assumed that Congress has this power, still it has not been exercised, and hence the action of the Commission exceeded the limits of the authority which has been conferred upon it.   10 First. It is unnecessary to repeat what has frequently been said by this court with respect to the complete and paramount character of the power confided to Congress to regulate commerce among the several states. It is of the essence of this power that, where it exists, it dominates. Interstate trade was not left to be destroyed or impeded by the rivalries of local government. The purpose was to make impossible the recurrence of the evils which had overwhelmed the Confederation, and to provide the necessary basis of national unity by insuring 'uniformity of regulation against conflicting and discriminating state legislation.' By virtue of the comprehensive terms of the grant, the authority of Congress is at all times adequate to meet the varying exigencies that arise, and to protect the national interest by securing the freedom of interstate commercial intercourse from local control. Gibbons v. Ogden, 9 Wheat. 1, 196, 224, 6 L. ed. 23, 70, 76; Brown v. Maryland, 12 Wheat. 419, 446, 6 L. ed. 678, 688; Mobile County v. Kimball, 102 U. S. 691, 696, 697, 26 L. ed. 238, 240; Smith v. Alabama, 124 U. S. 465, 473, 31 L. ed. 508, 510, 1 Inters. Com. Rep. 804, 8 Sup. Ct. Rep. 564; Second Employers' Liability Cases (Mondou v. New York, N. H. &amp; H. R. Co.) 223 U. S. 1, 47, 53, 54, 56 L. ed. 327, 345, 347, 348, 38 L.R.A.(N.S.) 44, 32 Sup. Ct. Rep. 169, 1 N. C. C. A. 875; Minnesota Rate Cases (Simpson v. Shepard) 230 U. S. 352, 398, 399, 57 L. ed. 1511, 1540, 1541, 48 L.R.A.(N.S.) 1151, 33 Sup. Ct. Rep. 729.   11 Congress is empowered to regulate,&#8212;that is, to provide the law for the government of interstate commerce; to enact 'all appropriate legislation' for its 'protection and advancement' (The Daniel Ball, 10 Wall. 557, 564, 19 L. ed. 999, 1001); to adopt measures 'to promote its growth and insure its safety' (Mobile County v. Kimball, 102 U. S. 691, 696, 697, 29 L. ed. 238-240); 'to foster, protect, control, and restrain' (Second Employers' Liability Cases [Mondou v. New York, N. H. &amp; H. R. Co.] 223 U. S. 1, 47, 53, 54, 56 L. ed. 327, 345, 347, 348, 38 L.R.A.(N.S.) 44, 32 Sup. Ct. Rep. 169, 1 N. C. C. A. 875). Its authority, extending to these interstate carriers as instruments of interstate commerce, necessarily embraces the right to control their operations in all matters having such a close and substantial relation to interstate traffic that the control is essential or appropriate to the security of that traffic, to the efficiency of the interstate service, and to the maintenance of conditions under which interstate commerce may be conducted upon fair terms and without molestation or hindrance. As it is competent for Congress to legislate to these ends, unquestionably it may seek their attainment by requiring that the agencies of interstate commerce shall not be used in such manner as to cripple, retard, or destroy it. The fact that carriers are instruments of intrastate commerce, as well as of interstate commerce, does not derogate from the complete and paramount authority of Congress over the latter, or preclude the Federal power from being exerted to prevent the intrastate operations of such carriers from being made a means of injury to that which has been confided to Federal care. Wherever the interstate and intrastate transactions of carriers are so related that the government of the one involves the control of the other, it is Congress, and not the state, that is entitled to prescribe the final and dominant rule, for otherwise Congress would be denied the exercise of its constitutional authority, and the state, and not the nation, would be supreme within the national field. Baltimore &amp; O. R. Co. v. Interstate Commerce Commission, 221 U. S. 612, 618, 55 L. ed. 878, 882, 31 Sup. Ct. Rep. 621; Southern R. Co. v. United States, 222 U. S. 20, 26, 27, 56 L. ed. 72, 74, 75, 32 Sup. Ct. Rep. 2, 3 N. C. C. A. 822; Second Employers' Liability Cases (Mondou v. New York, N. H. &amp; H. R. Co.) 223 U. S. 48, 51, 56 L. ed. 345, 346, 38 L.R.A.(N.S.) 44, 32 Sup. Ct. Rep. 169, 1 N. C. C. A. 875; Interstate Commerce Commission v. Goodrich Transit Co. 224 U. S. 194, 205, 213, 56 L. ed. 729, 733, 737, 32 Sup. Ct. Rep. 436; Minnesota Rate Cases (Simpson v. Shepard) 230 U. S. 431, 57 L. ed. 1554, 48 L.R.A.(N.S.) 1151, 33 Sup. Ct. Rep. 729; Illinois C. R. Co. v. Behrens, decided April 27, 1914 [233 U. S. 473, 58 L. ed. &#8212;&#8212;, 34 Sup. Ct. Rep. 646].   12 In Baltimore &amp; O. R. Co. v. Interstate Commerce Commission, supra, the argument against the validity of the hours of service act (March 4, 1907, chap. 2939, 34 Stat. at L. 14, 15, U. S. Comp. Stat. Supp. 1911, p. 1321) involved the consideration that the interstate and intrastate transactions of the carriers were so interwoven that it was utterly impracticable for them to divide their employees so that those who were engaged in interstate commerce should be confined to that commerce exclusively. Employees dealing with the movement of trains were employed in both sorts of commerce; but the court held that this fact did not freclude the exercise of Federal power. As Congress could limit the hours of labor of those engaged in interstate transportation, it necessarily followed that its will could not be frustrated by prolonging the period of service through other requirements of the carriers, or by the commingling of duties relating to interstate and intrastate operations. Again, in Southern R. Co. v. United States, 222 U. S. 20, 26, 27, 56 L. ed. 72, 74, 75, 32 Sup. Ct. Rep. 2, 3 N. C. C. A. 822, the question was presented whether the amendment to the safety appliance act (March 2, 1903, 32 Stat. at L. 943, chap. 976, U. S. Comp. Stat. Supp. 1911, p. 1314) was within the power of Congress in view of the fact that the statute was not confined to vehicles that were used in interstate traffic, but also embraced those used in intrastate traffic. The court answered affirmatively, because there was such a close relation between the two classes of traffic moving over the same railroad as to make it certain that the safety of the interstate traffic, and of those employed in its movement, would be promoted in a real and substantial sense by applying the requirements of the act to both classes of vehicles. So, in the Second Employers' Liability Cases, supra, it was insisted that while Congress had the authority to regulate the liability of a carrier for injuries sustained by one employee through the negligence of another, where all were engaged in interstate commerce, that power did not embrace instances where the negligent employee was engaged in intrastate commerce. The court said that this was a mistaken theory, as the causal negligence, when operating injuriously upon an employee engaged in interstate commerce, had the same effect with respect to that commerce as if the negligent employee were also engaged therein. The decision in Employers' Liability Cases (Howard v. Illinois C. R. Co.) 207 U. S. 463, 52 L. ed. 297, 28 Sup. Ct. Rep. 141, is not opposed, for the statute there in question (June 11, 1906, chap. 3073, 34 Stat. at L. 232, U. S. Comp. Stat. Supp. 1911, p. 1316) sought to regulate the liability of interstate carriers for injuries to any employee even though his employment had no connection whatever with interstate commerce. See Illinois C. R. Co. v. Behrens, 233 U. S. 473, 58 L. ed. &#8212;&#8212;, 34 Sup. Ct. Rep. 646.   13 While these decisions sustaining the Federal power relate to measures adopted in the interest of the safety of persons and property, they illustrate the principle that Congress, in the exercise of its paramount power, may prevent the common instrumentalities of interstate and intrastate commercial intercourse from being used in their intrastate operations to the injury of interstate commerce. This is not to say that Congress possesses the authority to regulate the internal commerce of a state, as such, but that it does possess the power to foster and protect interstate commerce, and to take all measures necessary or appropriate to that end, although intrastate transactions of interstate carriers may thereby be controlled.   14 This principle is applicable here. We find no reason to doubt that Congress is entitled to keep the highways of interstate communication open to interstate traffic upon fair and equal terms. That an unjust discrimination in the rates of a common carrier, by which one person or locality is unduly favored as against another under substantially similar conditions of traffic, constitutes an evil, is undeniable; and where this evil consists in the action of an interstate carrier in unreasonably discriminating against interstate traffic over its line, the authority of Congress to prevent it is equally clear. It is immaterial, so far as the protecting power of Congress is concerned, that the discrimination arises from intrastate rates as compared with interstate rates. The use of the instrument of interstate commerce in a discriminatory manner so as to inflict injury upon that commerce, or some part thereof, furnishes abundant ground for Federal intervention. Nor can the attempted exercise of state authority alter the matter, where Congress has acted, for a state may not authorize the carrier to do that which Congress is entitled to forbid and has forbidden.   15 It is to be noted&#8212;as the government has well said in its argument in support of the Commission's order&#8212;that the power to deal with the relation between the two kinds of rates, as a relation, lies exclusively with Congress. It is manifest that the state cannot fix the relation of the carrier's interstate and intrastate charges without directly interfering with the former, unless it simply follows the standard set by Federal authority. This question was presented with respect to the long and short haul provision of the Kentucky Constitution, adopted in 1891, which the court had before it in Louisville &amp; N. R. Co. v. Eubank, 184 U. S. 27, 46 L. ed. 416, 22 Sup. Ct. Rep. 277. The state court had construed this provision as embracing a long haul, from a place outside to one within the state, and a shorter haul on the same line and in the same direction between points within the state. This court held that, so construed, the provision was invalid as being a regulation of interstate commerce because 'it linked the interstate rate to the rate for the shorter haul, and thus the interstate charge was directly controlled by the state law.' See 230 U. S. pp. 428, 429. It is for Congress to supply the needed correction where the relation between intrastate and interstate rates presents the evil to be corrected, and this it may do completely, by reason of its control over the interstate carrier in all matters having such a close and substantial relation to interstate commerce that it is necessary or appropriate to exercise the control for the effective government of that commerce.   16 It is also clear that, in removing the injurious discriminations against interstate traffic arising from the relation of intrastate to interstate rates, Congress is not bound to reduce the latter below what it may deem to be a proper standard, fair to the carrier and to the public. Otherwise, it could prevent the injury to interstate commerce only by the sacrifice of its judgment as to interstate rates. Congress is entitled to maintain its own standard as to these rates, and to forbid any discriminatory action by interstate carriers which will obstruct the freedom of movement of interstate traffic over their lines in accordance with the terms it establishes.   17 Having this power, Congress could provide for its execution through the aid of a subordinate body; and we conclude that the order of the Commission now in question cannot be held invalid upon the ground that it exceeded the authority which Congress could lawfully confer.   18 Second. The remaining question is with regard to the scope of the power which Congress has granted to the Commission.   19 Section 3 of the act to regulate commerce provides (24 Stat. at L. 3798 380, chap. 104, U. S. Comp. Stat. 1901, pp. 3154, 3155):   20 Sec. 3. That it shall be unlawful for any common carrier subject to the provisions of this act to make or give any undue or unreasonable preference or advantage to any particular person, company, firm, corporation, or locality, or any particular description of traffic, in any respect whatsoever, or to subject any particular person, company, firm, corporation, or locality, or any particular description of traffic, to any undue or unreasonable prejudice or disadvantage in any respect whatsoever.'   21 This language is certainly sweeping enough to embrace all the discriminations of the sort described which it was within the power of Congress to condemn. There is no exception or qualification with respect to an unreasonable discrimination against interstate traffic produced by the relation of intrastate to interstate rates as maintained by the carrier. It is apparent from the legislative history of the act that the evil of discrimination was the principal thing aimed at, and there is no basis for the contention that Congress intended to exempt any discriminatory action or practice of interstate carriers affecting interstate commerce which it had authority to reach. The purpose of the measure was thus emphatically stated in the elaborate report of the Senate Committee on Interstate Commerce which accompanied it: 'The provisions of the bill are based upon the theory that the paramount evil chargeable against the operation of the transportation system of the United States as now conducted is unjust discrimination between persons, places, commodities, or particular descriptions of traffic, The underlying purpose and aim of the measure is the prevention of these discriminations' (Senate Report No. 46, 49th Cong. 1st Sess. p. 215).   22 The opposing argument rests upon the proviso in the 1st section of the act which, in its original form, was as follows: 'Provided, however, that the provisions of this act shall not apply to the transportation of passengers or property, or to the receiving, delivering, storage, or handling of property, wholly within one state, and not shipped to or from a foreign country from or to any state or territory as aforesaid.' When the act was amended so as to confer upon the Commission the authority to prescribe maximum interstate rates, this proviso was re-enacted; and when the act was extended to include telegraph, telephone, and cable companies engaged in interstate business, an additional clause was inserted so as to exclude intrastate messages. See acts of June 20, 1906, chap. 3591, 34 Stat. at L. 584; June 18, 1910, chap. 309, 36 Stat. at L. 539, 545, U. S. Comp. Stat. Supp. 1911, p. 1288.   23 Congress thus defined the scope of its regulation, and provided that it was not to extend to purely intrastate traffic. It did not undertake to authorize the Commission to prescribe intrastate rates, and thus to establish a unified control by the exercise of the rate-making power over both descriptions of traffic. Undoubtedly&#8212;in the absence of a finding by the Commission of unjust discrimination&#8212;intrastate rates were left to be fixed by the carrier, and subject to the authority of the states, or of the agencies created by the states. This was the question recently decided by this court in the Minnesota Rate Cases (Simpson v. Shepard) 230 U. S. 352, 57 L. ed. 1511, 48 L.R.A.(N.S.) 1151, 33 Sup. Ct. Rep. 729. There, the state of Minnesota had established reasonable rates for intrastate transportation throughout the state, and it was contended that, by reason of the passage of the act to regulate commerce, the state could no longer exercise the state-wide authority for this purpose which it had formerly enjoyed; and the court was asked to hold that an entire scheme of intrastate rates, otherwise validly established, was null and void because of its effect upon interstate rates. There had been no finding by the Interstate Commerce Commission of any unjust discrimination. The present question, however, was reserved, the court saying (230 U. S. p. 419): 'It is urged, however, that the words of the proviso' (referring to the proviso above-mentioned) 'are susceptible of a construction which would permit the provisions of &#167; 3 of the act, prohibiting carriers from giving an undue or unreasonable preference or advantage to any locality, to apply to unreasonable discriminations between localities in different states, as well when arising from an intrastate rate as compared with an interstate rate as when due to interstate rates exclusively. If it be assumed that the statute should be so construed, and it is not necessary now to decide the point, it would inevitably follow that the controlling principle governing the enforcement of the act should be applied to such cases as might thereby be brought within its purview; and the question whether the carrier, in such a case, was giving an undue or unreasonable preference or advantage to one locality as against another, or subjecting any locality to an undue or unreasonable prejudice or disadvantage, would be primarily for the investigation and determination of the interstate Commerce Commission, and not for the courts.'   24 Here, the Commission expressly found that unjust discrimination existed under substantially similar conditions of transportation, and the inquiry is whether the Commission had power to correct it. We are of the opinion that the limitation of the proviso in &#167; 1 does not apply to a case of this sort. The Commission was dealing with the relation of rates injuriously affecting, through an unreasonable discrimination, traffic that was interstate. The question was thus not simply one of transportation that was 'wholly within one state.' These words of the proviso have appropriate reference to exclusively intrastate traffic, separately considered; to the regulation of domestic commerce, as such. The powers conferred by the act are not thereby limited where interstate commerce itself is involved. This is plainly the case when the Commission finds that unjust discrimination against interstate trade arises from the relation of intrastate to interstate rates as maintained by a carrier subject to the act. Such a matter is one with which Congress alone is competent to deal, and, in view of the aim of the act and the comprehensive terms of the provisions against unjust discrimination, there is no ground for holding that the authority of Congress was unexercised, and that the subject was thus left without governmental regulation. It is urged that the practical construction of the statute has been the other way. But, in assailing the order, the appellants ask us to override the construction which has been given to the statute by the authority charged with its execution, and it cannot be said that the earlier action of the Commission was of such a controlling character as to preclude it from giving effect to the law. The Commission, having before it a plain case of unreasonable discrimination on the part of interstate carriers against interstate trade, carefully examined the question of its authority, and decided that it had the power to make this remedial order. The commerce court sustained the authority of the Commission, and it is clear that we should not reverse the decree unless the law has been misapplied. This we cannot say; on the contrary, we are convinced that the authority of the Commission was adequate.   25 The further objection is made that the prohibition of &#167; 3 is directed against unjust discrimination or undue preference only when it arises from the voluntary act of the carrier, and does not relate to acts which are the result of conditions wholly beyond its control. East Tennessee, V. &amp; G. R. Co. v. Interstate Commerce Commission, 181 U. S. 1, 18, 45 L. ed. 719, 725, 21 Sup. Ct. Rep. 516. The reference is not to any inherent lack of control arising out of traffic conditions, but to the requirements of the local authorities, which are assumed to be binding upon the carriers. The contention is thus merely a repetition in another form of the argument that the Commission exceeded its power; for it would not be contended that local rules could nullify the lawful exercise of Federal authority. In the view that the Commission was entitled to make the order, there is no longer compulsion upon the carriers by virtue of any inconsistent local requirement. We are not unmindful of the gravity of the question that is presented when state and Federal views conflict. But it was recognized at the beginning that the nation could not prosper if interstate and foreign trade were governed by many masters, and, where the interests of the freedom of interstate commerce are involved, the judgment of Congress and of the agencies it lawfully establishes must control.   26 In conclusion: Reading the order in the light of the report of the Commission, it does not appear that the Commission attempted to require the carriers to reduce their interstate rates out of Shreveport below what was found to be a reasonable charge for that service. So far as these interstate rates conformed to what was found to be reasonable by the Commission, the carriers are entitled to maintain them, and they are free to comply with the order by so adjusting the other rates, to which the order relates, as to remove the forbidden discrimination. But this result they are required to accomplish.   27 The decree of the Commerce Court is affirmed in each case.   28 Affirmed.   29 Mr. Justice Lurton and Mr. Justice Pitney dissent.    1 The Missouri, Kansas, &amp; Texas Railway Company of Texas, the St. Louis Southwestern Railway Company, and the St. Louis Southwestern Railway Company of Texas.   2 'This case being at issue upon complaint and answers on file, and having been duly heard and submitted by the parties, and full investigation of the matters and things involved having been had, and the Commission having, on the date hereof, made and filed a report containing its findings of fact and conclusions thereon, which said report is hereby referred to and made a part hereof: 'It is ordered, that defendants the Texas &amp; Pacific Railway Company, the Houston, East &amp; West Texas Railway Company, and Houston &amp; Shreveport Railroad Company, be, and they are hereby, notified and required to cease and desist, on or before the 1st day of May, 1912, and for a period of not less than two years thereafter abstain, from exacting their present class rates for the transportation of traffic from Shreveport, Louisiana, to the points in Texas hereinafter mentioned on their respective lines, as the Commission in said report finds such rates to be unjust and unreasonable. 'It is further ordered, that defendant the Texas &amp; Pacific Railway Company be, and it is hereby, notified and required to establish and put in force, on or before the 1st day of May, 1912, and maintain in force thereafter during a period of not less than two years, and apply to the transportation of traffic from Shreveport, Louisiana, to the below-named points in Texas, class rates which shall not exceed the following, in cents per 100 pounds, which rates are found by the Commission in its report to be reasonable, to wit: (rates inserted). 'It is further ordered that defendants the Houston, East &amp; West Texas Railway Company and Houston &amp; Shreveport Railroad Company be, and they are hereby, notified and required to establish and put in force, on or before the 1st day of May, 1912, and maintain in force thereafter during a period of not less than two years, and apply to the transportation of traffic from Shreveport, Louisiana, to the below-named points in Texas, class rates which shall not exceed the following, in cents per 100 pounds, which rates are found by the Commission in its report to be reasonable, to wit: (rates inserted). 'It is further ordered, that defendant the Texas &amp; Pacific Railway Company be, and it is hereby, notified and required to cease and desist, on or before the 1st day of May, 1912, and for a period of not less than two years thereafter abstain, from exacting any higher rates for the transportation of any article from Shreveport, Louisiana, to Dallas, Texas, and points on its lines intermediate thereto, than are contemporaneously exacted for the transportation of such article from Dallas, Texas, toward said Shreveport for an equal distance, as said relation of rates has been found by the Commission in said report to be reasonable. 'It is further ordered, that defendants the Houston, East &amp; West Texas Railway Company and Houston &amp; Shreveport Railroad Company be, and they are hereby, notified and required to cease and desist, on or before the 1st day of May, 1912, and for a period of not less than two years thereafter abstain, from exacting any higher rates for the transportation of any article from Shreveport, Louisiana, to Houston, Texas, and points on its line intermediate thereto, than are contemporaneously exacted for the transportation of such article from Houston, Texas, toward said Shreveport for an equal distance, as said relation of rates has been found by the Commission in said report to be reasonable. 'And it is further ordered, that said defendants be, and they are hereby, notified and required to establish and put in force, on or before the 1st day of May, 1912, and maintain in force thereafter during a period of not less than two years, substantially similar practices respecting the concentration of interstate cotton at Shreveport, Louisiana, to those which are contemporaneously observed by said defendants respecting the concentration of cotton within the state of Texas, provided the practices adopted shall be justifiable under the act to regulate commerce, and applicable fairly under like conditions elsewhere on the lines of such defendants.'   \n"
     ]
    }
   ],
   "source": [
    "with open('cleaned_shreveport.txt') as in_file:\n",
    "    text = in_file.read()\n",
    "    print(text)"
   ]
  },
  {
   "cell_type": "code",
   "execution_count": 36,
   "metadata": {},
   "outputs": [],
   "source": [
    "import lexnlp.extract.en.acts"
   ]
  },
  {
   "cell_type": "code",
   "execution_count": 35,
   "metadata": {},
   "outputs": [
    {
     "ename": "TypeError",
     "evalue": "'module' object is not iterable",
     "output_type": "error",
     "traceback": [
      "\u001b[0;31m---------------------------------------------------------------------------\u001b[0m",
      "\u001b[0;31mTypeError\u001b[0m                                 Traceback (most recent call last)",
      "\u001b[0;32m<ipython-input-35-d38f5a524497>\u001b[0m in \u001b[0;36m<module>\u001b[0;34m\u001b[0m\n\u001b[1;32m      1\u001b[0m \u001b[0;32mimport\u001b[0m \u001b[0mlexnlp\u001b[0m\u001b[0;34m.\u001b[0m\u001b[0mextract\u001b[0m\u001b[0;34m.\u001b[0m\u001b[0men\u001b[0m\u001b[0;34m.\u001b[0m\u001b[0mentities\u001b[0m\u001b[0;34m.\u001b[0m\u001b[0mnltk_re\u001b[0m\u001b[0;34m\u001b[0m\u001b[0;34m\u001b[0m\u001b[0m\n\u001b[0;32m----> 2\u001b[0;31m \u001b[0mprint\u001b[0m\u001b[0;34m(\u001b[0m\u001b[0mlist\u001b[0m\u001b[0;34m(\u001b[0m\u001b[0mlexnlp\u001b[0m\u001b[0;34m.\u001b[0m\u001b[0mextract\u001b[0m\u001b[0;34m.\u001b[0m\u001b[0men\u001b[0m\u001b[0;34m.\u001b[0m\u001b[0mentities\u001b[0m\u001b[0;34m)\u001b[0m\u001b[0;34m)\u001b[0m\u001b[0;34m\u001b[0m\u001b[0;34m\u001b[0m\u001b[0m\n\u001b[0m",
      "\u001b[0;31mTypeError\u001b[0m: 'module' object is not iterable"
     ]
    }
   ],
   "source": []
  },
  {
   "cell_type": "code",
   "execution_count": 30,
   "metadata": {},
   "outputs": [
    {
     "name": "stderr",
     "output_type": "stream",
     "text": [
      "[nltk_data] Downloading package averaged_perceptron_tagger to\n",
      "[nltk_data]     /Users/thomassullivan/nltk_data...\n",
      "[nltk_data]   Package averaged_perceptron_tagger is already up-to-\n",
      "[nltk_data]       date!\n"
     ]
    },
    {
     "data": {
      "text/plain": [
       "True"
      ]
     },
     "execution_count": 30,
     "metadata": {},
     "output_type": "execute_result"
    }
   ],
   "source": [
    "import nltk\n",
    "nltk.download('averaged_perceptron_tagger')"
   ]
  },
  {
   "cell_type": "code",
   "execution_count": 41,
   "metadata": {
    "collapsed": true,
    "jupyter": {
     "outputs_hidden": true
    }
   },
   "outputs": [
    {
     "name": "stdout",
     "output_type": "stream",
     "text": [
      "Help on package lexnlp.extract.en in lexnlp.extract:\n",
      "\n",
      "NAME\n",
      "    lexnlp.extract.en\n",
      "\n",
      "PACKAGE CONTENTS\n",
      "    acts\n",
      "    addresses (package)\n",
      "    amounts\n",
      "    citations\n",
      "    conditions\n",
      "    constraints\n",
      "    contracts (package)\n",
      "    copyright\n",
      "    courts\n",
      "    cusip\n",
      "    date_model\n",
      "    dates\n",
      "    definition_parsing_methods\n",
      "    definitions\n",
      "    dict_entities\n",
      "    distances\n",
      "    durations\n",
      "    en_language_tokens\n",
      "    entities (package)\n",
      "    geoentities\n",
      "    introductory_words_detector\n",
      "    money\n",
      "    percents\n",
      "    pii\n",
      "    preprocessing (package)\n",
      "    ratios\n",
      "    regulations\n",
      "    trademarks\n",
      "    urls\n",
      "    utils\n",
      "\n",
      "DATA\n",
      "    __copyright__ = 'Copyright 2015-2020, ContraxSuite, LLC'\n",
      "    __email__ = 'support@contraxsuite.com'\n",
      "    __license__ = 'https://github.com/LexPredict/lexpredict-lexnlp/blob/ma...\n",
      "    __maintainer__ = 'LexPredict, LLC'\n",
      "\n",
      "VERSION\n",
      "    1.6.0\n",
      "\n",
      "AUTHOR\n",
      "    ContraxSuite, LLC; LexPredict, LLC\n",
      "\n",
      "FILE\n",
      "    /Users/thomassullivan/data_science/anaconda3/envs/LexicalKnowledge/lib/python3.6/site-packages/lexnlp/extract/en/__init__.py\n",
      "\n",
      "\n"
     ]
    }
   ],
   "source": [
    "help(lexnlp.extract.en)"
   ]
  },
  {
   "cell_type": "code",
   "execution_count": null,
   "metadata": {},
   "outputs": [],
   "source": []
  }
 ],
 "metadata": {
  "kernelspec": {
   "display_name": "Python 3",
   "language": "python",
   "name": "python3"
  },
  "language_info": {
   "codemirror_mode": {
    "name": "ipython",
    "version": 3
   },
   "file_extension": ".py",
   "mimetype": "text/x-python",
   "name": "python",
   "nbconvert_exporter": "python",
   "pygments_lexer": "ipython3",
   "version": "3.6.10"
  }
 },
 "nbformat": 4,
 "nbformat_minor": 4
}
