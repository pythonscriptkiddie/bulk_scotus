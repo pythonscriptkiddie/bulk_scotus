{
 "cells": [
  {
   "cell_type": "code",
   "execution_count": 1,
   "metadata": {},
   "outputs": [],
   "source": [
    "import json"
   ]
  },
  {
   "cell_type": "code",
   "execution_count": 2,
   "metadata": {},
   "outputs": [],
   "source": [
    "def text_from_json(filename: str, dict_value: str) -> str:\n",
    "    '''Receives a json file as a filename string and returns the selected element from the file\n",
    "    as a text object\n",
    "        args:\n",
    "            filename: the filename in the directory, must exist\n",
    "            dict_value: the value we are looking for in the JSON file's key-value pairs\n",
    "            \n",
    "        '''\n",
    "    with open(filename, 'r') as in_file:\n",
    "        data=json.load(in_file)\n",
    "        data=data[dict_value]\n",
    "        return data"
   ]
  },
  {
   "cell_type": "code",
   "execution_count": 3,
   "metadata": {},
   "outputs": [],
   "source": [
    "shreveport_rate_cases = text_from_json(filename='shreveport_rate_cases.json', dict_value='html')"
   ]
  },
  {
   "cell_type": "code",
   "execution_count": 5,
   "metadata": {},
   "outputs": [],
   "source": [
    "def remove_html_tags(text):\n",
    "    \"\"\"Remove html tags from a string\"\"\"\n",
    "    import re\n",
    "    clean = re.compile('<.*?>')\n",
    "    return re.sub(clean, '', text)"
   ]
  },
  {
   "cell_type": "code",
   "execution_count": 6,
   "metadata": {},
   "outputs": [],
   "source": [
    "shreveport_rate_cases = remove_html_tags(shreveport_rate_cases)"
   ]
  },
  {
   "cell_type": "code",
   "execution_count": 10,
   "metadata": {},
   "outputs": [],
   "source": [
    "#shreveport_rate_cases"
   ]
  },
  {
   "cell_type": "code",
   "execution_count": 9,
   "metadata": {},
   "outputs": [],
   "source": [
    "def make_clean_text_one(text_file):\n",
    "    '''Takes a text file and removes the newline spaces'''\n",
    "    text_file = text_file.split('\\n')\n",
    "    text_file = [i.lstrip() for i in text_file]\n",
    "    text_file = ' '.join(text_file)\n",
    "    return text_file\n",
    "\n",
    "def save_clean_text(text_file, filename):\n",
    "    '''Save a clean text file after we have cleaned the data'''\n",
    "    with open(filename, 'w') as out_file:\n",
    "        out_file.write(text_file)"
   ]
  },
  {
   "cell_type": "code",
   "execution_count": 11,
   "metadata": {},
   "outputs": [],
   "source": [
    "shreveport_rate_cases = make_clean_text_one(text_file=shreveport_rate_cases)"
   ]
  },
  {
   "cell_type": "code",
   "execution_count": 13,
   "metadata": {},
   "outputs": [],
   "source": [
    "save_clean_text(text_file=shreveport_rate_cases, filename='cleaned_shreveport.txt')"
   ]
  },
  {
   "cell_type": "code",
   "execution_count": null,
   "metadata": {},
   "outputs": [],
   "source": []
  }
 ],
 "metadata": {
  "kernelspec": {
   "display_name": "Python 3",
   "language": "python",
   "name": "python3"
  },
  "language_info": {
   "codemirror_mode": {
    "name": "ipython",
    "version": 3
   },
   "file_extension": ".py",
   "mimetype": "text/x-python",
   "name": "python",
   "nbconvert_exporter": "python",
   "pygments_lexer": "ipython3",
   "version": "3.8.3"
  }
 },
 "nbformat": 4,
 "nbformat_minor": 4
}
