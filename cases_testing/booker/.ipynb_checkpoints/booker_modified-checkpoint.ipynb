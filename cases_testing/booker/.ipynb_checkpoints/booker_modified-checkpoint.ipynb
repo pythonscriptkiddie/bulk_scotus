{
 "cells": [
  {
   "cell_type": "code",
   "execution_count": 13,
   "metadata": {},
   "outputs": [],
   "source": [
    "#test using BlackstoneNLP\n",
    "\n",
    "#import standard library modules\n",
    "import sys\n",
    "from typing import List\n",
    "\n",
    "#modules from the community\n",
    "import spacy\n",
    "from dataclasses import dataclass #backported this module from 3.7\n",
    "import en_core_web_sm\n",
    "#import lxml\n",
    "\n",
    "from spacy import displacy\n",
    "from blackstone.displacy_palette import ner_displacy_options\n",
    "\n",
    "from blackstone.pipeline.sentence_segmenter import SentenceSegmenter\n",
    "from blackstone.rules import CITATION_PATTERNS"
   ]
  },
  {
   "cell_type": "code",
   "execution_count": 12,
   "metadata": {},
   "outputs": [],
   "source": [
    "nlp = spacy.load('en_blackstone_proto') #the blackstone model\n",
    "nlp2 = en_core_web_sm.load()\n",
    "#load sentence segmenter\n",
    "sentence_segmenter = SentenceSegmenter(nlp.vocab, CITATION_PATTERNS)\n",
    "nlp.add_pipe(sentence_segmenter, before=\"parser\")\n",
    "\n",
    "#nlp=spacy.load('en_core_web_sm') #the default spacy model"
   ]
  },
  {
   "cell_type": "code",
   "execution_count": null,
   "metadata": {},
   "outputs": [],
   "source": [
    "#get the text into a variable from the .txt file\n",
    "def text_from_file(filename: str) -> str:\n",
    "    with open(filename, 'r') as in_file:\n",
    "        data = in_file.read()\n",
    "        return data"
   ]
  },
  {
   "cell_type": "code",
   "execution_count": null,
   "metadata": {},
   "outputs": [],
   "source": [
    "#NOTE: we still need to load the doc into a model\n",
    "\n",
    "def text_from_json(filename: str, dict_value: str) -> str:\n",
    "    with open(filename, 'r') as in_file:\n",
    "        data=json.load(in_file)\n",
    "        data=data[dict_value]\n",
    "        return data\n",
    "    \n",
    "#NOTE: we don't use this function until later"
   ]
  },
  {
   "cell_type": "code",
   "execution_count": null,
   "metadata": {},
   "outputs": [],
   "source": [
    "booker_string = text_from_file('booker2.txt')"
   ]
  },
  {
   "cell_type": "code",
   "execution_count": null,
   "metadata": {},
   "outputs": [],
   "source": [
    "#let's start the model\n",
    "bx = nlp(booker_string)"
   ]
  },
  {
   "cell_type": "markdown",
   "metadata": {},
   "source": [
    "<b>In the section above we can see the law's text displayed using displaCy. We have highlighted the cases, provisions, laws, etc in the text.</b>\n"
   ]
  },
  {
   "cell_type": "code",
   "execution_count": null,
   "metadata": {},
   "outputs": [],
   "source": [
    "#display_casename_citations_filtered(doc)\n",
    "def get_casename_citations_filtered(doc):\n",
    "    #one\n",
    "    '''Takes a spacy doc object and returns a dictionary of cases using the blackstone nlp model\n",
    "    args:\n",
    "        doc: the spacy doc object\n",
    "    returns:\n",
    "        \n",
    "    '''\n",
    "    cases = (i for i in doc.ents if i.label_ == 'CASENAME')\n",
    "    actual_cases=[]\n",
    "    results = {case.text:[item for item in case] for case in cases}\n",
    "    return results\n",
    "\n",
    "def get_actual_cases(case_list: dict) -> List:\n",
    "    '''Takes the cases and removes some of the ones that are not cases\n",
    "    like the ones without a v in them'''\n",
    "    actual_cases = []\n",
    "    for k, v in case_list.items():\n",
    "        for i in v:\n",
    "            if i.text == 'v.' and i.pos_ == 'ADP' and i.dep_ == 'prep':\n",
    "            #if i.pos_ == 'ADP' and i.dep_ == 'prep':\n",
    "                actual_cases.append(k)\n",
    "    return actual_cases\n",
    "\n",
    "def get_cases_from_doc(doc):\n",
    "    return get_actual_cases(get_casename_citations_filtered(doc))"
   ]
  },
  {
   "cell_type": "code",
   "execution_count": null,
   "metadata": {},
   "outputs": [],
   "source": [
    "result_one = get_cases_from_doc(bx)"
   ]
  },
  {
   "cell_type": "code",
   "execution_count": 33,
   "metadata": {},
   "outputs": [],
   "source": [
    "def clean_case_text(case_list: List[str]) -> List[str]:\n",
    "    '''Takes a list of cases and removes the newline characters at the end'''\n",
    "    clean_cases = (str(i) for i in case_list)\n",
    "    clean_cases = (i.rstrip('\\n') for i in case_list)\n",
    "    return clean_cases"
   ]
  },
  {
   "cell_type": "code",
   "execution_count": 35,
   "metadata": {},
   "outputs": [
    {
     "name": "stdout",
     "output_type": "stream",
     "text": [
      "['Blakely v. Washington', 'Mistretta v. United States,', 'Griffith v. Kentucky', 'Mistretta v. United States', 'Stinson v. United States,', 'McMillan v. Pennsylvania', 'Witte v. United States,', '\" United States v. Watts', 'Edwards v. United States,', 'Welsh v. United States', 'Califano v. Westcott', 'Sloan v. Lemon', 'United States v. Watts', 'Koon v. United States', 'United States v. Tsosie', 'United States v. Salinas', 'United States v. Cook', 'United States v. Olabanji', 'Harper v. Virginia Dept.', 'El Paso & Northeastern R. Co. v. Gutierrez', 'Hearings on Blakely v. Washington', 'Patton v. United States', '\" Barrows v. Jackson', '\" United States v. Raines', 'Marbury v. Madison', 'Rust v. Sullivan', '\" Sloan v. Lemon', 'CompareChicago v. Morales', 'Webster v. Reproductive Health Services', 'NLRB v. Jones & Laughlin Steel Corp.,', 'Sixth Amendment violationGriffith v. Kentucky', 'Koon v. United States,', 'Renne v. Geary', 'Tennessee v. Garner', 'CfStinson v. United States,', 'Williams v. United States,', 'SeeReno v. Flores', 'Harris v. United States,', 'Monge v. California', 'Almendarez-Torres v. United States', 'United States v. Pineiro', 'United States v. Penaranda', 'State v. Gore']\n"
     ]
    }
   ],
   "source": [
    "result_one = list(clean_case_text(result_one))\n",
    "print(result_one)"
   ]
  },
  {
   "cell_type": "code",
   "execution_count": 2,
   "metadata": {},
   "outputs": [
    {
     "ename": "NameError",
     "evalue": "name 'bx' is not defined",
     "output_type": "error",
     "traceback": [
      "\u001b[0;31m---------------------------------------------------------------------------\u001b[0m",
      "\u001b[0;31mNameError\u001b[0m                                 Traceback (most recent call last)",
      "\u001b[0;32m<ipython-input-2-c9bcea742703>\u001b[0m in \u001b[0;36m<module>\u001b[0;34m\u001b[0m\n\u001b[0;32m----> 1\u001b[0;31m \u001b[0;32mfor\u001b[0m \u001b[0mtoken\u001b[0m \u001b[0;32min\u001b[0m \u001b[0mbx\u001b[0m\u001b[0;34m:\u001b[0m\u001b[0;34m\u001b[0m\u001b[0;34m\u001b[0m\u001b[0m\n\u001b[0m\u001b[1;32m      2\u001b[0m     \u001b[0mprint\u001b[0m\u001b[0;34m(\u001b[0m\u001b[0mtoken\u001b[0m\u001b[0;34m.\u001b[0m\u001b[0mtag_\u001b[0m\u001b[0;34m,\u001b[0m \u001b[0mtoken\u001b[0m\u001b[0;34m.\u001b[0m\u001b[0mdep_\u001b[0m\u001b[0;34m,\u001b[0m \u001b[0mtoken\u001b[0m\u001b[0;34m.\u001b[0m\u001b[0mpos_\u001b[0m\u001b[0;34m)\u001b[0m\u001b[0;34m\u001b[0m\u001b[0;34m\u001b[0m\u001b[0m\n",
      "\u001b[0;31mNameError\u001b[0m: name 'bx' is not defined"
     ]
    }
   ],
   "source": [
    "for token in bx:\n",
    "    print(token.tag_, token.dep_, token.pos_)"
   ]
  },
  {
   "cell_type": "code",
   "execution_count": null,
   "metadata": {},
   "outputs": [],
   "source": []
  }
 ],
 "metadata": {
  "kernelspec": {
   "display_name": "Python 3",
   "language": "python",
   "name": "python3"
  },
  "language_info": {
   "codemirror_mode": {
    "name": "ipython",
    "version": 3
   },
   "file_extension": ".py",
   "mimetype": "text/x-python",
   "name": "python",
   "nbconvert_exporter": "python",
   "pygments_lexer": "ipython3",
   "version": "3.6.10"
  }
 },
 "nbformat": 4,
 "nbformat_minor": 4
}
