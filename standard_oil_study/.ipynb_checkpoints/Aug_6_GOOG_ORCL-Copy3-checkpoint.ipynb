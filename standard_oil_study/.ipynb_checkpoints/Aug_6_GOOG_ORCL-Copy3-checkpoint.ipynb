{
 "cells": [
  {
   "cell_type": "code",
   "execution_count": 1,
   "metadata": {},
   "outputs": [],
   "source": [
    "#test using BlackstoneNLP\n",
    "import os\n",
    "import csv"
   ]
  },
  {
   "cell_type": "code",
   "execution_count": 2,
   "metadata": {},
   "outputs": [
    {
     "ename": "ModuleNotFoundError",
     "evalue": "No module named 'spacy'",
     "output_type": "error",
     "traceback": [
      "\u001b[0;31m---------------------------------------------------------------------------\u001b[0m",
      "\u001b[0;31mModuleNotFoundError\u001b[0m                       Traceback (most recent call last)",
      "\u001b[0;32m<ipython-input-2-637efe051f39>\u001b[0m in \u001b[0;36m<module>\u001b[0;34m\u001b[0m\n\u001b[1;32m     10\u001b[0m \u001b[0;34m\u001b[0m\u001b[0m\n\u001b[1;32m     11\u001b[0m \u001b[0;31m#modules from the community\u001b[0m\u001b[0;34m\u001b[0m\u001b[0;34m\u001b[0m\u001b[0;34m\u001b[0m\u001b[0m\n\u001b[0;32m---> 12\u001b[0;31m \u001b[0;32mimport\u001b[0m \u001b[0mspacy\u001b[0m\u001b[0;34m\u001b[0m\u001b[0;34m\u001b[0m\u001b[0m\n\u001b[0m\u001b[1;32m     13\u001b[0m \u001b[0;32mfrom\u001b[0m \u001b[0mdataclasses\u001b[0m \u001b[0;32mimport\u001b[0m \u001b[0mdataclass\u001b[0m \u001b[0;31m#backported this module from 3.7\u001b[0m\u001b[0;34m\u001b[0m\u001b[0;34m\u001b[0m\u001b[0m\n\u001b[1;32m     14\u001b[0m \u001b[0;34m\u001b[0m\u001b[0m\n",
      "\u001b[0;31mModuleNotFoundError\u001b[0m: No module named 'spacy'"
     ]
    }
   ],
   "source": [
    "#import standard library modules\n",
    "import sys\n",
    "import re\n",
    "import json\n",
    "from collections import Counter\n",
    "from typing import List, Any\n",
    "\n",
    "#import lexnlp\n",
    "#import lexnlp.extract.en.entities.nltk_re #entity extraction\n",
    "\n",
    "#modules from the community\n",
    "import spacy\n",
    "from dataclasses import dataclass #backported this module from 3.7\n",
    "\n",
    "#import spacy and blackstone\n",
    "\n",
    "from spacy import displacy\n",
    "from spacy.lang.en import English\n",
    "from spacy.pipeline import EntityRuler\n",
    "\n",
    "\n",
    "\n",
    "from blackstone.displacy_palette import ner_displacy_options\n",
    "\n",
    "#blackstone improved citations\n",
    "\n",
    "from blackstone.pipeline.sentence_segmenter import SentenceSegmenter\n",
    "from blackstone.pipeline.abbreviations import AbbreviationDetector\n",
    "from blackstone.pipeline.compound_cases import CompoundCases\n",
    "from blackstone.utils.legislation_linker import extract_legislation_relations\n",
    "from blackstone.rules import CITATION_PATTERNS\n",
    "\n",
    "from blackstone.pipeline import Concepts\n",
    "from blackstone.rules import CONCEPT_PATTERNS"
   ]
  },
  {
   "cell_type": "code",
   "execution_count": 3,
   "metadata": {},
   "outputs": [
    {
     "ename": "ModuleNotFoundError",
     "evalue": "No module named 'lexnlp'",
     "output_type": "error",
     "traceback": [
      "\u001b[0;31m---------------------------------------------------------------------------\u001b[0m",
      "\u001b[0;31mModuleNotFoundError\u001b[0m                       Traceback (most recent call last)",
      "\u001b[0;32m<ipython-input-3-f9912daae5b9>\u001b[0m in \u001b[0;36m<module>\u001b[0;34m\u001b[0m\n\u001b[1;32m      1\u001b[0m \u001b[0;31m#lexnlp imports\u001b[0m\u001b[0;34m\u001b[0m\u001b[0;34m\u001b[0m\u001b[0;34m\u001b[0m\u001b[0m\n\u001b[1;32m      2\u001b[0m \u001b[0;34m\u001b[0m\u001b[0m\n\u001b[0;32m----> 3\u001b[0;31m \u001b[0;32mimport\u001b[0m \u001b[0mlexnlp\u001b[0m\u001b[0;34m\u001b[0m\u001b[0;34m\u001b[0m\u001b[0m\n\u001b[0m",
      "\u001b[0;31mModuleNotFoundError\u001b[0m: No module named 'lexnlp'"
     ]
    }
   ],
   "source": [
    "#lexnlp imports\n",
    "\n",
    "import lexnlp"
   ]
  },
  {
   "cell_type": "code",
   "execution_count": 4,
   "metadata": {},
   "outputs": [
    {
     "ename": "NameError",
     "evalue": "name 'spacy' is not defined",
     "output_type": "error",
     "traceback": [
      "\u001b[0;31m---------------------------------------------------------------------------\u001b[0m",
      "\u001b[0;31mNameError\u001b[0m                                 Traceback (most recent call last)",
      "\u001b[0;32m<ipython-input-4-0c4fe1c740c8>\u001b[0m in \u001b[0;36m<module>\u001b[0;34m\u001b[0m\n\u001b[1;32m      1\u001b[0m \u001b[0;31m#let's start a new pipeline\u001b[0m\u001b[0;34m\u001b[0m\u001b[0;34m\u001b[0m\u001b[0;34m\u001b[0m\u001b[0m\n\u001b[0;32m----> 2\u001b[0;31m \u001b[0mnlp\u001b[0m \u001b[0;34m=\u001b[0m \u001b[0mspacy\u001b[0m\u001b[0;34m.\u001b[0m\u001b[0mload\u001b[0m\u001b[0;34m(\u001b[0m\u001b[0;34m'en_blackstone_proto'\u001b[0m\u001b[0;34m)\u001b[0m\u001b[0;34m\u001b[0m\u001b[0;34m\u001b[0m\u001b[0m\n\u001b[0m\u001b[1;32m      3\u001b[0m \u001b[0;31m# Add the Blackstone the abbreviation pipe to the spacy pipeline.\u001b[0m\u001b[0;34m\u001b[0m\u001b[0;34m\u001b[0m\u001b[0;34m\u001b[0m\u001b[0m\n\u001b[1;32m      4\u001b[0m \u001b[0mabbreviation_pipe\u001b[0m \u001b[0;34m=\u001b[0m \u001b[0mAbbreviationDetector\u001b[0m\u001b[0;34m(\u001b[0m\u001b[0mnlp\u001b[0m\u001b[0;34m)\u001b[0m\u001b[0;34m\u001b[0m\u001b[0;34m\u001b[0m\u001b[0m\n\u001b[1;32m      5\u001b[0m \u001b[0mnlp\u001b[0m\u001b[0;34m.\u001b[0m\u001b[0madd_pipe\u001b[0m\u001b[0;34m(\u001b[0m\u001b[0mabbreviation_pipe\u001b[0m\u001b[0;34m)\u001b[0m\u001b[0;34m\u001b[0m\u001b[0;34m\u001b[0m\u001b[0m\n",
      "\u001b[0;31mNameError\u001b[0m: name 'spacy' is not defined"
     ]
    }
   ],
   "source": [
    "#let's start a new pipeline\n",
    "nlp = spacy.load('en_blackstone_proto')\n",
    "# Add the Blackstone the abbreviation pipe to the spacy pipeline.\n",
    "abbreviation_pipe = AbbreviationDetector(nlp)\n",
    "nlp.add_pipe(abbreviation_pipe)\n",
    "\n",
    "#add the Blackstone\n",
    "compound_pipe = CompoundCases(nlp)\n",
    "nlp.add_pipe(compound_pipe)\n",
    "\n",
    "# add the Blackstone sentence_segmenter to the pipeline before the parser\n",
    "sentence_segmenter = SentenceSegmenter(nlp.vocab, CITATION_PATTERNS)\n",
    "nlp.add_pipe(sentence_segmenter, before=\"parser\")\n",
    "\n",
    "#add the concepts detector\n",
    "concepts_pipe = Concepts(nlp) \n",
    "#nlp.add_pipe(concepts_pipe)"
   ]
  },
  {
   "cell_type": "markdown",
   "metadata": {},
   "source": [
    "Now that we have loaded the Spacy model's first stages, then we will create the entityruler"
   ]
  },
  {
   "cell_type": "code",
   "execution_count": 18,
   "metadata": {},
   "outputs": [],
   "source": [
    "#with open('cleaned_companies_three.json', 'r') as in_file:\n",
    "#    result = json.load(in_file)\n",
    "#let's get the list of companies\n"
   ]
  },
  {
   "cell_type": "code",
   "execution_count": 19,
   "metadata": {},
   "outputs": [],
   "source": [
    "#concepts_pipe.ruler.add_patterns(result)"
   ]
  },
  {
   "cell_type": "code",
   "execution_count": null,
   "metadata": {},
   "outputs": [],
   "source": []
  },
  {
   "cell_type": "code",
   "execution_count": 20,
   "metadata": {},
   "outputs": [],
   "source": [
    "nlp.add_pipe(concepts_pipe)"
   ]
  },
  {
   "cell_type": "code",
   "execution_count": 21,
   "metadata": {},
   "outputs": [],
   "source": [
    "#dir(Concepts)"
   ]
  },
  {
   "cell_type": "code",
   "execution_count": 22,
   "metadata": {},
   "outputs": [],
   "source": [
    "def text_from_file(filename: str) -> str:\n",
    "    with open(filename, 'r') as in_file:\n",
    "        data = in_file.read()\n",
    "        return data\n",
    "    \n",
    "google_v_oracle = text_from_file('google_v_oracle.txt')"
   ]
  },
  {
   "cell_type": "code",
   "execution_count": 23,
   "metadata": {},
   "outputs": [],
   "source": [
    "bx=nlp(google_v_oracle)"
   ]
  },
  {
   "cell_type": "code",
   "execution_count": null,
   "metadata": {},
   "outputs": [],
   "source": []
  },
  {
   "cell_type": "code",
   "execution_count": 24,
   "metadata": {},
   "outputs": [],
   "source": [
    "#ner_displacy_options['ents'].append('ORG')"
   ]
  },
  {
   "cell_type": "code",
   "execution_count": 25,
   "metadata": {},
   "outputs": [],
   "source": [
    "#ner_displacy_options['colors']['ORG'] = '#c436da'"
   ]
  },
  {
   "cell_type": "code",
   "execution_count": 32,
   "metadata": {},
   "outputs": [],
   "source": [
    "#displacy.render(bx, style='ent', options=ner_displacy_options)#, options=ner_displacy_options)"
   ]
  },
  {
   "cell_type": "code",
   "execution_count": 30,
   "metadata": {},
   "outputs": [],
   "source": [
    "#companies = [str(i).split(',')[0] for i in lexnlp.extract.en.entities.nltk_re.get_companies(google_v_oracle)]"
   ]
  },
  {
   "cell_type": "code",
   "execution_count": 33,
   "metadata": {},
   "outputs": [],
   "source": [
    "#get the US GAAP indications\n"
   ]
  },
  {
   "cell_type": "code",
   "execution_count": 75,
   "metadata": {},
   "outputs": [],
   "source": [
    "def get_states_location(path):\n",
    "    #assert 'geopolitical_divisions.csv' in path\n",
    "    try:\n",
    "        assert 'geopolitical_divisions.csv' in os.listdir(path), 'file not present'\n",
    "    except AssertionError:\n",
    "        print('File not found')\n",
    "        print('Available files:')\n",
    "        print(os.listdir(path))\n",
    "    filename = path + '/geopolitical_divisions.csv'\n",
    "    return filename\n",
    "    #with open(path + 'geopolitical_divisions'):\n",
    "        \n",
    "    #states = [{\"label\": \"STATE\", \"pattern\": [{\"LOWER\": word.lower()} for word in company.split(' ')]} for company in cleaned_companies5]\n",
    "    #print(os.listdir(path))\n",
    "    "
   ]
  },
  {
   "cell_type": "code",
   "execution_count": 76,
   "metadata": {},
   "outputs": [],
   "source": [
    "result = get_states_location(path='/Users/thomassullivan/projects/GitHub/bulk_scotus/standard_oil_study/lexpredict-legal-dictionary-master/multi/geopolitical')"
   ]
  },
  {
   "cell_type": "code",
   "execution_count": 77,
   "metadata": {},
   "outputs": [
    {
     "name": "stdout",
     "output_type": "stream",
     "text": [
      "/Users/thomassullivan/projects/GitHub/bulk_scotus/standard_oil_study/lexpredict-legal-dictionary-master/multi/geopolitical/geopolitical_divisions.csv\n"
     ]
    }
   ],
   "source": [
    "print(result)"
   ]
  },
  {
   "cell_type": "code",
   "execution_count": 83,
   "metadata": {},
   "outputs": [],
   "source": [
    "with open(result) as in_file:\n",
    "    entities = csv.DictReader(in_file)\n",
    "    geo_entities = [i for i in entities if i['Entity Category'] == 'US States']"
   ]
  },
  {
   "cell_type": "code",
   "execution_count": 87,
   "metadata": {},
   "outputs": [
    {
     "data": {
      "text/plain": [
       "51"
      ]
     },
     "execution_count": 87,
     "metadata": {},
     "output_type": "execute_result"
    }
   ],
   "source": [
    "len(geo_entities)"
   ]
  },
  {
   "cell_type": "code",
   "execution_count": 99,
   "metadata": {},
   "outputs": [],
   "source": [
    "#this gets us the dictionary with the states\n",
    "def get_states_dicts(path):\n",
    "    '''Get a list of states in the form they are used for in the lexnlp library'''\n",
    "    try:\n",
    "        assert 'geopolitical_divisions.csv' in os.listdir(path), 'file not present'\n",
    "    except AssertionError:\n",
    "        print('File not found')\n",
    "        print('Available files:')\n",
    "        print(os.listdir(path))\n",
    "    filename = path + '/geopolitical_divisions.csv'\n",
    "    with open(filename) as in_file:\n",
    "        entities = csv.DictReader(in_file)\n",
    "        state_entities = [i for i in entities if i['Entity Category'] == 'US States']\n",
    "        return state_entities\n",
    "    \n",
    "def get_states(path):\n",
    "    states_dict = get_states_dicts(path)\n",
    "    states = [{'label': 'STATE', 'pattern': state['Entity Name']} for state in states_dict]\n",
    "    return states"
   ]
  },
  {
   "cell_type": "code",
   "execution_count": 100,
   "metadata": {},
   "outputs": [],
   "source": [
    "#states_dict = get_states_dicts('/Users/thomassullivan/projects/GitHub/bulk_scotus/standard_oil_study/lexpredict-legal-dictionary-master/multi/geopolitical')\n",
    "states = get_states(path='/Users/thomassullivan/projects/GitHub/bulk_scotus/standard_oil_study/lexpredict-legal-dictionary-master/multi/geopolitical')\n",
    "#def process_states(states):\n",
    "#    cleaned_states = [{\"label\": \"STATE\", \"pattern\": [{\"LOWER\": word.lower()} for word in state[].split(' ')]} for company in cleaned_companies5]"
   ]
  },
  {
   "cell_type": "code",
   "execution_count": 91,
   "metadata": {},
   "outputs": [],
   "source": [
    "#states = [{'label': 'STATE', 'pattern': state['Entity Name']} for state in states_dict]"
   ]
  },
  {
   "cell_type": "code",
   "execution_count": 102,
   "metadata": {},
   "outputs": [],
   "source": [
    "#states"
   ]
  },
  {
   "cell_type": "code",
   "execution_count": 103,
   "metadata": {},
   "outputs": [],
   "source": [
    "def get_common_law_terms():\n",
    "    pass"
   ]
  },
  {
   "cell_type": "code",
   "execution_count": 104,
   "metadata": {},
   "outputs": [],
   "source": [
    "def get_accounting_terms():\n",
    "    pass"
   ]
  },
  {
   "cell_type": "code",
   "execution_count": 105,
   "metadata": {},
   "outputs": [],
   "source": [
    "def get_companies():\n",
    "    pass"
   ]
  },
  {
   "cell_type": "code",
   "execution_count": null,
   "metadata": {},
   "outputs": [],
   "source": []
  }
 ],
 "metadata": {
  "kernelspec": {
   "display_name": "Python 3",
   "language": "python",
   "name": "python3"
  },
  "language_info": {
   "codemirror_mode": {
    "name": "ipython",
    "version": 3
   },
   "file_extension": ".py",
   "mimetype": "text/x-python",
   "name": "python",
   "nbconvert_exporter": "python",
   "pygments_lexer": "ipython3",
   "version": "3.7.7"
  }
 },
 "nbformat": 4,
 "nbformat_minor": 4
}
