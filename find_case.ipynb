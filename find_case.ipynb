{
 "cells": [
  {
   "cell_type": "code",
   "execution_count": 1,
   "metadata": {},
   "outputs": [],
   "source": [
    "import os\n",
    "from os import path"
   ]
  },
  {
   "cell_type": "code",
   "execution_count": 2,
   "metadata": {},
   "outputs": [
    {
     "data": {
      "text/plain": [
       "'/Users/thomassullivan/projects/GitHub/bulk_scotus'"
      ]
     },
     "execution_count": 2,
     "metadata": {},
     "output_type": "execute_result"
    }
   ],
   "source": [
    "os.getcwd()"
   ]
  },
  {
   "cell_type": "code",
   "execution_count": 3,
   "metadata": {},
   "outputs": [
    {
     "data": {
      "text/plain": [
       "['find_case.ipynb',\n",
       " '2000s',\n",
       " 'analyze.ipynb',\n",
       " 'test2.html',\n",
       " '__pycache__',\n",
       " 'stradervgraham.html',\n",
       " 'BTCInput2.py',\n",
       " 'README.md',\n",
       " '1800s',\n",
       " '1900s',\n",
       " '.ipynb_checkpoints',\n",
       " 'stats.txt',\n",
       " 'analyze_2_28.ipynb',\n",
       " '.git',\n",
       " 'LICENSE.txt',\n",
       " 'testing123.html',\n",
       " '1700s']"
      ]
     },
     "execution_count": 3,
     "metadata": {},
     "output_type": "execute_result"
    }
   ],
   "source": [
    "os.listdir('.')"
   ]
  },
  {
   "cell_type": "code",
   "execution_count": 18,
   "metadata": {},
   "outputs": [],
   "source": [
    "oswalk_scotus1 = (os.walk('1700s'))"
   ]
  },
  {
   "cell_type": "code",
   "execution_count": 10,
   "metadata": {},
   "outputs": [
    {
     "data": {
      "text/plain": [
       "<generator object walk at 0x10c384650>"
      ]
     },
     "execution_count": 10,
     "metadata": {},
     "output_type": "execute_result"
    }
   ],
   "source": [
    "oswalk_scotus1"
   ]
  },
  {
   "cell_type": "code",
   "execution_count": 19,
   "metadata": {},
   "outputs": [],
   "source": [
    "oswalk_dir = list(oswalk_scotus1)"
   ]
  },
  {
   "cell_type": "code",
   "execution_count": 23,
   "metadata": {},
   "outputs": [],
   "source": [
    "import json\n",
    "with open('docket_1.json', 'w') as in_file:\n",
    "    json.dump(oswalk_dir, in_file)"
   ]
  },
  {
   "cell_type": "code",
   "execution_count": 27,
   "metadata": {},
   "outputs": [],
   "source": [
    "with open('docket_1.json') as f:\n",
    "    new_docket = json.load(f)"
   ]
  },
  {
   "cell_type": "code",
   "execution_count": 44,
   "metadata": {},
   "outputs": [
    {
     "data": {
      "text/plain": [
       "['1700s/1773', [], ['2381753.json', '84591.json', '84590.json']]"
      ]
     },
     "execution_count": 44,
     "metadata": {},
     "output_type": "execute_result"
    }
   ],
   "source": [
    "new_docket_dir = {i[0]:j for j in i for i in new_docket[1:]}\n",
    "new_docket[1]"
   ]
  },
  {
   "cell_type": "code",
   "execution_count": 47,
   "metadata": {},
   "outputs": [],
   "source": [
    "with open('1700sdir.json', 'w') as dirfile:\n",
    "    json.dump(new_docket_dir, dirfile)"
   ]
  },
  {
   "cell_type": "code",
   "execution_count": 55,
   "metadata": {},
   "outputs": [],
   "source": [
    "oswalk_scotus2 = (os.walk('1800s'))"
   ]
  },
  {
   "cell_type": "code",
   "execution_count": 56,
   "metadata": {},
   "outputs": [],
   "source": [
    "oswalk_dir2=list(oswalk_scotus2)\n",
    "dir_1800s = {i[0]:j for j in i for i in oswalk_dir2[1:]}"
   ]
  },
  {
   "cell_type": "code",
   "execution_count": 59,
   "metadata": {},
   "outputs": [],
   "source": [
    "with open('1800sdir.json', 'w') as dirfile2:\n",
    "    json.dump(dir_1800s, dirfile2)"
   ]
  },
  {
   "cell_type": "code",
   "execution_count": 60,
   "metadata": {},
   "outputs": [],
   "source": [
    "del dir_1800s"
   ]
  },
  {
   "cell_type": "code",
   "execution_count": 62,
   "metadata": {},
   "outputs": [],
   "source": [
    "oswalk_scotus3 = (os.walk('1900s'))\n",
    "oswalk_dir3 = list(oswalk_scotus3)\n",
    "dir_1900s = {i[0]:j for j in i for i in oswalk_dir3[1:]}\n",
    "with open('1900sdir.json', 'w') as dirfile3:\n",
    "    json.dump(dir_1900s, dirfile3)\n",
    "del dir_1900s"
   ]
  },
  {
   "cell_type": "code",
   "execution_count": 64,
   "metadata": {},
   "outputs": [],
   "source": [
    "oswalk_scotus4 = (os.walk('2000s'))\n",
    "oswalk_dir4 = list(oswalk_scotus4)\n",
    "dir_2000s = {i[0]:j for j in i for i in oswalk_dir4[1:]}\n",
    "with open('2000sdir.json', 'w') as dirfile4:\n",
    "    json.dump(dir_2000s, dirfile4)\n",
    "del dir_2000s"
   ]
  },
  {
   "cell_type": "code",
   "execution_count": 10,
   "metadata": {},
   "outputs": [
    {
     "ename": "NameError",
     "evalue": "name 'default_path' is not defined",
     "output_type": "error",
     "traceback": [
      "\u001b[0;31m---------------------------------------------------------------------------\u001b[0m",
      "\u001b[0;31mNameError\u001b[0m                                 Traceback (most recent call last)",
      "\u001b[0;32m<ipython-input-10-e3e9d3fc7cb0>\u001b[0m in \u001b[0;36m<module>\u001b[0;34m\u001b[0m\n\u001b[0;32m----> 1\u001b[0;31m \u001b[0mdefault_path\u001b[0m\u001b[0;34m\u001b[0m\u001b[0;34m\u001b[0m\u001b[0m\n\u001b[0m",
      "\u001b[0;31mNameError\u001b[0m: name 'default_path' is not defined"
     ]
    }
   ],
   "source": [
    "default_path"
   ]
  },
  {
   "cell_type": "code",
   "execution_count": 8,
   "metadata": {},
   "outputs": [
    {
     "name": "stdout",
     "output_type": "stream",
     "text": [
      "/Users/thomassullivan/projects/GitHub/bulk_scotus/1700s/1754\n",
      "[Errno 2] No such file or directory: '1754'\n",
      "[Errno 2] No such file or directory: '1755'\n",
      "[Errno 2] No such file or directory: '1756'\n",
      "[Errno 2] No such file or directory: '1757'\n",
      "[Errno 2] No such file or directory: '1758'\n",
      "[Errno 2] No such file or directory: '1759'\n",
      "[Errno 2] No such file or directory: '1760'\n",
      "[Errno 2] No such file or directory: '1761'\n",
      "[Errno 2] No such file or directory: '1762'\n",
      "[Errno 2] No such file or directory: '1763'\n",
      "[Errno 2] No such file or directory: '1764'\n",
      "[Errno 2] No such file or directory: '1765'\n",
      "[Errno 2] No such file or directory: '1766'\n",
      "[Errno 2] No such file or directory: '1767'\n",
      "[Errno 2] No such file or directory: '1768'\n",
      "[Errno 2] No such file or directory: '1769'\n",
      "[Errno 2] No such file or directory: '1770'\n",
      "[Errno 2] No such file or directory: '1771'\n",
      "[Errno 2] No such file or directory: '1772'\n",
      "[Errno 2] No such file or directory: '1773'\n",
      "[Errno 2] No such file or directory: '1774'\n",
      "[Errno 2] No such file or directory: '1775'\n",
      "[Errno 2] No such file or directory: '1776'\n",
      "[Errno 2] No such file or directory: '1777'\n",
      "[Errno 2] No such file or directory: '1778'\n",
      "[Errno 2] No such file or directory: '1779'\n",
      "[Errno 2] No such file or directory: '1780'\n",
      "[Errno 2] No such file or directory: '1781'\n",
      "[Errno 2] No such file or directory: '1782'\n",
      "[Errno 2] No such file or directory: '1783'\n",
      "[Errno 2] No such file or directory: '1784'\n",
      "[Errno 2] No such file or directory: '1785'\n",
      "[Errno 2] No such file or directory: '1786'\n",
      "[Errno 2] No such file or directory: '1787'\n",
      "[Errno 2] No such file or directory: '1788'\n",
      "[Errno 2] No such file or directory: '1789'\n",
      "[Errno 2] No such file or directory: '1790'\n",
      "[Errno 2] No such file or directory: '1791'\n",
      "[Errno 2] No such file or directory: '1792'\n",
      "[Errno 2] No such file or directory: '1793'\n",
      "[Errno 2] No such file or directory: '1794'\n",
      "[Errno 2] No such file or directory: '1795'\n",
      "[Errno 2] No such file or directory: '1796'\n",
      "[Errno 2] No such file or directory: '1797'\n",
      "[Errno 2] No such file or directory: '1798'\n",
      "[Errno 2] No such file or directory: '1799'\n"
     ]
    }
   ],
   "source": [
    "import glob\n",
    "print(os.getcwd())\n",
    "for i in range(1754, 1800):\n",
    "    try:\n",
    "        os.chdir(str(i))\n",
    "    except FileNotFoundError as e:\n",
    "        print(e)"
   ]
  },
  {
   "cell_type": "code",
   "execution_count": null,
   "metadata": {},
   "outputs": [],
   "source": []
  }
 ],
 "metadata": {
  "kernelspec": {
   "display_name": "Python 3",
   "language": "python",
   "name": "python3"
  },
  "language_info": {
   "codemirror_mode": {
    "name": "ipython",
    "version": 3
   },
   "file_extension": ".py",
   "mimetype": "text/x-python",
   "name": "python",
   "nbconvert_exporter": "python",
   "pygments_lexer": "ipython3",
   "version": "3.7.5"
  }
 },
 "nbformat": 4,
 "nbformat_minor": 4
}
