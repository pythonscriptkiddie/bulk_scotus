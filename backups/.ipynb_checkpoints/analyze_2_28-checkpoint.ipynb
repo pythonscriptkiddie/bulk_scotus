{
 "cells": [
  {
   "cell_type": "markdown",
   "metadata": {},
   "source": [
    "import os\n",
    " \n",
    "rootDir = '.'\n",
    "for dirName, subdirList, fileList in os.walk(rootDir):\n",
    "    print('Found directory: %s' % dirName)\n",
    "    #for fname in fileList:\n",
    "      #  print('\\t%s' % fname)\n",
    "    # Remove the first entry in the list of sub-directories\n",
    "    # if there are any sub-directories present\n",
    "    if len(subdirList) > 0:\n",
    "        del subdirList[0]"
   ]
  },
  {
   "cell_type": "code",
   "execution_count": 1,
   "metadata": {},
   "outputs": [],
   "source": [
    "import os\n",
    "import pprint\n",
    "import cmd\n",
    "import sys\n",
    "import datetime\n",
    "import json\n",
    "from webbrowser import open_new_tab\n",
    "import itertools as it\n",
    "import BTCInput2 as btc\n",
    "#os.getcwd()"
   ]
  },
  {
   "cell_type": "code",
   "execution_count": 9,
   "metadata": {},
   "outputs": [],
   "source": [
    "default_path = '/Users/thomassullivan/projects/GitHub/bulk_scotus/'\n",
    "\n",
    "def wrapStringInHTMLMac3(program, url, body):\n",
    "    import datetime\n",
    "    from webbrowser import open_new_tab\n",
    "\n",
    "    now = datetime.datetime.today().strftime(\"%Y%m%d-%H%M%S\")\n",
    "    filename = default_path+ program + '.html'\n",
    "    f = open(filename,'w')\n",
    "\n",
    "    wrapper = \"\"\"<html>\n",
    "    <head>\n",
    "    <title>%s output - %s</title>\n",
    "    </head>\n",
    "    <body><p>URL: <a href=\\\"%s\\\">%s</a></p><p>%s</p></body>\n",
    "    </html>\"\"\"\n",
    "\n",
    "    whole = wrapper % (program, now, url, url, body)\n",
    "    f.write(whole)\n",
    "    f.close()\n",
    "\n",
    "    #Change the filepath variable below to match the location of your directory\n",
    "    filename = '/Users/thomassullivan/projects/GitHub/bulk_scotus/' + filename\n",
    "\n",
    "    open_new_tab(filename)"
   ]
  },
  {
   "cell_type": "code",
   "execution_count": 15,
   "metadata": {},
   "outputs": [],
   "source": [
    "'''Note: not all of these commands will end up being included in the final\n",
    "command line interface.\n",
    "\n",
    "Note for 2/7/20: Add WrappedHTMLFormat properties to each class that we have created.'''\n",
    "\n",
    "class ScotusCMD(cmd.Cmd):\n",
    "    '''\n",
    "    The actual content of the commands should be moved to the app.py file.\n",
    "    '''\n",
    "    prompt='ScotusSearch'\n",
    "    intro='Welcome to ScotusSearch'\n",
    "    \n",
    "    def do_hello(self, line):\n",
    "        print('hello ', line)\n",
    "        \n",
    "    def do_year_search(self, line):\n",
    "        #try:\n",
    "        os.chdir(default_path)\n",
    "        cent_values = {17: '/1700s', 18:'/1800s', 19:'/1900s', 20: '/2000s'}\n",
    "        try:\n",
    "            assert len(line) == 4, 'the year is four digits long'\n",
    "            assert line.isnumeric() == True, 'must enter a year'\n",
    "        except AssertionError:\n",
    "            print('command entered incorrectly')\n",
    "        try:\n",
    "            century = int(line[:2]) #make it into an integer to get the key\n",
    "        except ValueError:\n",
    "            print('Incorrect year format')\n",
    "        path = os.getcwd()\n",
    "        path = path + cent_values.get(century)\n",
    "        #print('the new path is', path)\n",
    "        #print(os.listdir(path))\n",
    "        path2=path + '/'+line\n",
    "        print('the path of the individual year is: {0}'.format(path2))\n",
    "        #print('these cases were decided that year:', os.listdir(path2))\n",
    "        cases = [i for i in os.listdir(path2)]\n",
    "        print(cases)\n",
    "        #cases2 = it.cycle(cases)\n",
    "        choice = btc.read_text('choose a case to view in html')\n",
    "        filename = choice + '.json'\n",
    "        if filename in cases:\n",
    "            os.chdir(path2)\n",
    "            print(os.getcwd())\n",
    "            #result = path2+'/'+choice\n",
    "            #print(path2)\n",
    "            #print(result)\n",
    "\n",
    "            with open(filename) as in_file:\n",
    "                new_case = json.load(in_file)\n",
    "            print('new case:' ,new_case.keys())\n",
    "            #print(result.keys())\n",
    "            #print(result)\n",
    "            filename_choice = btc.read_text('enter filename to save or \".\" to cancel: ')\n",
    "            if filename_choice == '.':\n",
    "                print('file creation cancelled')\n",
    "                os.chdir(default_path)\n",
    "                return\n",
    "            else:\n",
    "                wrapStringInHTMLMac3(program=filename_choice, body=new_case['html_with_citations'], url='test')\n",
    "                os.chdir(default_path)\n",
    "                \n",
    "        def do_build_directory():\n",
    "            pass\n",
    "    \n",
    "    def do_EOF(self, line):\n",
    "        return True\n",
    "    \n",
    "    def do_exit(self, arg):\n",
    "        #del arg\n",
    "        #a.close()\n",
    "        print('Exiting Roundup Generator')\n",
    "        sys.exit()"
   ]
  },
  {
   "cell_type": "code",
   "execution_count": 16,
   "metadata": {},
   "outputs": [
    {
     "name": "stdout",
     "output_type": "stream",
     "text": [
      "Welcome to ScotusSearch\n"
     ]
    },
    {
     "name": "stdin",
     "output_type": "stream",
     "text": [
      "ScotusSearch year_search 1851\n"
     ]
    },
    {
     "name": "stdout",
     "output_type": "stream",
     "text": [
      "the path of the individual year is: /Users/thomassullivan/projects/GitHub/bulk_scotus/1800s/1851\n",
      "['86648.json', '86609.json', '86672.json', '86625.json', '86633.json', '86613.json', '86644.json', '86652.json', '86594.json', '86605.json', '86629.json', '86668.json', '86628.json', '86604.json', '86595.json', '86653.json', '86645.json', '86612.json', '86665.json', '86632.json', '86624.json', '86673.json', '86608.json', '86599.json', '86649.json', '86615.json', '86642.json', '86654.json', '86603.json', '1783525.json', '86678.json', '86639.json', '86619.json', '86658.json', '86674.json', '86623.json', '86635.json', '86662.json', '86663.json', '86634.json', '86622.json', '86675.json', '86659.json', '86618.json', '86680.json', '86638.json', '86679.json', '86593.json', '86655.json', '86643.json', '86614.json', '1765367.json', '86656.json', '86640.json', '86617.json', '86660.json', '86637.json', '86621.json', '86676.json', '1765468.json', '86677.json', '86620.json', '86636.json', '86661.json', '86616.json', '86641.json', '86657.json', '86591.json', '86600.json', '86682.json', '86666.json', '.ipynb_checkpoints', '86631.json', '86627.json', '86607.json', '86596.json', '86650.json', '86646.json', '86610.json', '86647.json', '86651.json', '86606.json', 'directory_maker.ipynb', '2492577.json', '86671.json', '86626.json', '86630.json', '86667.json']\n"
     ]
    },
    {
     "name": "stdin",
     "output_type": "stream",
     "text": [
      "choose a case to view in html 86595\n"
     ]
    },
    {
     "name": "stdout",
     "output_type": "stream",
     "text": [
      "/Users/thomassullivan/projects/GitHub/bulk_scotus/1800s/1851\n",
      "new case: dict_keys(['date_blocked', 'citation', 'id', 'blocked', 'judges', 'court', 'date_filed', 'download_url', 'source', 'local_path', 'html_lawbox', 'time_retrieved', 'nature_of_suit', 'plain_text', 'html_with_citations', 'sha1', 'date_modified', 'precedential_status', 'absolute_url', 'citation_count', 'supreme_court_db_id', 'extracted_by_ocr', 'docket', 'html', 'resource_uri'])\n"
     ]
    },
    {
     "name": "stdin",
     "output_type": "stream",
     "text": [
      "enter filename to save or \".\" to cancel:  stradervgraham\n",
      "ScotusSearch exit\n"
     ]
    },
    {
     "name": "stdout",
     "output_type": "stream",
     "text": [
      "Exiting Roundup Generator\n"
     ]
    },
    {
     "ename": "SystemExit",
     "evalue": "",
     "output_type": "error",
     "traceback": [
      "An exception has occurred, use %tb to see the full traceback.\n",
      "\u001b[0;31mSystemExit\u001b[0m\n"
     ]
    }
   ],
   "source": [
    "ScotusCMD().cmdloop()"
   ]
  },
  {
   "cell_type": "code",
   "execution_count": 66,
   "metadata": {},
   "outputs": [],
   "source": [
    "#os.listdir()\n",
    "import json\n",
    "with open('/Users/thomassullivan/projects/GitHub/bulk_scotus/1700s/1999/118268.json') as in_file:\n",
    "    result = json.load(in_file)\n",
    "    \n",
    "#print(result)"
   ]
  },
  {
   "cell_type": "code",
   "execution_count": 76,
   "metadata": {},
   "outputs": [
    {
     "name": "stdout",
     "output_type": "stream",
     "text": [
      "[{'text': ''}]\n"
     ]
    }
   ],
   "source": [
    "import re\n",
    "regex_chain = re.compile(r'(text)\\\": \\\"(.*)\\\"')\n",
    "\n",
    "text_ocurrences=[]\n",
    "with open('/Users/thomassullivan/projects/GitHub/bulk_scotus/1900s/1999/118268.json') as file:\n",
    "    for line in file:\n",
    "        match = regex_chain.search(line)\n",
    "        if match:\n",
    "            text_ocurrences.append({ match.group(1) : match.group(2)})\n",
    "print(text_ocurrences)"
   ]
  },
  {
   "cell_type": "code",
   "execution_count": 95,
   "metadata": {},
   "outputs": [],
   "source": [
    "class Case(object):\n",
    "    \"\"\"\n",
    "    Turns a dictionary into a class\n",
    "    \"\"\"\n",
    "    def __init__(self, dictionary):\n",
    "        \"\"\"Constructor\"\"\"\n",
    "        for key in dictionary:\n",
    "            setattr(self, key, dictionary[key])\n",
    "            \n",
    "    \n",
    "\n",
    "new = Case(dictionary=result)\n",
    "result = new.__dict__['html_lawbox']\n",
    "\n",
    "#path='/Users/thomassullivan/projects/GitHub/bulk_scotus'\n",
    "#path += '/1800s'\n",
    "#os.listdir(path)"
   ]
  },
  {
   "cell_type": "code",
   "execution_count": 97,
   "metadata": {},
   "outputs": [],
   "source": [
    "\n",
    "    \n",
    "wrapStringInHTMLMac(program='test1', url='test', body=result)"
   ]
  },
  {
   "cell_type": "code",
   "execution_count": 83,
   "metadata": {},
   "outputs": [],
   "source": [
    "\n",
    "\n",
    "class CaseCitation(object):\n",
    "    def __init__(self, dictionary):\n",
    "        for key in dictionary['citation']:\n",
    "            try:\n",
    "                setattr(self, key, dictionary[key])\n",
    "            except KeyError:\n",
    "                continue\n",
    "\n",
    "new=CaseCitation(dictionary=result)\n",
    "#result['citation']['state_cite_three']"
   ]
  },
  {
   "cell_type": "code",
   "execution_count": 86,
   "metadata": {},
   "outputs": [
    {
     "data": {
      "text/plain": [
       "{'id': 118268, 'resource_uri': '/api/rest/v2/document/118268/'}"
      ]
     },
     "execution_count": 86,
     "metadata": {},
     "output_type": "execute_result"
    }
   ],
   "source": [
    "new.__dict__"
   ]
  },
  {
   "cell_type": "code",
   "execution_count": 7,
   "metadata": {},
   "outputs": [],
   "source": []
  },
  {
   "cell_type": "code",
   "execution_count": 8,
   "metadata": {},
   "outputs": [],
   "source": [
    "with open('805485.json') as in_file:\n",
    "    result = json.load(in_file)\n",
    "    result_obj = Case(result)"
   ]
  },
  {
   "cell_type": "code",
   "execution_count": 171,
   "metadata": {},
   "outputs": [],
   "source": [
    "os.chdir(default_path)"
   ]
  },
  {
   "cell_type": "code",
   "execution_count": 15,
   "metadata": {},
   "outputs": [
    {
     "data": {
      "text/plain": [
       "''"
      ]
     },
     "execution_count": 15,
     "metadata": {},
     "output_type": "execute_result"
    }
   ],
   "source": [
    "result_obj"
   ]
  },
  {
   "cell_type": "code",
   "execution_count": 16,
   "metadata": {},
   "outputs": [],
   "source": [
    "os.chdir('..')"
   ]
  },
  {
   "cell_type": "code",
   "execution_count": 17,
   "metadata": {},
   "outputs": [],
   "source": [
    "os.chdir('..')"
   ]
  },
  {
   "cell_type": "code",
   "execution_count": 18,
   "metadata": {},
   "outputs": [
    {
     "data": {
      "text/plain": [
       "'/Users/thomassullivan/projects/GitHub/bulk_scotus'"
      ]
     },
     "execution_count": 18,
     "metadata": {},
     "output_type": "execute_result"
    }
   ],
   "source": [
    "os.getcwd()"
   ]
  },
  {
   "cell_type": "code",
   "execution_count": null,
   "metadata": {},
   "outputs": [],
   "source": [
    "import newspaper as np"
   ]
  },
  {
   "cell_type": "code",
   "execution_count": null,
   "metadata": {},
   "outputs": [],
   "source": [
    "article1 = np.Article(result_obj.html_lawbox)"
   ]
  },
  {
   "cell_type": "code",
   "execution_count": null,
   "metadata": {},
   "outputs": [],
   "source": [
    "article1.download()"
   ]
  },
  {
   "cell_type": "code",
   "execution_count": null,
   "metadata": {},
   "outputs": [],
   "source": [
    "article1.__dict__"
   ]
  },
  {
   "cell_type": "code",
   "execution_count": null,
   "metadata": {},
   "outputs": [],
   "source": []
  }
 ],
 "metadata": {
  "kernelspec": {
   "display_name": "Python 3",
   "language": "python",
   "name": "python3"
  },
  "language_info": {
   "codemirror_mode": {
    "name": "ipython",
    "version": 3
   },
   "file_extension": ".py",
   "mimetype": "text/x-python",
   "name": "python",
   "nbconvert_exporter": "python",
   "pygments_lexer": "ipython3",
   "version": "3.7.5"
  }
 },
 "nbformat": 4,
 "nbformat_minor": 4
}
