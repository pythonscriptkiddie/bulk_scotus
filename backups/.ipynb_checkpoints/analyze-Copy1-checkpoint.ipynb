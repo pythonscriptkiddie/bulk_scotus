{
 "cells": [
  {
   "cell_type": "markdown",
   "metadata": {},
   "source": [
    "import os\n",
    " \n",
    "rootDir = '.'\n",
    "for dirName, subdirList, fileList in os.walk(rootDir):\n",
    "    print('Found directory: %s' % dirName)\n",
    "    #for fname in fileList:\n",
    "      #  print('\\t%s' % fname)\n",
    "    # Remove the first entry in the list of sub-directories\n",
    "    # if there are any sub-directories present\n",
    "    if len(subdirList) > 0:\n",
    "        del subdirList[0]"
   ]
  },
  {
   "cell_type": "code",
   "execution_count": 1,
   "metadata": {},
   "outputs": [],
   "source": [
    "import os\n",
    "import pprint\n",
    "import cmd\n",
    "import sys\n",
    "import datetime\n",
    "import json\n",
    "from webbrowser import open_new_tab\n",
    "import itertools as it\n",
    "import BTCInput2 as btc\n",
    "#os.getcwd()"
   ]
  },
  {
   "cell_type": "code",
   "execution_count": 2,
   "metadata": {},
   "outputs": [],
   "source": [
    "default_path = '/Users/thomassullivan/projects/GitHub/bulk_scotus/'\n",
    "\n",
    "def wrapStringInHTMLMac3(program, url, body):\n",
    "    import datetime\n",
    "    from webbrowser import open_new_tab\n",
    "\n",
    "    now = datetime.datetime.today().strftime(\"%Y%m%d-%H%M%S\")\n",
    "    filename = default_path+ program + '.html'\n",
    "    f = open(filename,'w')\n",
    "\n",
    "    wrapper = \"\"\"<html>\n",
    "    <head>\n",
    "    <title>%s output - %s</title>\n",
    "    </head>\n",
    "    <body><p>URL: <a href=\\\"%s\\\">%s</a></p><p>%s</p></body>\n",
    "    </html>\"\"\"\n",
    "\n",
    "    whole = wrapper % (program, now, url, url, body)\n",
    "    f.write(whole)\n",
    "    f.close()\n",
    "\n",
    "    #Change the filepath variable below to match the location of your directory\n",
    "    filename = '/Users/thomassullivan/projects/GitHub/bulk_scotus/' + filename\n",
    "\n",
    "    open_new_tab(filename)"
   ]
  },
  {
   "cell_type": "code",
   "execution_count": 7,
   "metadata": {},
   "outputs": [],
   "source": [
    "'''Note: not all of these commands will end up being included in the final\n",
    "command line interface.\n",
    "\n",
    "Note for 2/7/20: Add WrappedHTMLFormat properties to each class that we have created.'''\n",
    "\n",
    "class ScotusCMD(cmd.Cmd):\n",
    "    '''\n",
    "    The actual content of the commands should be moved to the app.py file.\n",
    "    '''\n",
    "    prompt='ScotusSearch'\n",
    "    intro='Welcome to ScotusSearch'\n",
    "    \n",
    "    def do_hello(self, line):\n",
    "        print('hello ', line)\n",
    "        \n",
    "    def do_year_search(self, line):\n",
    "        #try:\n",
    "        os.chdir(default_path)\n",
    "        cent_values = {17: '/1700s', 18:'/1800s', 19:'/1900s', 20: '/2000s'}\n",
    "        try:\n",
    "            assert len(line) == 4, 'the year is four digits long'\n",
    "            assert line.isnumeric() == True, 'must enter a year'\n",
    "        except AssertionError:\n",
    "            print('command entered incorrectly')\n",
    "        try:\n",
    "            century = int(line[:2]) #make it into an integer to get the key\n",
    "        except ValueError:\n",
    "            print('Incorrect year format')\n",
    "        path = os.getcwd()\n",
    "        path = path + cent_values.get(century)\n",
    "        #print('the new path is', path)\n",
    "        #print(os.listdir(path))\n",
    "        path2=path + '/'+line\n",
    "        print('the path of the individual year is: {0}'.format(path2))\n",
    "        #print('these cases were decided that year:', os.listdir(path2))\n",
    "        cases = [i for i in os.listdir(path2)]\n",
    "        print(cases)\n",
    "        #with open('year_directory.json') as f:\n",
    "        #    cases = json.load(f)\n",
    "        #    pprint.pprint(cases)\n",
    "        choice = btc.read_text('choose a case to view in html or \".\" to cancel: ')\n",
    "        if filename_choice == \".\":\n",
    "            print('search cancelled, returning to main menu')\n",
    "            return\n",
    "        filename = choice + '.json'\n",
    "        if filename in cases:\n",
    "            os.chdir(path2)\n",
    "            print(os.getcwd())\n",
    "            #result = path2+'/'+choice\n",
    "            #print(path2)\n",
    "            #print(result)\n",
    "            with open(filename) as in_file:\n",
    "                new_case = json.load(in_file)\n",
    "            print('new case:' ,new_case.keys())\n",
    "            #print(result.keys())\n",
    "            #print(result)\n",
    "            filename_choice = btc.read_text('enter filename to save or \".\" to cancel: ')\n",
    "            if filename_choice == '.':\n",
    "                print('file creation cancelled')\n",
    "                os.chdir(default_path)\n",
    "                return\n",
    "            else:\n",
    "                wrapStringInHTMLMac3(program=filename_choice, body=new_case['html_with_citations'], url='test')\n",
    "                os.chdir(default_path)\n",
    "    \n",
    "    def do_search_year2(self, line):\n",
    "        #try:\n",
    "        os.chdir(default_path)\n",
    "        cent_values = {17: '/1700s', 18:'/1800s', 19:'/1900s', 20: '/2000s'}\n",
    "        try:\n",
    "            assert len(line) == 4, 'the year is four digits long'\n",
    "            assert line.isnumeric() == True, 'must enter a year'\n",
    "        except AssertionError:\n",
    "            print('command entered incorrectly')\n",
    "        try:\n",
    "            century = int(line[:2]) #make it into an integer to get the key\n",
    "        except ValueError:\n",
    "            print('Incorrect year format')\n",
    "        path = os.getcwd()\n",
    "        path = path + cent_values.get(century)\n",
    "        #print('the new path is', path)\n",
    "        #print(os.listdir(path))\n",
    "        path2=path + '/'+line\n",
    "        print('the path of the individual year is: {0}'.format(path2))\n",
    "        #print('these cases were decided that year:', os.listdir(path2))\n",
    "        cases = [i for i in os.listdir(path2)]\n",
    "        #cases = None\n",
    "        dir_file = path2+'/year_directory.json'\n",
    "        with open(dir_file) as f:\n",
    "            case_dict = json.load(f)\n",
    "        print(case_dict)\n",
    "        #with open('year_directory.json') as f:\n",
    "        #    cases = json.load(f)\n",
    "        #    pprint.pprint(cases)\n",
    "        choice = btc.read_text('choose a case to view in html or \".\" to cancel: ')\n",
    "        if choice == \".\":\n",
    "            print('search cancelled, returning to main menu')\n",
    "            return\n",
    "        filename = choice + '.json'\n",
    "        if filename in cases:\n",
    "            os.chdir(path2)\n",
    "            print(os.getcwd())\n",
    "            #result = path2+'/'+choice\n",
    "            #print(path2)\n",
    "            #print(result)\n",
    "            with open(filename) as in_file:\n",
    "                new_case = json.load(in_file)\n",
    "            print('new case:' ,new_case.keys())\n",
    "            #print(result.keys())\n",
    "            #print(result)\n",
    "            filename_choice = btc.read_text('enter filename to save or \".\" to cancel: ')\n",
    "            if filename_choice == '.':\n",
    "                print('file creation cancelled')\n",
    "                os.chdir(default_path)\n",
    "                return\n",
    "            else:\n",
    "                wrapStringInHTMLMac3(program=filename_choice, body=new_case['html_with_citations'], url='test')\n",
    "                os.chdir(default_path)\n",
    "    \n",
    "    def help_year_search(self):\n",
    "        print('year_search [year]')\n",
    "        print('e.g. year_search 1999')\n",
    "    \n",
    "    def do_EOF(self, line):\n",
    "        return True\n",
    "    \n",
    "    def do_exit(self, arg):\n",
    "        #del arg\n",
    "        #a.close()\n",
    "        print('Exiting Roundup Generator')\n",
    "        sys.exit()"
   ]
  },
  {
   "cell_type": "code",
   "execution_count": 8,
   "metadata": {},
   "outputs": [
    {
     "name": "stdout",
     "output_type": "stream",
     "text": [
      "Welcome to ScotusSearch\n"
     ]
    },
    {
     "name": "stdin",
     "output_type": "stream",
     "text": [
      "ScotusSearch year_search2 1803\n"
     ]
    },
    {
     "name": "stdout",
     "output_type": "stream",
     "text": [
      "*** Unknown syntax: year_search2 1803\n"
     ]
    },
    {
     "name": "stdin",
     "output_type": "stream",
     "text": [
      "ScotusSearch search_year2 1803\n"
     ]
    },
    {
     "name": "stdout",
     "output_type": "stream",
     "text": [
      "the path of the individual year is: /Users/thomassullivan/projects/GitHub/bulk_scotus/1800s/1803\n",
      "{'Thompson v. Jameson': {'id': '84767', 'case_name': 'Thompson v. Jameson', 'date': '1803-02-26', 'judges': ''}, 'Mayor v. Mason': {'id': '84730', 'case_name': 'Mayor v. Mason', 'date': '1803-03-01', 'judges': ''}, 'Mitchell v. Smith': {'id': '2620849', 'case_name': 'Mitchell v. Smith', 'date': '1803-03-01', 'judges': ''}, 'The United States v. R. T. Hooe and Others': {'id': '84771', 'case_name': 'The United States v. R. T. Hooe and Others', 'date': '1803-02-25', 'judges': ''}, 'Hamilton v. Russel': {'id': '84770', 'case_name': 'Hamilton v. Russel', 'date': '1803-02-28', 'judges': 'Chase'}, 'Sharpless v. Welsh': {'id': '84731', 'case_name': 'Sharpless v. Welsh', 'date': '1803-09-01', 'judges': ''}, \"Fenwick v. Sears's Administrators\": {'id': '84766', 'case_name': \"Fenwick v. Sears's Administrators\", 'date': '1803-02-25', 'judges': ''}, 'Wilson, in Error v. Lenox and Maitland, in Error': {'id': '84761', 'case_name': 'Wilson, in Error v. Lenox and Maitland, in Error', 'date': '1803-02-26', 'judges': ''}, 'Lindo v. Gardner': {'id': '2620770', 'case_name': 'Lindo v. Gardner', 'date': '1803-02-28', 'judges': ''}, 'Kingston v. Girard': {'id': '2620858', 'case_name': 'Kingston v. Girard', 'date': '1803-03-01', 'judges': ''}, 'Clark v. Robert Young & Co.': {'id': '84760', 'case_name': 'Clark v. Robert Young & Co.', 'date': '1803-02-17', 'judges': ''}, 'Abercrombie v. Dupuis': {'id': '2620768', 'case_name': 'Abercrombie v. Dupuis', 'date': '1803-02-28', 'judges': ''}, 'Marbury v. Madison': {'id': '84759', 'case_name': 'Marbury v. Madison', 'date': '1803-02-24', 'judges': ''}, 'Commonwealth v. Baynton': {'id': '2620836', 'case_name': 'Commonwealth v. Baynton', 'date': '1803-09-01', 'judges': ''}, 'Lloyd v. Alexander': {'id': '84775', 'case_name': 'Lloyd v. Alexander', 'date': '1803-02-10', 'judges': 'Marshall'}, 'Hooe & Co. v. Groverman': {'id': '84763', 'case_name': 'Hooe & Co. v. Groverman', 'date': '1803-02-23', 'judges': ''}, 'Clarke v. Bazadone': {'id': '84762', 'case_name': 'Clarke v. Bazadone', 'date': '1803-02-17', 'judges': ''}, 'Hodgson v. Dexter': {'id': '84774', 'case_name': 'Hodgson v. Dexter', 'date': '1803-03-18', 'judges': ''}, 'Crousillat v. Ball': {'id': '2620821', 'case_name': 'Crousillat v. Ball', 'date': '1803-12-01', 'judges': 'Yeates'}, \"Humphries v. Blight's Assignees\": {'id': '2620856', 'case_name': \"Humphries v. Blight's Assignees\", 'date': '1803-04-01', 'judges': ''}, 'Wood v. Owings': {'id': '2620769', 'case_name': 'Wood v. Owings', 'date': '1803-03-01', 'judges': 'Chase'}, 'Marine Insurance Company of Alexandria v. James Young': {'id': '84773', 'case_name': 'Marine Insurance Company of Alexandria v. James Young', 'date': '1803-03-18', 'judges': ''}, 'Crawford v. Willing': {'id': '84732', 'case_name': 'Crawford v. Willing', 'date': '1803-12-01', 'judges': ''}, 'United States v. Simms': {'id': '84765', 'case_name': 'United States v. Simms', 'date': '1803-02-23', 'judges': ''}, 'Stuart v. Laird': {'id': '84769', 'case_name': 'Stuart v. Laird', 'date': '1803-03-18', 'judges': ''}, 'Mandeville v. Joseph Riddle & Co.': {'id': '84768', 'case_name': 'Mandeville v. Joseph Riddle & Co.', 'date': '1803-02-26', 'judges': 'Marshall'}, \"Balfour's Lessee v. Meade\": {'id': '84744', 'case_name': \"Balfour's Lessee v. Meade\", 'date': '1803-04-01', 'judges': ''}, 'Gabriel Wood, in Error v. William Owings and Job Smith, Assignees of William Robb, a Bankrupt': {'id': '84764', 'case_name': 'Gabriel Wood, in Error v. William Owings and Job Smith, Assignees of William Robb, a Bankrupt', 'date': '1803-03-18', 'judges': ''}, 'Hepburn v. Auld': {'id': '84772', 'case_name': 'Hepburn v. Auld', 'date': '1803-02-28', 'judges': ''}, 'Bell v. Beveridge': {'id': '2620870', 'case_name': 'Bell v. Beveridge', 'date': '1803-03-01', 'judges': ''}}\n"
     ]
    },
    {
     "name": "stdin",
     "output_type": "stream",
     "text": [
      "choose a case to view in html or \".\" to cancel:  84768\n"
     ]
    },
    {
     "name": "stdout",
     "output_type": "stream",
     "text": [
      "/Users/thomassullivan/projects/GitHub/bulk_scotus/1800s/1803\n",
      "new case: dict_keys(['date_blocked', 'citation', 'id', 'blocked', 'judges', 'court', 'date_filed', 'download_url', 'source', 'local_path', 'html_lawbox', 'time_retrieved', 'nature_of_suit', 'plain_text', 'html_with_citations', 'sha1', 'date_modified', 'precedential_status', 'absolute_url', 'citation_count', 'supreme_court_db_id', 'extracted_by_ocr', 'docket', 'html', 'resource_uri'])\n"
     ]
    },
    {
     "name": "stdin",
     "output_type": "stream",
     "text": [
      "enter filename to save or \".\" to cancel:  riddle\n",
      "ScotusSearch year_search2 1801\n"
     ]
    },
    {
     "name": "stdout",
     "output_type": "stream",
     "text": [
      "*** Unknown syntax: year_search2 1801\n"
     ]
    },
    {
     "name": "stdin",
     "output_type": "stream",
     "text": [
      "ScotusSearch search_year2 1801\n"
     ]
    },
    {
     "name": "stdout",
     "output_type": "stream",
     "text": [
      "the path of the individual year is: /Users/thomassullivan/projects/GitHub/bulk_scotus/1800s/1801\n",
      "{\"Austyn v. M'lure\": {'id': '84726', 'case_name': \"Austyn v. M'lure\", 'date': '1801-09-01', 'judges': ''}, 'Resler v. Shehee': {'id': '84757', 'case_name': 'Resler v. Shehee', 'date': '1801-12-11', 'judges': 'Chase'}, \"Hurst's Lessee v. Jones\": {'id': '84741', 'case_name': \"Hurst's Lessee v. Jones\", 'date': '1801-05-01', 'judges': ''}, 'The United States v. The Schooner Peggy': {'id': '84756', 'case_name': 'The United States v. The Schooner Peggy', 'date': '1801-12-21', 'judges': ''}, 'Wilson v. Mason': {'id': '84755', 'case_name': 'Wilson v. Mason', 'date': '1801-12-15', 'judges': ''}, 'Turner v. Fendall': {'id': '84758', 'case_name': 'Turner v. Fendall', 'date': '1801-12-21', 'judges': ''}, 'Talbot v. Seeman': {'id': '84754', 'case_name': 'Talbot v. Seeman', 'date': '1801-08-11', 'judges': ''}, 'Penn v. Butler. Butler v. Penn. Penn v. Penn. Same v. Same': {'id': '84742', 'case_name': 'Penn v. Butler. Butler v. Penn. Penn v. Penn. Same v. Same', 'date': '1801-05-01', 'judges': ''}, 'Commonwealth v. Dallas': {'id': '2620830', 'case_name': 'Commonwealth v. Dallas', 'date': '1801-09-01', 'judges': 'Shippen'}, 'Hollingsworth v. Duane': {'id': '2620851', 'case_name': 'Hollingsworth v. Duane', 'date': '1801-05-01', 'judges': ''}, 'Commonwealth v. Addison': {'id': '84725', 'case_name': 'Commonwealth v. Addison', 'date': '1801-03-01', 'judges': ''}}\n"
     ]
    },
    {
     "name": "stdin",
     "output_type": "stream",
     "text": [
      "choose a case to view in html or \".\" to cancel:  84756\n"
     ]
    },
    {
     "name": "stdout",
     "output_type": "stream",
     "text": [
      "/Users/thomassullivan/projects/GitHub/bulk_scotus/1800s/1801\n",
      "new case: dict_keys(['date_blocked', 'citation', 'id', 'blocked', 'judges', 'court', 'date_filed', 'download_url', 'source', 'local_path', 'html_lawbox', 'time_retrieved', 'nature_of_suit', 'plain_text', 'html_with_citations', 'sha1', 'date_modified', 'precedential_status', 'absolute_url', 'citation_count', 'supreme_court_db_id', 'extracted_by_ocr', 'docket', 'html', 'resource_uri'])\n"
     ]
    },
    {
     "name": "stdin",
     "output_type": "stream",
     "text": [
      "enter filename to save or \".\" to cancel:  schooner_peggy\n",
      "ScotusSearch exit\n"
     ]
    },
    {
     "name": "stdout",
     "output_type": "stream",
     "text": [
      "Exiting Roundup Generator\n"
     ]
    },
    {
     "ename": "SystemExit",
     "evalue": "",
     "output_type": "error",
     "traceback": [
      "An exception has occurred, use %tb to see the full traceback.\n",
      "\u001b[0;31mSystemExit\u001b[0m\n"
     ]
    }
   ],
   "source": [
    "ScotusCMD().cmdloop()"
   ]
  },
  {
   "cell_type": "code",
   "execution_count": null,
   "metadata": {},
   "outputs": [],
   "source": []
  },
  {
   "cell_type": "code",
   "execution_count": null,
   "metadata": {},
   "outputs": [],
   "source": []
  },
  {
   "cell_type": "code",
   "execution_count": null,
   "metadata": {},
   "outputs": [],
   "source": []
  },
  {
   "cell_type": "code",
   "execution_count": null,
   "metadata": {},
   "outputs": [],
   "source": []
  },
  {
   "cell_type": "code",
   "execution_count": null,
   "metadata": {},
   "outputs": [],
   "source": []
  },
  {
   "cell_type": "code",
   "execution_count": null,
   "metadata": {},
   "outputs": [],
   "source": []
  },
  {
   "cell_type": "code",
   "execution_count": 7,
   "metadata": {},
   "outputs": [],
   "source": []
  },
  {
   "cell_type": "code",
   "execution_count": null,
   "metadata": {},
   "outputs": [],
   "source": []
  },
  {
   "cell_type": "code",
   "execution_count": null,
   "metadata": {},
   "outputs": [],
   "source": []
  },
  {
   "cell_type": "code",
   "execution_count": null,
   "metadata": {},
   "outputs": [],
   "source": []
  },
  {
   "cell_type": "code",
   "execution_count": null,
   "metadata": {},
   "outputs": [],
   "source": []
  },
  {
   "cell_type": "code",
   "execution_count": null,
   "metadata": {},
   "outputs": [],
   "source": []
  }
 ],
 "metadata": {
  "kernelspec": {
   "display_name": "Python 3",
   "language": "python",
   "name": "python3"
  },
  "language_info": {
   "codemirror_mode": {
    "name": "ipython",
    "version": 3
   },
   "file_extension": ".py",
   "mimetype": "text/x-python",
   "name": "python",
   "nbconvert_exporter": "python",
   "pygments_lexer": "ipython3",
   "version": "3.7.5"
  }
 },
 "nbformat": 4,
 "nbformat_minor": 4
}
