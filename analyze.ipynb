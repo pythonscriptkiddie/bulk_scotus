{
 "cells": [
  {
   "cell_type": "markdown",
   "metadata": {},
   "source": [
    "import os\n",
    " \n",
    "rootDir = '.'\n",
    "for dirName, subdirList, fileList in os.walk(rootDir):\n",
    "    print('Found directory: %s' % dirName)\n",
    "    #for fname in fileList:\n",
    "      #  print('\\t%s' % fname)\n",
    "    # Remove the first entry in the list of sub-directories\n",
    "    # if there are any sub-directories present\n",
    "    if len(subdirList) > 0:\n",
    "        del subdirList[0]"
   ]
  },
  {
   "cell_type": "code",
   "execution_count": 7,
   "metadata": {},
   "outputs": [],
   "source": [
    "import os\n",
    "import pprint\n",
    "import cmd\n",
    "import sys\n",
    "import datetime\n",
    "import json\n",
    "from webbrowser import open_new_tab\n",
    "import itertools as it\n",
    "import BTCInput2 as btc\n",
    "#os.getcwd()"
   ]
  },
  {
   "cell_type": "code",
   "execution_count": 8,
   "metadata": {},
   "outputs": [],
   "source": [
    "default_path = '/Users/thomassullivan/projects/GitHub/bulk_scotus/'\n",
    "\n",
    "def wrapStringInHTMLMac3(program, url, body):\n",
    "    import datetime\n",
    "    from webbrowser import open_new_tab\n",
    "\n",
    "    now = datetime.datetime.today().strftime(\"%Y%m%d-%H%M%S\")\n",
    "    filename = default_path+ program + '.html'\n",
    "    f = open(filename,'w')\n",
    "\n",
    "    wrapper = \"\"\"<html>\n",
    "    <head>\n",
    "    <title>%s output - %s</title>\n",
    "    </head>\n",
    "    <body><p>URL: <a href=\\\"%s\\\">%s</a></p><p>%s</p></body>\n",
    "    </html>\"\"\"\n",
    "\n",
    "    whole = wrapper % (program, now, url, url, body)\n",
    "    f.write(whole)\n",
    "    f.close()\n",
    "\n",
    "    #Change the filepath variable below to match the location of your directory\n",
    "    filename = '/Users/thomassullivan/projects/GitHub/bulk_scotus/' + filename\n",
    "\n",
    "    open_new_tab(filename)"
   ]
  },
  {
   "cell_type": "code",
   "execution_count": 13,
   "metadata": {},
   "outputs": [],
   "source": [
    "'''Note: not all of these commands will end up being included in the final\n",
    "command line interface.\n",
    "\n",
    "Note for 2/7/20: Add WrappedHTMLFormat properties to each class that we have created.'''\n",
    "\n",
    "class ScotusCMD(cmd.Cmd):\n",
    "    '''\n",
    "    The actual content of the commands should be moved to the app.py file.\n",
    "    '''\n",
    "    prompt='ScotusSearch'\n",
    "    intro='Welcome to ScotusSearch'\n",
    "    \n",
    "    def do_hello(self, line):\n",
    "        print('hello ', line)\n",
    "        \n",
    "    def do_year_search(self, line):\n",
    "        #try:\n",
    "        os.chdir(default_path)\n",
    "        cent_values = {17: '/1700s', 18:'/1800s', 19:'/1900s', 20: '/2000s'}\n",
    "        try:\n",
    "            assert len(line) == 4, 'the year is four digits long'\n",
    "            assert line.isnumeric() == True, 'must enter a year'\n",
    "        except AssertionError:\n",
    "            print('command entered incorrectly')\n",
    "        try:\n",
    "            century = int(line[:2]) #make it into an integer to get the key\n",
    "        except ValueError:\n",
    "            print('Incorrect year format')\n",
    "        path = os.getcwd()\n",
    "        path = path + cent_values.get(century)\n",
    "        #print('the new path is', path)\n",
    "        #print(os.listdir(path))\n",
    "        path2=path + '/'+line\n",
    "        print('the path of the individual year is: {0}'.format(path2))\n",
    "        #print('these cases were decided that year:', os.listdir(path2))\n",
    "        cases = [i for i in os.listdir(path2)]\n",
    "        print(cases)\n",
    "        choice = btc.read_text('choose a case to view in html')\n",
    "        filename = choice + '.json'\n",
    "        if filename in cases:\n",
    "            os.chdir(path2)\n",
    "            print(os.getcwd())\n",
    "            #result = path2+'/'+choice\n",
    "            #print(path2)\n",
    "            #print(result)\n",
    "\n",
    "            with open(filename) as in_file:\n",
    "                new_case = json.load(in_file)\n",
    "            print('new case:' ,new_case.keys())\n",
    "            #print(result.keys())\n",
    "            #print(result)\n",
    "            filename_choice = btc.read_text('enter filename to save or \".\" to cancel: ')\n",
    "            if filename_choice == '.':\n",
    "                print('file creation cancelled')\n",
    "                os.chdir(default_path)\n",
    "                return\n",
    "            else:\n",
    "                wrapStringInHTMLMac3(program=filename_choice, body=new_case['html_with_citations'], url='test')\n",
    "                os.chdir(default_path)\n",
    "                \n",
    "    def help_year_search(self):\n",
    "        print('year_search [year]')\n",
    "        print('e.g. year_search 1999')\n",
    "    \n",
    "    def do_EOF(self, line):\n",
    "        return True\n",
    "    \n",
    "    def do_exit(self, arg):\n",
    "        #del arg\n",
    "        #a.close()\n",
    "        print('Exiting Roundup Generator')\n",
    "        sys.exit()"
   ]
  },
  {
   "cell_type": "code",
   "execution_count": 14,
   "metadata": {},
   "outputs": [
    {
     "name": "stdout",
     "output_type": "stream",
     "text": [
      "Welcome to ScotusSearch\n"
     ]
    },
    {
     "name": "stdin",
     "output_type": "stream",
     "text": [
      "ScotusSearch exit\n"
     ]
    },
    {
     "name": "stdout",
     "output_type": "stream",
     "text": [
      "Exiting Roundup Generator\n"
     ]
    },
    {
     "ename": "SystemExit",
     "evalue": "",
     "output_type": "error",
     "traceback": [
      "An exception has occurred, use %tb to see the full traceback.\n",
      "\u001b[0;31mSystemExit\u001b[0m\n"
     ]
    }
   ],
   "source": [
    "ScotusCMD().cmdloop()"
   ]
  },
  {
   "cell_type": "code",
   "execution_count": null,
   "metadata": {},
   "outputs": [],
   "source": []
  },
  {
   "cell_type": "code",
   "execution_count": null,
   "metadata": {},
   "outputs": [],
   "source": []
  },
  {
   "cell_type": "code",
   "execution_count": null,
   "metadata": {},
   "outputs": [],
   "source": []
  },
  {
   "cell_type": "code",
   "execution_count": null,
   "metadata": {},
   "outputs": [],
   "source": []
  },
  {
   "cell_type": "code",
   "execution_count": null,
   "metadata": {},
   "outputs": [],
   "source": []
  },
  {
   "cell_type": "code",
   "execution_count": null,
   "metadata": {},
   "outputs": [],
   "source": []
  },
  {
   "cell_type": "code",
   "execution_count": 7,
   "metadata": {},
   "outputs": [],
   "source": []
  },
  {
   "cell_type": "code",
   "execution_count": null,
   "metadata": {},
   "outputs": [],
   "source": []
  },
  {
   "cell_type": "code",
   "execution_count": null,
   "metadata": {},
   "outputs": [],
   "source": []
  },
  {
   "cell_type": "code",
   "execution_count": null,
   "metadata": {},
   "outputs": [],
   "source": []
  },
  {
   "cell_type": "code",
   "execution_count": null,
   "metadata": {},
   "outputs": [],
   "source": []
  },
  {
   "cell_type": "code",
   "execution_count": null,
   "metadata": {},
   "outputs": [],
   "source": []
  }
 ],
 "metadata": {
  "kernelspec": {
   "display_name": "Python 3",
   "language": "python",
   "name": "python3"
  },
  "language_info": {
   "codemirror_mode": {
    "name": "ipython",
    "version": 3
   },
   "file_extension": ".py",
   "mimetype": "text/x-python",
   "name": "python",
   "nbconvert_exporter": "python",
   "pygments_lexer": "ipython3",
   "version": "3.7.5"
  }
 },
 "nbformat": 4,
 "nbformat_minor": 4
}
