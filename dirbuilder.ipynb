{
 "cells": [
  {
   "cell_type": "code",
   "execution_count": 1,
   "metadata": {},
   "outputs": [],
   "source": [
    "def build_directory(line):\n",
    "    '''Build a directory for a given year'''\n",
    "    #try:\n",
    "    os.chdir(default_path)\n",
    "    cent_values = {17: '/1700s', 18:'/1800s', 19:'/1900s', 20: '/2000s'}\n",
    "    try:\n",
    "        assert len(line) == 4, 'the year is four digits long'\n",
    "        assert line.isnumeric() == True, 'must enter a year'\n",
    "    except AssertionError:\n",
    "        print('command entered incorrectly')\n",
    "    try:\n",
    "        century = int(line[:2]) #make it into an integer to get the key\n",
    "    except ValueError:\n",
    "        print('Incorrect year format')\n",
    "    path = os.getcwd()\n",
    "    path = path + cent_values.get(century)\n",
    "    path2=path + '/'+line\n",
    "    #print('the path of the individual year is: {0}'.format(path2))\n",
    "    cases = [i for i in os.listdir(path2)]\n",
    "    #print(cases)\n",
    "    #choice = btc.read_int_ranged('build directory (1-yes,2-no)? ',1,2)\n",
    "    #if choice == 1:\n",
    "    os.chdir(path2)\n",
    "    case_directory = {}\n",
    "    for case in cases:\n",
    "        try:\n",
    "            with open(case) as in_file:\n",
    "                new = json.load(in_file)\n",
    "                case_directory[new['citation']['case_name']] = new['id']\n",
    "        except Exception as e:\n",
    "                print(e)\n",
    "                continue\n",
    "    with open('year_directory.json', 'w') as out_file:\n",
    "        json.dump(case_directory, out_file)\n",
    "    os.chdir(default_path)\n",
    "    print('directory built')"
   ]
  },
  {
   "cell_type": "markdown",
   "metadata": {},
   "source": [
    "for i in range(1754, 1799):\n",
    "    i =str(i)\n",
    "    try:\n",
    "        build_directory(i)\n",
    "        print(i)\n",
    "    except FileNotFoundError as e:\n",
    "        print(e)"
   ]
  },
  {
   "cell_type": "code",
   "execution_count": null,
   "metadata": {},
   "outputs": [],
   "source": []
  }
 ],
 "metadata": {
  "kernelspec": {
   "display_name": "Python 3",
   "language": "python",
   "name": "python3"
  },
  "language_info": {
   "codemirror_mode": {
    "name": "ipython",
    "version": 3
   },
   "file_extension": ".py",
   "mimetype": "text/x-python",
   "name": "python",
   "nbconvert_exporter": "python",
   "pygments_lexer": "ipython3",
   "version": "3.7.5"
  }
 },
 "nbformat": 4,
 "nbformat_minor": 4
}
