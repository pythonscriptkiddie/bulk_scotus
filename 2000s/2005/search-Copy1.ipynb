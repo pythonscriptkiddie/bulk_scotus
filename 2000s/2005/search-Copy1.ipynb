{
 "cells": [
  {
   "cell_type": "code",
   "execution_count": 7,
   "metadata": {},
   "outputs": [],
   "source": [
    "import os\n",
    "import json\n",
    "files = [i for i in os.listdir()]"
   ]
  },
  {
   "cell_type": "code",
   "execution_count": 8,
   "metadata": {},
   "outputs": [
    {
     "data": {
      "text/plain": [
       "4374"
      ]
     },
     "execution_count": 8,
     "metadata": {},
     "output_type": "execute_result"
    }
   ],
   "source": [
    "len(files)"
   ]
  },
  {
   "cell_type": "code",
   "execution_count": 9,
   "metadata": {},
   "outputs": [],
   "source": [
    "with open('year_directory.json', 'r') as in_file:\n",
    "    cases = json.load(in_file)"
   ]
  },
  {
   "cell_type": "code",
   "execution_count": 10,
   "metadata": {},
   "outputs": [
    {
     "name": "stdout",
     "output_type": "stream",
     "text": [
      "Metro-Goldwyn-Mayer Studios Inc. v. Grokster, Ltd. {'id': '142932', 'case_name': 'Metro-Goldwyn-Mayer Studios Inc. v. Grokster, Ltd.', 'date': '2005-03-07', 'judges': ''}\n",
      "Metronet Services Corp. v. Qwest Corp {'id': '144832', 'case_name': 'Metronet Services Corp. v. Qwest Corp', 'date': '2005-05-23', 'judges': ''}\n"
     ]
    }
   ],
   "source": [
    "for k, v in cases.items():\n",
    "    if k.startswith('Metro'):\n",
    "        print(k, v)"
   ]
  },
  {
   "cell_type": "code",
   "execution_count": null,
   "metadata": {},
   "outputs": [],
   "source": []
  }
 ],
 "metadata": {
  "kernelspec": {
   "display_name": "Python 3",
   "language": "python",
   "name": "python3"
  },
  "language_info": {
   "codemirror_mode": {
    "name": "ipython",
    "version": 3
   },
   "file_extension": ".py",
   "mimetype": "text/x-python",
   "name": "python",
   "nbconvert_exporter": "python",
   "pygments_lexer": "ipython3",
   "version": "3.8.3"
  }
 },
 "nbformat": 4,
 "nbformat_minor": 4
}
