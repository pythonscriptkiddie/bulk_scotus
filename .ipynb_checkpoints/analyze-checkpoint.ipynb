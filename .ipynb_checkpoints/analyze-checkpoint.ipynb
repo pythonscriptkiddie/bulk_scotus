{
 "cells": [
  {
   "cell_type": "markdown",
   "metadata": {},
   "source": [
    "import os\n",
    " \n",
    "rootDir = '.'\n",
    "for dirName, subdirList, fileList in os.walk(rootDir):\n",
    "    print('Found directory: %s' % dirName)\n",
    "    #for fname in fileList:\n",
    "      #  print('\\t%s' % fname)\n",
    "    # Remove the first entry in the list of sub-directories\n",
    "    # if there are any sub-directories present\n",
    "    if len(subdirList) > 0:\n",
    "        del subdirList[0]"
   ]
  },
  {
   "cell_type": "code",
   "execution_count": 6,
   "metadata": {},
   "outputs": [],
   "source": [
    "import os\n",
    "import pprint\n",
    "import cmd2\n",
    "import sys\n",
    "import datetime\n",
    "import json\n",
    "from webbrowser import open_new_tab\n",
    "import itertools as it\n",
    "import BTCInput2 as btc\n",
    "from app import wrapStringInHTMLMac3\n",
    "#os.getcwd()"
   ]
  },
  {
   "cell_type": "code",
   "execution_count": 7,
   "metadata": {},
   "outputs": [],
   "source": [
    "default_path = '/Users/thomassullivan/projects/GitHub/bulk_scotus/'\n"
   ]
  },
  {
   "cell_type": "code",
   "execution_count": 8,
   "metadata": {},
   "outputs": [],
   "source": [
    "'''Note: not all of these commands will end up being included in the final\n",
    "command line interface.\n",
    "\n",
    "Note for 2/7/20: Add WrappedHTMLFormat properties to each class that we have created.'''\n",
    "\n",
    "class ScotusCMD(cmd2.Cmd):\n",
    "    '''\n",
    "    The actual content of the commands should be moved to the app.py file.\n",
    "    '''\n",
    "    prompt='ScotusSearch'\n",
    "    intro='Welcome to ScotusSearch'\n",
    "    \n",
    "    def do_hello(self, line):\n",
    "        print('hello ', line)\n",
    "    \n",
    "    def do_search_year(self, line):\n",
    "        try:\n",
    "            os.chdir(default_path)\n",
    "            cent_values = {17: '/1700s', 18:'/1800s', 19:'/1900s', 20: '/2000s'}\n",
    "            try:\n",
    "                assert len(line) == 4, 'the year is four digits long'\n",
    "                assert line.isnumeric() == True, 'must enter a year'\n",
    "            except AssertionError:\n",
    "                print('command entered incorrectly')\n",
    "            try:\n",
    "                century = int(line[:2]) #make it into an integer to get the key\n",
    "            except ValueError:\n",
    "                print('Incorrect year format')\n",
    "            path = os.getcwd()\n",
    "            path = path + cent_values.get(century)\n",
    "            #print('the new path is', path)\n",
    "            #print(os.listdir(path))\n",
    "            path2=path + '/'+line\n",
    "            print('the path of the individual year is: {0}'.format(path2))\n",
    "            #print('these cases were decided that year:', os.listdir(path2))\n",
    "            cases = [i for i in os.listdir(path2)]\n",
    "            #cases = None\n",
    "            dir_file = path2+'/year_directory.json'\n",
    "            with open(dir_file) as f:\n",
    "                case_dict = json.load(f)\n",
    "            for k, v in case_dict.items():\n",
    "                print(k, v['id'], v['date'], v['judges'])\n",
    "            #print(case_dict)\n",
    "            #with open('year_directory.json') as f:\n",
    "            #    cases = json.load(f)\n",
    "            #    pprint.pprint(cases)\n",
    "            choice = btc.read_text('choose a case to view in html or \".\" to cancel: ')\n",
    "            try:\n",
    "                choice = case_dict[choice]['id']\n",
    "            except KeyError:\n",
    "                print('Key not found, is this what you are looking for?')\n",
    "                #potentials = any(key.startswith(choice) for key in case_dict)\n",
    "                choice = next( (key for key in case_dict if key.startswith(choice)), None )\n",
    "                print(choice)\n",
    "                continue_choice = btc.read_int_ranged(f'Continue with {choice}? 1-yes, 2-no', 1, 2)\n",
    "                if continue_choice == 2:\n",
    "                    print('Search cancelled, return to main menu')\n",
    "                    return\n",
    "                else:\n",
    "                    choice = case_dict[choice]['id']\n",
    "                #print(choice)\n",
    "                #confirm_choice = btc.read_int_ranged('1 to accept, 2 to return to main menu', 1, 2)\n",
    "                #if confirm_choice ==2:\n",
    "                #    print('search cancelled, return to main menu')\n",
    "                #    return\n",
    "                #or i in potentials:\n",
    "                    #print(i)\n",
    "                #return\n",
    "            if choice == \".\":\n",
    "                print('search cancelled, returning to main menu')\n",
    "                return\n",
    "            filename = choice + '.json'\n",
    "            if filename in cases:\n",
    "                os.chdir(path2)\n",
    "                print(os.getcwd())\n",
    "                with open(filename) as in_file:\n",
    "                    print(filename)\n",
    "                    new_case = json.load(in_file)\n",
    "                #print('new case:' ,new_case.keys())\n",
    "                filename_choice = btc.read_text('enter filename to save or \".\" to cancel: ')\n",
    "                if filename_choice == '.':\n",
    "                    print('file creation cancelled')\n",
    "                    os.chdir(default_path)\n",
    "                    return\n",
    "                else:\n",
    "                    wrapStringInHTMLMac3(program=filename_choice,\n",
    "                                         body=new_case['html_with_citations'],\n",
    "                                         url='test', default_path=default_path)\n",
    "                    os.chdir(default_path)\n",
    "            \n",
    "        except UnboundLocalError:\n",
    "            print('year entered incorrectly')\n",
    "    \n",
    "#    def help_year_search(self):\n",
    "#        print('year_search [year]')\n",
    "#        print('e.g. year_search 1999')\n",
    "    \n",
    "    def do_EOF(self, line):\n",
    "        return True\n",
    "    \n",
    "    def do_exit(self, arg):\n",
    "        #del arg\n",
    "        #a.close()\n",
    "        print('Exiting Roundup Generator')\n",
    "        sys.exit()"
   ]
  },
  {
   "cell_type": "code",
   "execution_count": null,
   "metadata": {},
   "outputs": [
    {
     "name": "stderr",
     "output_type": "stream",
     "text": [
      "-f is not a recognized command, alias, or macro\n",
      "/Users/thomassullivan/Library/Jupyter/runtime/kernel-4288a9d1-2661-4271-aff0-ee464522da2d.json is not a recognized command, alias, or macro\n"
     ]
    },
    {
     "name": "stdout",
     "output_type": "stream",
     "text": [
      "Welcome to ScotusSearch\n"
     ]
    },
    {
     "name": "stdin",
     "output_type": "stream",
     "text": [
      " help\n"
     ]
    },
    {
     "name": "stdout",
     "output_type": "stream",
     "text": [
      "\n",
      "Documented commands (use 'help -v' for verbose/'help <topic>' for details):\n",
      "===========================================================================\n",
      "alias  help     macro  quit          run_script  shell    \n",
      "edit   history  py     run_pyscript  set         shortcuts\n",
      "\n",
      "Miscellaneous help topics:\n",
      "==========================\n",
      "year_search\n",
      "\n",
      "Undocumented commands:\n",
      "======================\n",
      "EOF  exit  hello  search_year\n",
      "\n"
     ]
    },
    {
     "name": "stdin",
     "output_type": "stream",
     "text": [
      " year_search -h\n"
     ]
    },
    {
     "name": "stderr",
     "output_type": "stream",
     "text": [
      "year_search is not a recognized command, alias, or macro\n"
     ]
    }
   ],
   "source": [
    "ScotusCMD().cmdloop()"
   ]
  },
  {
   "cell_type": "code",
   "execution_count": null,
   "metadata": {},
   "outputs": [],
   "source": []
  },
  {
   "cell_type": "code",
   "execution_count": null,
   "metadata": {},
   "outputs": [],
   "source": []
  },
  {
   "cell_type": "code",
   "execution_count": null,
   "metadata": {},
   "outputs": [],
   "source": []
  },
  {
   "cell_type": "code",
   "execution_count": null,
   "metadata": {},
   "outputs": [],
   "source": []
  },
  {
   "cell_type": "code",
   "execution_count": null,
   "metadata": {},
   "outputs": [],
   "source": []
  },
  {
   "cell_type": "code",
   "execution_count": null,
   "metadata": {},
   "outputs": [],
   "source": []
  },
  {
   "cell_type": "code",
   "execution_count": 7,
   "metadata": {},
   "outputs": [],
   "source": []
  },
  {
   "cell_type": "code",
   "execution_count": null,
   "metadata": {},
   "outputs": [],
   "source": []
  },
  {
   "cell_type": "code",
   "execution_count": null,
   "metadata": {},
   "outputs": [],
   "source": []
  },
  {
   "cell_type": "code",
   "execution_count": null,
   "metadata": {},
   "outputs": [],
   "source": []
  },
  {
   "cell_type": "code",
   "execution_count": null,
   "metadata": {},
   "outputs": [],
   "source": []
  },
  {
   "cell_type": "code",
   "execution_count": null,
   "metadata": {},
   "outputs": [],
   "source": []
  }
 ],
 "metadata": {
  "kernelspec": {
   "display_name": "Python 3",
   "language": "python",
   "name": "python3"
  },
  "language_info": {
   "codemirror_mode": {
    "name": "ipython",
    "version": 3
   },
   "file_extension": ".py",
   "mimetype": "text/x-python",
   "name": "python",
   "nbconvert_exporter": "python",
   "pygments_lexer": "ipython3",
   "version": "3.8.2"
  }
 },
 "nbformat": 4,
 "nbformat_minor": 4
}
