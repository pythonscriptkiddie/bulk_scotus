{
 "cells": [
  {
   "cell_type": "code",
   "execution_count": null,
   "metadata": {},
   "outputs": [],
   "source": [
    "import json\n",
    "import glob\n",
    "import os\n",
    "from collections import namedtuple\n",
    "from dateutil.parser import parse\n",
    "#json_files = glob.glob('*.json')\n",
    "#print(json_files)\n",
    "#os.chdir('/1700s')\n",
    "import pickle"
   ]
  },
  {
   "cell_type": "code",
   "execution_count": null,
   "metadata": {},
   "outputs": [],
   "source": [
    "#os.chdir('1800s')\n",
    "#os.getcwd()\n",
    "default_path = '/Users/thomassullivan/projects/GitHub/bulk_scotus/2000s/'"
   ]
  },
  {
   "cell_type": "code",
   "execution_count": null,
   "metadata": {},
   "outputs": [],
   "source": [
    "#Let's create a type of namedtuple for each case\n",
    "Case = namedtuple('Case', ('id', 'case_name', 'date_filed', 'judges'))"
   ]
  },
  {
   "cell_type": "code",
   "execution_count": null,
   "metadata": {},
   "outputs": [],
   "source": [
    "for i in range(2011, 2016):\n",
    "    os.chdir(default_path)\n",
    "    try:\n",
    "        i=str(i)\n",
    "        print(i)\n",
    "        print(os.getcwd())\n",
    "        os.chdir(i)\n",
    "        json_glob = glob.glob('*.json')\n",
    "        new_cases = {} #create a dictionary with the cases\n",
    "        for i in json_glob:\n",
    "            with open(i) as in_f:\n",
    "                try:\n",
    "                    print(os.getcwd())\n",
    "                    case = json.load(in_f)\n",
    "                    #new_case = Case(case['id'],case['citation']['case_name'],\n",
    "                   #                case['date_filed'],\n",
    "                   #                case['judges'])\n",
    "                    new_cases[case['citation']['case_name']] = {'id': str(case['id']),\n",
    "                                                                'case_name': case['citation']['case_name'],\n",
    "                                                               'date': case['date_filed'],\n",
    "                                                               'judges': case['judges']}\n",
    "\n",
    "                except Exception as e:\n",
    "                    print(e)\n",
    "                    continue\n",
    "        with open('year_directory.json', 'w') as out_file:\n",
    "            json.dump(new_cases, out_file)\n",
    "        os.chdir(default_path)\n",
    "    except FileNotFoundError as e:\n",
    "        print(e)\n",
    "        continue"
   ]
  },
  {
   "cell_type": "code",
   "execution_count": null,
   "metadata": {},
   "outputs": [],
   "source": [
    "import os\n",
    "os.chdir('1803')"
   ]
  },
  {
   "cell_type": "code",
   "execution_count": null,
   "metadata": {},
   "outputs": [],
   "source": [
    "os.getcwd()"
   ]
  },
  {
   "cell_type": "code",
   "execution_count": null,
   "metadata": {},
   "outputs": [],
   "source": [
    "with open('year_directory2.json') as f:\n",
    "    cases2 = json.loads(f)\n",
    "    #for case in cases2.keys():\n",
    "    #    print(case)\n",
    "    #    print(case)"
   ]
  },
  {
   "cell_type": "code",
   "execution_count": null,
   "metadata": {},
   "outputs": [],
   "source": [
    "#print(cases2)\n",
    "for i in range(1800, 1900):\n",
    "    os.chdir(default_path)\n",
    "    try:\n",
    "        i=str(i)\n",
    "        print(i)\n",
    "        print(os.getcwd())\n",
    "        os.chdir(i)\n",
    "        json_glob = glob.glob('*.json')\n",
    "        new_cases = {} #create a dictionary with the cases\n",
    "        for i in json_glob:\n",
    "            with open(i) as in_f:\n",
    "                try:\n",
    "                    print(os.getcwd())\n",
    "                    case = json.load(in_f)\n",
    "                    new_case = Case(case['id'],case['citation']['case_name'],\n",
    "                                   case['date_filed'],\n",
    "                                   case['judges'])\n",
    "                    new_cases[case['citation']['case_name']] = new_case\n",
    "\n",
    "                except Exception as e:\n",
    "                    print(e)\n",
    "                    continue\n",
    "        with open('year_directory2.json', 'w') as out_file:\n",
    "            json.dump(new_cases, out_file)\n",
    "        os.chdir(default_path)\n",
    "    except FileNotFoundError as e:\n",
    "        print(e)\n",
    "        continue"
   ]
  },
  {
   "cell_type": "code",
   "execution_count": null,
   "metadata": {},
   "outputs": [],
   "source": [
    "cases2"
   ]
  },
  {
   "cell_type": "code",
   "execution_count": null,
   "metadata": {},
   "outputs": [],
   "source": [
    "type(cases2['Bell v. Beveridge'])"
   ]
  },
  {
   "cell_type": "code",
   "execution_count": null,
   "metadata": {},
   "outputs": [],
   "source": []
  }
 ],
 "metadata": {
  "kernelspec": {
   "display_name": "Python 3",
   "language": "python",
   "name": "python3"
  },
  "language_info": {
   "codemirror_mode": {
    "name": "ipython",
    "version": 3
   },
   "file_extension": ".py",
   "mimetype": "text/x-python",
   "name": "python",
   "nbconvert_exporter": "python",
   "pygments_lexer": "ipython3",
   "version": "3.7.5"
  }
 },
 "nbformat": 4,
 "nbformat_minor": 4
}
